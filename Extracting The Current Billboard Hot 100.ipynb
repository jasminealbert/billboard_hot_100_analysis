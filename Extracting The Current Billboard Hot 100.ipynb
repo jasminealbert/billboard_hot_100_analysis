{
 "cells": [
  {
   "cell_type": "markdown",
   "id": "8b62309b",
   "metadata": {},
   "source": [
    "# Using Billboard API to extract the current chart"
   ]
  },
  {
   "cell_type": "markdown",
   "id": "8bc527b5",
   "metadata": {},
   "source": [
    "Installing the package"
   ]
  },
  {
   "cell_type": "code",
   "execution_count": 1,
   "id": "be574b97",
   "metadata": {},
   "outputs": [
    {
     "name": "stdout",
     "output_type": "stream",
     "text": [
      "Defaulting to user installation because normal site-packages is not writeable\n",
      "Collecting billboard.py\n",
      "  Downloading billboard.py-7.0.0-py2.py3-none-any.whl (7.0 kB)\n",
      "Requirement already satisfied: beautifulsoup4>=4.4.1 in c:\\programdata\\anaconda3\\lib\\site-packages (from billboard.py) (4.11.1)\n",
      "Requirement already satisfied: requests>=2.2.1 in c:\\programdata\\anaconda3\\lib\\site-packages (from billboard.py) (2.27.1)\n",
      "Requirement already satisfied: soupsieve>1.2 in c:\\programdata\\anaconda3\\lib\\site-packages (from beautifulsoup4>=4.4.1->billboard.py) (2.3.1)\n",
      "Requirement already satisfied: charset-normalizer~=2.0.0 in c:\\programdata\\anaconda3\\lib\\site-packages (from requests>=2.2.1->billboard.py) (2.0.4)\n",
      "Requirement already satisfied: idna<4,>=2.5 in c:\\programdata\\anaconda3\\lib\\site-packages (from requests>=2.2.1->billboard.py) (3.3)\n",
      "Requirement already satisfied: certifi>=2017.4.17 in c:\\programdata\\anaconda3\\lib\\site-packages (from requests>=2.2.1->billboard.py) (2021.10.8)\n",
      "Requirement already satisfied: urllib3<1.27,>=1.21.1 in c:\\programdata\\anaconda3\\lib\\site-packages (from requests>=2.2.1->billboard.py) (1.26.9)\n",
      "Installing collected packages: billboard.py\n",
      "Successfully installed billboard.py-7.0.0\n",
      "Note: you may need to restart the kernel to use updated packages.\n"
     ]
    }
   ],
   "source": [
    "pip install billboard.py"
   ]
  },
  {
   "cell_type": "markdown",
   "id": "77f4e060",
   "metadata": {},
   "source": [
    "Importing the necessary packages"
   ]
  },
  {
   "cell_type": "code",
   "execution_count": 1,
   "id": "9589d8b6",
   "metadata": {},
   "outputs": [],
   "source": [
    "import billboard\n",
    "from billboard import ChartData\n",
    "import pandas as pd"
   ]
  },
  {
   "cell_type": "markdown",
   "id": "82c815ed",
   "metadata": {},
   "source": [
    "Extracting and printing the hot 100"
   ]
  },
  {
   "cell_type": "code",
   "execution_count": 2,
   "id": "a756387c",
   "metadata": {},
   "outputs": [
    {
     "name": "stdout",
     "output_type": "stream",
     "text": [
      "hot-100 chart from 2022-12-03\n",
      "-----------------------------\n",
      "1. 'Anti-Hero' by Taylor Swift\n",
      "2. 'Rich Flex' by Drake & 21 Savage\n",
      "3. 'Unholy' by Sam Smith & Kim Petras\n",
      "4. 'Bad Habit' by Steve Lacy\n",
      "5. 'All I Want For Christmas Is You' by Mariah Carey\n",
      "6. 'Rockin' Around The Christmas Tree' by Brenda Lee\n",
      "7. 'I'm Good (Blue)' by David Guetta & Bebe Rexha\n",
      "8. 'As It Was' by Harry Styles\n",
      "9. 'Jingle Bell Rock' by Bobby Helms\n",
      "10. 'A Holly Jolly Christmas' by Burl Ives\n",
      "11. 'Lift Me Up' by Rihanna\n",
      "12. 'Die For You' by The Weeknd\n",
      "13. 'You Proof' by Morgan Wallen\n",
      "14. 'Under The Influence' by Chris Brown\n",
      "15. 'Super Freaky Girl' by Nicki Minaj\n",
      "16. 'Cuff It' by Beyonce\n",
      "17. 'Something In The Orange' by Zach Bryan\n",
      "18. 'I Like You (A Happier Song)' by Post Malone Featuring Doja Cat\n",
      "19. 'It's The Most Wonderful Time Of The Year' by Andy Williams\n",
      "20. 'Wasted On You' by Morgan Wallen\n",
      "21. 'Just Wanna Rock' by Lil Uzi Vert\n",
      "22. 'Tomorrow 2' by GloRilla & Cardi B\n",
      "23. 'Last Christmas' by Wham!\n",
      "24. 'Made You Look' by Meghan Trainor\n",
      "25. 'Vegas' by Doja Cat\n",
      "26. 'Lavender Haze' by Taylor Swift\n",
      "27. 'I Ain't Worried' by OneRepublic\n",
      "28. 'Titi Me Pregunto' by Bad Bunny\n",
      "29. 'Wait For U' by Future Featuring Drake & Tems\n",
      "30. 'Major Distribution' by Drake & 21 Savage\n",
      "31. 'Spin Bout U' by Drake & 21 Savage\n",
      "32. 'The Kind Of Love We Make' by Luke Combs\n",
      "33. 'Sunroof' by Nicky Youre & dazy\n",
      "34. 'The Christmas Song (Merry Christmas To You)' by Nat King Cole\n",
      "35. 'Golden Hour' by JVKE\n",
      "36. 'Jimmy Cooks' by Drake Featuring 21 Savage\n",
      "37. 'Circo Loco' by Drake & 21 Savage\n",
      "38. 'She Had Me At Heads Carolina' by Cole Swindell\n",
      "39. 'On BS' by Drake & 21 Savage\n",
      "40. 'Sleigh Ride' by The Ronettes\n",
      "41. 'Let It Snow, Let It Snow, Let It Snow' by Dean Martin\n",
      "42. 'Feliz Navidad' by Jose Feliciano\n",
      "43. 'It's Beginning To Look A Lot Like Christmas' by Perry Como And The Fontane Sisters With Mitchell Ayres And His Orchestra\n",
      "44. 'About Damn Time' by Lizzo\n",
      "45. 'Until I Found You' by Stephen Sanchez\n",
      "46. 'Thank God' by Kane Brown With Katelyn Brown\n",
      "47. 'Pussy & Millions' by Drake & 21 Savage Featuring Travis Scott\n",
      "48. 'Underneath The Tree' by Kelly Clarkson\n",
      "49. 'Fall In Love' by Bailey Zimmerman\n",
      "50. 'Bejeweled' by Taylor Swift\n",
      "51. 'Hold Me Closer' by Elton John & Britney Spears\n",
      "52. 'Midnight Rain' by Taylor Swift\n",
      "53. 'Wait In The Truck' by HARDY Featuring Lainey Wilson\n",
      "54. 'Rock And A Hard Place' by Bailey Zimmerman\n",
      "55. 'What My World Spins Around' by Jordan Davis\n",
      "56. 'Half Of Me' by Thomas Rhett Featuring Riley Green\n",
      "57. 'Hotel Lobby (Unc And Phew)' by Quavo & Takeoff\n",
      "58. 'Maroon' by Taylor Swift\n",
      "59. 'Victoria’s Secret' by Jax\n",
      "60. 'Don't Come Lookin'' by Jackson Dean\n",
      "61. 'Son Of A Sinner' by Jelly Roll\n",
      "62. 'Privileged Rappers' by Drake & 21 Savage\n",
      "63. 'Shirt' by SZA\n",
      "64. 'Star Walkin' (League Of Legends Worlds Anthem)' by Lil Nas X\n",
      "65. 'Karma' by Taylor Swift\n",
      "66. 'BackOutsideBoyz' by Drake\n",
      "67. 'You're On Your Own, Kid' by Taylor Swift\n",
      "68. 'Broke Boys' by Drake & 21 Savage\n",
      "69. 'Snow On The Beach' by Taylor Swift Featuring Lana Del Rey\n",
      "70. 'Hours In Silence' by Drake & 21 Savage\n",
      "71. 'Whiskey On You' by Nate Smith\n",
      "72. 'Romantic Homicide' by d4vd\n",
      "73. 'Vigilante Shit' by Taylor Swift\n",
      "74. 'Free Mind' by Tems\n",
      "75. 'Billie Eilish.' by Armani White\n",
      "76. 'Break My Heart' by Rod Wave\n",
      "77. 'Jumbotron Shit Poppin' by Drake\n",
      "78. 'Question...?' by Taylor Swift\n",
      "79. 'No Se Va' by Grupo Frontera\n",
      "80. 'Heyy' by Lil Baby\n",
      "81. 'California Breeze' by Lil Baby\n",
      "82. 'Calm Down' by Rema & Selena Gomez\n",
      "83. 'Country On' by Luke Bryan\n",
      "84. 'Mastermind' by Taylor Swift\n",
      "85. 'Treacherous Twins' by Drake & 21 Savage\n",
      "86. 'Heart Like A Truck' by Lainey Wilson\n",
      "87. 'Pick Me Up' by Gabby Barrett\n",
      "88. 'Down In Atlanta' by Pharrell Williams & Travis Scott\n",
      "89. 'Labyrinth' by Taylor Swift\n",
      "90. 'Freestyle' by Lil Baby\n",
      "91. 'Miss You' by Oliver Tree & Robin Schulz\n",
      "92. 'Sweet Nothing' by Taylor Swift\n",
      "93. 'All Mine' by Brent Faiyaz\n",
      "94. 'La Bachata' by Manuel Turizo\n",
      "95. 'Got It Right' by Rod Wave\n",
      "96. 'Die For You' by Joji\n",
      "97. 'Down Home' by Jimmie Allen\n",
      "98. 'Going, Going, Gone' by Luke Combs\n",
      "99. 'Middle Of The Ocean' by Drake\n",
      "100. 'More M’s' by Drake & 21 Savage\n"
     ]
    }
   ],
   "source": [
    "chart = billboard.ChartData('hot-100')\n",
    "print(chart)"
   ]
  },
  {
   "cell_type": "markdown",
   "id": "35ca66e9",
   "metadata": {},
   "source": [
    "Extracting each part and making a new dataframe from this"
   ]
  },
  {
   "cell_type": "code",
   "execution_count": 3,
   "id": "853973df",
   "metadata": {},
   "outputs": [],
   "source": [
    "#empty lists to append values to\n",
    "title = []\n",
    "artist = []\n",
    "weeks = []\n",
    "peakpos = []\n",
    "lastpos = []\n",
    "rank = []\n",
    "isnew = []\n",
    "#appending each entry's title, artist etc\n",
    "for i in range(len(chart)):\n",
    "    title.append(chart[i].title)\n",
    "    artist.append(chart[i].artist)\n",
    "    weeks.append(chart[i].weeks)\n",
    "    peakpos.append(chart[i].peakPos)\n",
    "    lastpos.append(chart[i].lastPos)\n",
    "    rank.append(chart[i].rank)\n",
    "    isnew.append(chart[i].isNew)\n",
    "#creating the dataframe from these lists    \n",
    "chartdf = pd.DataFrame(data = {\n",
    "    'title': title,\n",
    "    'artist': artist,\n",
    "    'peakpos': peakpos,\n",
    "    'lastpos': lastpos,\n",
    "    'rank' : rank,\n",
    "    'isnew': isnew,\n",
    "    'weeks': weeks\n",
    "})"
   ]
  },
  {
   "cell_type": "code",
   "execution_count": 4,
   "id": "7f0780d4",
   "metadata": {},
   "outputs": [
    {
     "data": {
      "text/html": [
       "<div>\n",
       "<style scoped>\n",
       "    .dataframe tbody tr th:only-of-type {\n",
       "        vertical-align: middle;\n",
       "    }\n",
       "\n",
       "    .dataframe tbody tr th {\n",
       "        vertical-align: top;\n",
       "    }\n",
       "\n",
       "    .dataframe thead th {\n",
       "        text-align: right;\n",
       "    }\n",
       "</style>\n",
       "<table border=\"1\" class=\"dataframe\">\n",
       "  <thead>\n",
       "    <tr style=\"text-align: right;\">\n",
       "      <th></th>\n",
       "      <th>title</th>\n",
       "      <th>artist</th>\n",
       "      <th>peakpos</th>\n",
       "      <th>lastpos</th>\n",
       "      <th>rank</th>\n",
       "      <th>isnew</th>\n",
       "      <th>weeks</th>\n",
       "    </tr>\n",
       "  </thead>\n",
       "  <tbody>\n",
       "    <tr>\n",
       "      <th>0</th>\n",
       "      <td>Anti-Hero</td>\n",
       "      <td>Taylor Swift</td>\n",
       "      <td>1</td>\n",
       "      <td>1</td>\n",
       "      <td>1</td>\n",
       "      <td>False</td>\n",
       "      <td>5</td>\n",
       "    </tr>\n",
       "    <tr>\n",
       "      <th>1</th>\n",
       "      <td>Rich Flex</td>\n",
       "      <td>Drake &amp; 21 Savage</td>\n",
       "      <td>2</td>\n",
       "      <td>2</td>\n",
       "      <td>2</td>\n",
       "      <td>False</td>\n",
       "      <td>3</td>\n",
       "    </tr>\n",
       "    <tr>\n",
       "      <th>2</th>\n",
       "      <td>Unholy</td>\n",
       "      <td>Sam Smith &amp; Kim Petras</td>\n",
       "      <td>1</td>\n",
       "      <td>3</td>\n",
       "      <td>3</td>\n",
       "      <td>False</td>\n",
       "      <td>9</td>\n",
       "    </tr>\n",
       "    <tr>\n",
       "      <th>3</th>\n",
       "      <td>Bad Habit</td>\n",
       "      <td>Steve Lacy</td>\n",
       "      <td>1</td>\n",
       "      <td>4</td>\n",
       "      <td>4</td>\n",
       "      <td>False</td>\n",
       "      <td>21</td>\n",
       "    </tr>\n",
       "    <tr>\n",
       "      <th>4</th>\n",
       "      <td>All I Want For Christmas Is You</td>\n",
       "      <td>Mariah Carey</td>\n",
       "      <td>1</td>\n",
       "      <td>25</td>\n",
       "      <td>5</td>\n",
       "      <td>False</td>\n",
       "      <td>53</td>\n",
       "    </tr>\n",
       "  </tbody>\n",
       "</table>\n",
       "</div>"
      ],
      "text/plain": [
       "                             title                  artist  peakpos  lastpos  \\\n",
       "0                        Anti-Hero            Taylor Swift        1        1   \n",
       "1                        Rich Flex       Drake & 21 Savage        2        2   \n",
       "2                           Unholy  Sam Smith & Kim Petras        1        3   \n",
       "3                        Bad Habit              Steve Lacy        1        4   \n",
       "4  All I Want For Christmas Is You            Mariah Carey        1       25   \n",
       "\n",
       "   rank  isnew  weeks  \n",
       "0     1  False      5  \n",
       "1     2  False      3  \n",
       "2     3  False      9  \n",
       "3     4  False     21  \n",
       "4     5  False     53  "
      ]
     },
     "execution_count": 4,
     "metadata": {},
     "output_type": "execute_result"
    }
   ],
   "source": [
    "#looking at the dataframe\n",
    "chartdf.head()"
   ]
  },
  {
   "cell_type": "markdown",
   "id": "63147436",
   "metadata": {},
   "source": [
    "## Save this as CSV to use in PowerBI"
   ]
  },
  {
   "cell_type": "code",
   "execution_count": 6,
   "id": "2897a0a8",
   "metadata": {},
   "outputs": [],
   "source": [
    "chartdf.to_csv('currentchartnow.csv')"
   ]
  }
 ],
 "metadata": {
  "kernelspec": {
   "display_name": "Python 3 (ipykernel)",
   "language": "python",
   "name": "python3"
  },
  "language_info": {
   "codemirror_mode": {
    "name": "ipython",
    "version": 3
   },
   "file_extension": ".py",
   "mimetype": "text/x-python",
   "name": "python",
   "nbconvert_exporter": "python",
   "pygments_lexer": "ipython3",
   "version": "3.9.12"
  }
 },
 "nbformat": 4,
 "nbformat_minor": 5
}
