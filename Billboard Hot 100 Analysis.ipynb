{
 "cells": [
  {
   "cell_type": "code",
   "execution_count": null,
   "id": "8d6e8f2f",
   "metadata": {},
   "outputs": [],
   "source": [
    "#https://github.com/gouravdidwania/Song-Popularity-Prediction"
   ]
  },
  {
   "cell_type": "markdown",
   "id": "5496dd69",
   "metadata": {},
   "source": [
    "# Importing the data from github CSV"
   ]
  },
  {
   "cell_type": "code",
   "execution_count": 1,
   "id": "423464ea",
   "metadata": {},
   "outputs": [],
   "source": [
    "#importing libraries\n",
    "import pandas as pd\n",
    "import time"
   ]
  },
  {
   "cell_type": "code",
   "execution_count": 2,
   "id": "5560b14f",
   "metadata": {},
   "outputs": [],
   "source": [
    "#assigning to dataframe\n",
    "total = pd.read_csv('https://raw.githubusercontent.com/HipsterVizNinja/random-data/main/Music/hot-100/Hot%20100.csv')"
   ]
  },
  {
   "cell_type": "markdown",
   "id": "016fcf6f",
   "metadata": {},
   "source": [
    "## Looking at the data"
   ]
  },
  {
   "cell_type": "code",
   "execution_count": 3,
   "id": "0c010568",
   "metadata": {},
   "outputs": [
    {
     "data": {
      "text/html": [
       "<div>\n",
       "<style scoped>\n",
       "    .dataframe tbody tr th:only-of-type {\n",
       "        vertical-align: middle;\n",
       "    }\n",
       "\n",
       "    .dataframe tbody tr th {\n",
       "        vertical-align: top;\n",
       "    }\n",
       "\n",
       "    .dataframe thead th {\n",
       "        text-align: right;\n",
       "    }\n",
       "</style>\n",
       "<table border=\"1\" class=\"dataframe\">\n",
       "  <thead>\n",
       "    <tr style=\"text-align: right;\">\n",
       "      <th></th>\n",
       "      <th>chart_position</th>\n",
       "      <th>chart_date</th>\n",
       "      <th>song</th>\n",
       "      <th>performer</th>\n",
       "      <th>song_id</th>\n",
       "      <th>instance</th>\n",
       "      <th>time_on_chart</th>\n",
       "      <th>consecutive_weeks</th>\n",
       "      <th>previous_week</th>\n",
       "      <th>peak_position</th>\n",
       "      <th>worst_position</th>\n",
       "      <th>chart_debut</th>\n",
       "      <th>chart_url</th>\n",
       "    </tr>\n",
       "  </thead>\n",
       "  <tbody>\n",
       "    <tr>\n",
       "      <th>0</th>\n",
       "      <td>84</td>\n",
       "      <td>1990-05-05</td>\n",
       "      <td>\"B\" Girls</td>\n",
       "      <td>Young And Restless</td>\n",
       "      <td>\"B\" GirlsYoung And Restless</td>\n",
       "      <td>1.0</td>\n",
       "      <td>1</td>\n",
       "      <td>NaN</td>\n",
       "      <td>NaN</td>\n",
       "      <td>84</td>\n",
       "      <td>84</td>\n",
       "      <td>1990-05-05</td>\n",
       "      <td>https://www.billboard.com/charts/hot-100/1990-...</td>\n",
       "    </tr>\n",
       "    <tr>\n",
       "      <th>1</th>\n",
       "      <td>78</td>\n",
       "      <td>1990-05-12</td>\n",
       "      <td>\"B\" Girls</td>\n",
       "      <td>Young And Restless</td>\n",
       "      <td>\"B\" GirlsYoung And Restless</td>\n",
       "      <td>1.0</td>\n",
       "      <td>2</td>\n",
       "      <td>1.0</td>\n",
       "      <td>84.0</td>\n",
       "      <td>78</td>\n",
       "      <td>84</td>\n",
       "      <td>1990-05-05</td>\n",
       "      <td>https://www.billboard.com/charts/hot-100/1990-...</td>\n",
       "    </tr>\n",
       "  </tbody>\n",
       "</table>\n",
       "</div>"
      ],
      "text/plain": [
       "   chart_position  chart_date       song           performer  \\\n",
       "0              84  1990-05-05  \"B\" Girls  Young And Restless   \n",
       "1              78  1990-05-12  \"B\" Girls  Young And Restless   \n",
       "\n",
       "                       song_id  instance  time_on_chart  consecutive_weeks  \\\n",
       "0  \"B\" GirlsYoung And Restless       1.0              1                NaN   \n",
       "1  \"B\" GirlsYoung And Restless       1.0              2                1.0   \n",
       "\n",
       "   previous_week  peak_position  worst_position chart_debut  \\\n",
       "0            NaN             84              84  1990-05-05   \n",
       "1           84.0             78              84  1990-05-05   \n",
       "\n",
       "                                           chart_url  \n",
       "0  https://www.billboard.com/charts/hot-100/1990-...  \n",
       "1  https://www.billboard.com/charts/hot-100/1990-...  "
      ]
     },
     "execution_count": 3,
     "metadata": {},
     "output_type": "execute_result"
    }
   ],
   "source": [
    "#look at top of data\n",
    "total.head(2)"
   ]
  },
  {
   "cell_type": "markdown",
   "id": "2d9302cb",
   "metadata": {},
   "source": [
    "Chart URL and song ID can be dropped as these are not needed"
   ]
  },
  {
   "cell_type": "code",
   "execution_count": 284,
   "id": "7cbb3b45",
   "metadata": {},
   "outputs": [],
   "source": [
    "#dropping columns\n",
    "total.drop(columns = ['chart_url', 'song_id'], inplace = True)"
   ]
  },
  {
   "cell_type": "markdown",
   "id": "861d687d",
   "metadata": {},
   "source": [
    "Finding earliest chart date and checking nulls"
   ]
  },
  {
   "cell_type": "code",
   "execution_count": 16,
   "id": "074ed9a5",
   "metadata": {},
   "outputs": [
    {
     "data": {
      "text/plain": [
       "'1958-08-02'"
      ]
     },
     "execution_count": 16,
     "metadata": {},
     "output_type": "execute_result"
    }
   ],
   "source": [
    "min(total['chart_date'])"
   ]
  },
  {
   "cell_type": "code",
   "execution_count": 18,
   "id": "2902d052",
   "metadata": {},
   "outputs": [
    {
     "data": {
      "text/plain": [
       "chart_position           0\n",
       "chart_date               0\n",
       "song                     0\n",
       "performer                0\n",
       "instance                 0\n",
       "time_on_chart            0\n",
       "consecutive_weeks    33128\n",
       "previous_week        33128\n",
       "peak_position            0\n",
       "worst_position           0\n",
       "chart_debut              0\n",
       "dtype: int64"
      ]
     },
     "execution_count": 18,
     "metadata": {},
     "output_type": "execute_result"
    }
   ],
   "source": [
    "total.isnull().sum()"
   ]
  },
  {
   "cell_type": "markdown",
   "id": "e30a0c77",
   "metadata": {},
   "source": [
    "Adding a new column to see if a song is making its debut in this entry"
   ]
  },
  {
   "cell_type": "code",
   "execution_count": 286,
   "id": "66e4c501",
   "metadata": {},
   "outputs": [],
   "source": [
    "#empty list to append values to\n",
    "isnew = []\n",
    "# 1 if song is new, 0 if not\n",
    "for i in range(len(total['chart_debut'])):\n",
    "    if total['chart_debut'][i] == total['chart_date'][i]:\n",
    "        isnew.append(1)\n",
    "    else:\n",
    "        isnew.append(0)\n",
    "#adding this column to the dataframe\n",
    "total['is_new'] = isnew"
   ]
  },
  {
   "cell_type": "markdown",
   "id": "a2da2b86",
   "metadata": {},
   "source": [
    "Altering the data types"
   ]
  },
  {
   "cell_type": "code",
   "execution_count": 287,
   "id": "232735b4",
   "metadata": {},
   "outputs": [],
   "source": [
    "#changing data types to datetime\n",
    "total['chart_date'] = pd.to_datetime(total['chart_date'])\n",
    "total['chart_debut'] = pd.to_datetime(total['chart_debut'])"
   ]
  },
  {
   "cell_type": "markdown",
   "id": "1271ee7e",
   "metadata": {},
   "source": [
    "Filtering the data to be older than 25/7/2015, when some rules changed about how long a song is in the charts for and when the chart week is."
   ]
  },
  {
   "cell_type": "code",
   "execution_count": 291,
   "id": "6ff3de60",
   "metadata": {},
   "outputs": [
    {
     "name": "stderr",
     "output_type": "stream",
     "text": [
      "C:\\Users\\JasmineAlbert\\AppData\\Local\\Temp\\ipykernel_13468\\1094986372.py:3: SettingWithCopyWarning: \n",
      "A value is trying to be set on a copy of a slice from a DataFrame\n",
      "\n",
      "See the caveats in the documentation: https://pandas.pydata.org/pandas-docs/stable/user_guide/indexing.html#returning-a-view-versus-a-copy\n",
      "  data.drop(columns = ['index'], inplace = True)\n"
     ]
    }
   ],
   "source": [
    "#filtering from when time constraints added\n",
    "data = total[total['chart_date']>='2015-07-25']\n",
    "#resetting the index and dropping old index column\n",
    "data.reset_index(inplace = True)\n",
    "data.drop(columns = ['index'], inplace = True)"
   ]
  },
  {
   "cell_type": "markdown",
   "id": "3de1b5aa",
   "metadata": {},
   "source": [
    "Creating the peak, worst, max consecutive and total weeks for each song so they can be reduced to one entry per song"
   ]
  },
  {
   "cell_type": "code",
   "execution_count": 290,
   "id": "c9019d2c",
   "metadata": {},
   "outputs": [
    {
     "data": {
      "text/plain": [
       "[71, 71, 71, 71, 71, 71, 71, 71, 71, 71]"
      ]
     },
     "execution_count": 290,
     "metadata": {},
     "output_type": "execute_result"
    }
   ],
   "source": [
    "#creating empty list\n",
    "peak = []\n",
    "#setting song and artist to first one\n",
    "song = data['song'][0]\n",
    "artist = data['performer'][0]\n",
    "#if first artist and song then append the minimum in the peak column for this song\n",
    "#else change artist and song then append minimum in peak for that song\n",
    "for i in range(len(data['song'])):\n",
    "    if data['song'][i]== song and data['performer'][i]==artist:\n",
    "        peak.append(data[data['song']==song]['chart_position'].min())\n",
    "    else:\n",
    "        song = data['song'][i]\n",
    "        artist = data['performer'][i]\n",
    "        peak.append(data[data['song']==song]['chart_position'].min())\n",
    "                    "
   ]
  },
  {
   "cell_type": "code",
   "execution_count": 292,
   "id": "9ee8535d",
   "metadata": {},
   "outputs": [],
   "source": [
    "#empty list\n",
    "worst = []\n",
    "weeks = []\n",
    "#initialising song and artist\n",
    "song = data['song'][0]\n",
    "artist = data['performer'][0]\n",
    "#same as above but with max of worst or weeks columns\n",
    "for i in range(len(data['song'])):\n",
    "    if data['song'][i]== song and data['performer'][i]==artist:\n",
    "        worst.append(data[data['song']==song]['chart_position'].max())\n",
    "        weeks.append(data[data['song']==song]['time_on_chart'].max())\n",
    "    else:\n",
    "        song = data['song'][i]\n",
    "        artist = data['performer'][i]\n",
    "        worst.append(data[data['song']==song]['chart_position'].max())\n",
    "        weeks.append(data[data['song']==song]['time_on_chart'].max())\n",
    "                    \n"
   ]
  },
  {
   "cell_type": "code",
   "execution_count": 293,
   "id": "5f1e262e",
   "metadata": {},
   "outputs": [],
   "source": [
    "#empty list\n",
    "consec = []\n",
    "#initialise song and artist\n",
    "song = data['song'][0]\n",
    "artist = data['performer'][0]\n",
    "#maximum consecutive weeks\n",
    "for i in range(len(data['song'])):\n",
    "    if data['song'][i]== song and data['performer'][i]==artist:\n",
    "        consec.append(data[data['song']==song]['consecutive_weeks'].max()+1)\n",
    "    else:\n",
    "        song = data['song'][i]\n",
    "        artist = data['performer'][i]\n",
    "        consec.append(data[data['song']==song]['consecutive_weeks'].max()+1)\n",
    "                    \n"
   ]
  },
  {
   "cell_type": "markdown",
   "id": "acea2da8",
   "metadata": {},
   "source": [
    "Dropping other columns and adding these to the dataframe"
   ]
  },
  {
   "cell_type": "code",
   "execution_count": 294,
   "id": "f1d80eff",
   "metadata": {},
   "outputs": [],
   "source": [
    "#drop unnecessary\n",
    "dataml = data.drop(columns = ['peak_position', 'worst_position', 'consecutive_weeks', 'time_on_chart'])\n",
    "#add new\n",
    "dataml['peak_position'] = peak\n",
    "dataml['worst_position'] = worst\n",
    "dataml['total_time'] = weeks\n",
    "dataml['max_consecutive'] = consec"
   ]
  },
  {
   "cell_type": "markdown",
   "id": "5fb9110d",
   "metadata": {},
   "source": [
    "Creating and adding the debut chart position of a song and how many times it has been in the charts"
   ]
  },
  {
   "cell_type": "code",
   "execution_count": 297,
   "id": "e430bad8",
   "metadata": {},
   "outputs": [],
   "source": [
    "#empty list\n",
    "debut = []\n",
    "#initialise song and artist\n",
    "song = dataml['song'][0]\n",
    "artist = dataml['performer'][0]\n",
    "# find position where is_new = 1\n",
    "for i in range(len(dataml['song'])):\n",
    "    if dataml['is_new'][i]==1:\n",
    "        deb = dataml['chart_position'][i]\n",
    "        debut.append(deb)\n",
    "    else:\n",
    "        debut.append(deb)\n",
    "        \n",
    "dataml['debut'] = debut"
   ]
  },
  {
   "cell_type": "code",
   "execution_count": 298,
   "id": "a3f641d6",
   "metadata": {},
   "outputs": [],
   "source": [
    "#empty list\n",
    "reenter = []\n",
    "#initialise song and artist\n",
    "song = dataml['song'][0]\n",
    "artist = dataml['performer'][0]\n",
    "#same as above for number of times in the charts\n",
    "for i in range(len(dataml['song'])):\n",
    "    if dataml['song'][i]== song and dataml['performer'][i]==artist:\n",
    "        reenter.append(data[data['song']==song]['instance'].max())\n",
    "    else:\n",
    "        song = dataml['song'][i]\n",
    "        artist = dataml['performer'][i]\n",
    "        reenter.append(data[data['song']==song]['instance'].max())\n",
    "\n",
    "\n",
    "        \n",
    "dataml['reentry'] = reenter\n",
    "#1 if only in once, then however many times been in chart"
   ]
  },
  {
   "cell_type": "markdown",
   "id": "6077f115",
   "metadata": {},
   "source": [
    "Dropping old columns"
   ]
  },
  {
   "cell_type": "code",
   "execution_count": 305,
   "id": "6687f502",
   "metadata": {},
   "outputs": [],
   "source": [
    "#dropping old columns\n",
    "dataml.drop(columns =['chart_date', 'chart_debut', 'chart_position', 'previous_week', 'is_new', 'instance'], inplace = True)"
   ]
  },
  {
   "cell_type": "markdown",
   "id": "40951a93",
   "metadata": {},
   "source": [
    "Changing the artist to remove any string after 'feat' so the data is easier to work with later when using spotify's api"
   ]
  },
  {
   "cell_type": "code",
   "execution_count": 309,
   "id": "0d18e7a9",
   "metadata": {},
   "outputs": [],
   "source": [
    "#removing artists after 'feat'\n",
    "for i in range(len(dataml['song'])):\n",
    "    if 'feat' in dataml['performer'][i].lower():\n",
    "        dataml['performer'][i] = dataml['performer'][i][0:dataml['performer'][i].lower().index('feat')-1]\n",
    "\n",
    "        \n",
    "        "
   ]
  },
  {
   "cell_type": "markdown",
   "id": "7a50e201",
   "metadata": {},
   "source": [
    "Dropping duplicate rows so there is now one row per song"
   ]
  },
  {
   "cell_type": "code",
   "execution_count": 307,
   "id": "19711e78",
   "metadata": {},
   "outputs": [
    {
     "data": {
      "text/html": [
       "<div>\n",
       "<style scoped>\n",
       "    .dataframe tbody tr th:only-of-type {\n",
       "        vertical-align: middle;\n",
       "    }\n",
       "\n",
       "    .dataframe tbody tr th {\n",
       "        vertical-align: top;\n",
       "    }\n",
       "\n",
       "    .dataframe thead th {\n",
       "        text-align: right;\n",
       "    }\n",
       "</style>\n",
       "<table border=\"1\" class=\"dataframe\">\n",
       "  <thead>\n",
       "    <tr style=\"text-align: right;\">\n",
       "      <th></th>\n",
       "      <th>song</th>\n",
       "      <th>performer</th>\n",
       "      <th>peak_position</th>\n",
       "      <th>worst_position</th>\n",
       "      <th>total_time</th>\n",
       "      <th>max_consecutive</th>\n",
       "      <th>debut</th>\n",
       "      <th>reentry</th>\n",
       "    </tr>\n",
       "  </thead>\n",
       "  <tbody>\n",
       "    <tr>\n",
       "      <th>0</th>\n",
       "      <td>$ave Dat Money</td>\n",
       "      <td>Lil Dicky</td>\n",
       "      <td>71</td>\n",
       "      <td>100</td>\n",
       "      <td>19</td>\n",
       "      <td>13.0</td>\n",
       "      <td>71</td>\n",
       "      <td>3.0</td>\n",
       "    </tr>\n",
       "    <tr>\n",
       "      <th>1</th>\n",
       "      <td>'Til You Can't</td>\n",
       "      <td>Cody Johnson</td>\n",
       "      <td>18</td>\n",
       "      <td>97</td>\n",
       "      <td>36</td>\n",
       "      <td>36.0</td>\n",
       "      <td>94</td>\n",
       "      <td>1.0</td>\n",
       "    </tr>\n",
       "    <tr>\n",
       "      <th>2</th>\n",
       "      <td>'Tis The Damn Season</td>\n",
       "      <td>Taylor Swift</td>\n",
       "      <td>39</td>\n",
       "      <td>91</td>\n",
       "      <td>2</td>\n",
       "      <td>2.0</td>\n",
       "      <td>39</td>\n",
       "      <td>1.0</td>\n",
       "    </tr>\n",
       "    <tr>\n",
       "      <th>3</th>\n",
       "      <td>(There's No Place Like) Home For The Holidays</td>\n",
       "      <td>Perry Como</td>\n",
       "      <td>22</td>\n",
       "      <td>47</td>\n",
       "      <td>12</td>\n",
       "      <td>5.0</td>\n",
       "      <td>41</td>\n",
       "      <td>4.0</td>\n",
       "    </tr>\n",
       "    <tr>\n",
       "      <th>4</th>\n",
       "      <td>...Ready For It?</td>\n",
       "      <td>Taylor Swift</td>\n",
       "      <td>4</td>\n",
       "      <td>96</td>\n",
       "      <td>19</td>\n",
       "      <td>19.0</td>\n",
       "      <td>4</td>\n",
       "      <td>1.0</td>\n",
       "    </tr>\n",
       "  </tbody>\n",
       "</table>\n",
       "</div>"
      ],
      "text/plain": [
       "                                            song     performer  peak_position  \\\n",
       "0                                 $ave Dat Money     Lil Dicky             71   \n",
       "1                                 'Til You Can't  Cody Johnson             18   \n",
       "2                           'Tis The Damn Season  Taylor Swift             39   \n",
       "3  (There's No Place Like) Home For The Holidays    Perry Como             22   \n",
       "4                               ...Ready For It?  Taylor Swift              4   \n",
       "\n",
       "   worst_position  total_time  max_consecutive  debut  reentry  \n",
       "0             100          19             13.0     71      3.0  \n",
       "1              97          36             36.0     94      1.0  \n",
       "2              91           2              2.0     39      1.0  \n",
       "3              47          12              5.0     41      4.0  \n",
       "4              96          19             19.0      4      1.0  "
      ]
     },
     "execution_count": 307,
     "metadata": {},
     "output_type": "execute_result"
    }
   ],
   "source": [
    "#drop duplicates\n",
    "dataml.drop_duplicates(inplace = True)\n",
    "#reset and drop old index\n",
    "dataml.reset_index(inplace = True)\n",
    "dataml.drop(columns = ['index'], inplace=True)\n",
    "dataml.head()"
   ]
  },
  {
   "cell_type": "markdown",
   "id": "771dbba0",
   "metadata": {},
   "source": [
    "Filling the null values with 1. The only null values were in max_consecutive and these were because they were only in the charts for 1 week, then droppped out"
   ]
  },
  {
   "cell_type": "code",
   "execution_count": 308,
   "id": "4c549cf5",
   "metadata": {},
   "outputs": [],
   "source": [
    "#filling null values in consecutive with 1\n",
    "dataml.fillna(value = 1, inplace = True)"
   ]
  },
  {
   "cell_type": "markdown",
   "id": "616bcbed",
   "metadata": {},
   "source": [
    "Converting to CSV to use in future instead of running this code every time"
   ]
  },
  {
   "cell_type": "code",
   "execution_count": 317,
   "id": "c49bcee1",
   "metadata": {},
   "outputs": [],
   "source": [
    "#save as csv\n",
    "dataml.to_csv('chartsnew.csv')"
   ]
  },
  {
   "cell_type": "markdown",
   "id": "e887e2d4",
   "metadata": {},
   "source": [
    "# Importing data instead\n",
    "## Removing songs with *"
   ]
  },
  {
   "cell_type": "code",
   "execution_count": 405,
   "id": "b0c4b083",
   "metadata": {},
   "outputs": [],
   "source": [
    "#read data in\n",
    "dataml = pd.read_csv('chartsnew.csv', names = ['song', 'performer', 'peak_position', 'worst_position', 'total_time', 'max_consecutive', 'debut', 'reentry'])"
   ]
  },
  {
   "cell_type": "code",
   "execution_count": 406,
   "id": "6ef351eb",
   "metadata": {
    "scrolled": true
   },
   "outputs": [],
   "source": [
    "#removing songs with *\n",
    "#empty list\n",
    "ex= []\n",
    "#appending index of songs with * to list\n",
    "for i in range(len(dataml['song'])):\n",
    "    if '*' in dataml['song'][i]:\n",
    "        ex.append(i)\n",
    "#dropping songs on this index\n",
    "dataml.drop(index = ex, inplace = True)"
   ]
  },
  {
   "cell_type": "markdown",
   "id": "288ad110",
   "metadata": {},
   "source": [
    "Resetting index following dropping columns"
   ]
  },
  {
   "cell_type": "code",
   "execution_count": 407,
   "id": "720efd5c",
   "metadata": {},
   "outputs": [],
   "source": [
    "#reset and drop old index\n",
    "dataml.reset_index(inplace = True)\n",
    "dataml.drop(columns = ['index'], inplace=True)"
   ]
  },
  {
   "cell_type": "markdown",
   "id": "17f83a15",
   "metadata": {},
   "source": [
    "# Using Spotipy to add data on track length, explicitness, popularity and genre\n",
    "\n",
    "This was run in a different notebook and exported to csv to use that instead of running this every time as this took ~45 minutes to run\n",
    "\n",
    "Importing the necessary libraries"
   ]
  },
  {
   "cell_type": "code",
   "execution_count": 1,
   "id": "1473ea76",
   "metadata": {},
   "outputs": [],
   "source": [
    "#imports\n",
    "import spotipy\n",
    "import string\n",
    "import math\n",
    "import os"
   ]
  },
  {
   "cell_type": "markdown",
   "id": "7ede1a00",
   "metadata": {},
   "source": [
    "Inputting my username, client ID and client secret obtained using Spotify for Developers"
   ]
  },
  {
   "cell_type": "code",
   "execution_count": null,
   "id": "417abcda",
   "metadata": {},
   "outputs": [],
   "source": [
    "#setting up searches for spotify\n",
    "Username ='ADD OWN USERNAME'\n",
    "Client_id ='ADD OWN CLIENT ID'\n",
    "Client_secret ='ADD OWN CLIENT SECRET'\n",
    "scope = 'playlist-modify-public'\n",
    "token =spotipy.SpotifyOAuth(client_id = Client_id, client_secret = Client_secret, redirect_uri ='http://localhost:3005/', scope = scope, username = Username)"
   ]
  },
  {
   "cell_type": "markdown",
   "id": "1384be03",
   "metadata": {},
   "source": [
    "Creating a spotify object"
   ]
  },
  {
   "cell_type": "code",
   "execution_count": null,
   "id": "99dc8bd9",
   "metadata": {},
   "outputs": [],
   "source": [
    "#spotify object\n",
    "spotifyObject= spotipy.Spotify(auth_manager=token)"
   ]
  },
  {
   "cell_type": "markdown",
   "id": "5c4ca95d",
   "metadata": {},
   "source": [
    "Searching for a song using spotifyObject.search then extracting the track length, explicitness and popularity of the song"
   ]
  },
  {
   "cell_type": "code",
   "execution_count": null,
   "id": "2dcd56a6",
   "metadata": {},
   "outputs": [],
   "source": [
    "#empty lists\n",
    "track = []\n",
    "explicit = []\n",
    "pop = []\n",
    "\n",
    "#searching for song, removing & or with\n",
    "for i in range(len(dataml['song'])):\n",
    "    if '&' in dataml['performer'][i] == True:\n",
    "        result = spotifyObject.search(q  = f\"{dataml['song'][i]} {dataml['performer'][i][:dataml['performer'][i].index('&')]}\", offset = 0, limit = 1, type = 'track')\n",
    "        track.append(result['tracks']['items'][0]['duration_ms'])\n",
    "        explicit.append(result['tracks']['items'][0]['explicit'])\n",
    "        pop.append(result['tracks']['items'][0]['popularity'])\n",
    "\n",
    "    elif 'with' in dataml['performer'][i].lower() == True:\n",
    "        result = spotifyObject.search(q  = f\"{dataml['song'][i]} {dataml['performer'][i][:dataml['performer'][i].lower().index('with')]}\", offset = 0, limit = 1, type = 'track')\n",
    "        track.append(result['tracks']['items'][0]['duration_ms'])\n",
    "        explicit.append(result['tracks']['items'][0]['explicit'])\n",
    "        pop.append(result['tracks']['items'][0]['popularity'])\n",
    "       \n",
    "    else:\n",
    "        result = spotifyObject.search(q  = f\"{dataml['song'][i]} {dataml.performer[i]}\", offset = 0, limit = 1, type = 'track')\n",
    "        track.append(result['tracks']['items'][0]['duration_ms'])\n",
    "        explicit.append(result['tracks']['items'][0]['explicit'])\n",
    "        pop.append(result['tracks']['items'][0]['popularity'])\n"
   ]
  },
  {
   "cell_type": "markdown",
   "id": "b668ac99",
   "metadata": {},
   "source": [
    "Adding these to the dataframe"
   ]
  },
  {
   "cell_type": "code",
   "execution_count": null,
   "id": "5c5e6f5f",
   "metadata": {},
   "outputs": [],
   "source": [
    "#add to dataframe\n",
    "dataml['track_length'] = track\n",
    "dataml['explicit'] = explicit\n",
    "dataml['popularity'] = pop"
   ]
  },
  {
   "cell_type": "markdown",
   "id": "87190645",
   "metadata": {},
   "source": [
    "Using spotifyObject.search to search for the artist to add genre to the dataframe"
   ]
  },
  {
   "cell_type": "code",
   "execution_count": null,
   "id": "30f706a4",
   "metadata": {},
   "outputs": [],
   "source": [
    "#for genre, use if bool(result...) == False:\n",
    "#empty list\n",
    "genre = []\n",
    "#appending genre to list - search for artist, removing , with & etc and appending 'Unknown' if no genre\n",
    "for i in range(len(dataml['song'])):\n",
    "    if (',' in dataml['performer'][i]) == True:\n",
    "        result_artist = spotifyObject.search(q = f\"{dataml['performer'][i][:dataml['performer'][i].lower().index(',')]}\",offset = 0, limit =1, type='artist' )\n",
    "        if bool(result_artist['artists']['items'][0]['genres']) == True:\n",
    "            genre.append(result_artist['artists']['items'][0]['genres'][0]) \n",
    "        else:\n",
    "            genre.append('Unknown')\n",
    "    elif ('with' in dataml['performer'][i].lower()) == True:\n",
    "        result_artist = spotifyObject.search(q = f\"{dataml['performer'][i][:dataml['performer'][i].lower().index('with')]}\",offset = 0, limit =1, type='artist' )\n",
    "        if bool(result_artist['artists']['items'][0]['genres']) == True:\n",
    "            genre.append(result_artist['artists']['items'][0]['genres'][0]) \n",
    "        else:\n",
    "            genre.append('Unknown')\n",
    "    elif ('&' in dataml['performer'][i].lower()) == True:\n",
    "        result_artist = spotifyObject.search(q = f\"{dataml['performer'][i][:dataml['performer'][i].lower().index('&')]}\",offset = 0, limit =1, type='artist' )\n",
    "        if bool(result_artist['artists']['items'][0]['genres']) == True:\n",
    "            genre.append(result_artist['artists']['items'][0]['genres'][0]) \n",
    "        else:\n",
    "            genre.append('Unknown')\n",
    "    else:\n",
    "        result_artist = spotifyObject.search(q = f\"{dataml['performer'][i]}\",offset = 0, limit =1, type='artist' )\n",
    "        if bool(result_artist['artists']['items'][0]['genres']) == True:\n",
    "            genre.append(result_artist['artists']['items'][0]['genres'][0])\n",
    "        else:\n",
    "            genre.append('Unknown')"
   ]
  },
  {
   "cell_type": "code",
   "execution_count": null,
   "id": "90e70afe",
   "metadata": {},
   "outputs": [],
   "source": [
    "#adding to the dataframe\n",
    "dataml['genre'] = genre"
   ]
  },
  {
   "cell_type": "markdown",
   "id": "42b5324d",
   "metadata": {},
   "source": [
    "Exporting to CSV to use in this notebook and further analysis"
   ]
  },
  {
   "cell_type": "code",
   "execution_count": null,
   "id": "f26afb54",
   "metadata": {},
   "outputs": [],
   "source": [
    "#save to csv\n",
    "dataml.to_csv('withadditions.csv')"
   ]
  },
  {
   "cell_type": "markdown",
   "id": "1c82d79b",
   "metadata": {},
   "source": [
    "# Importing data"
   ]
  },
  {
   "cell_type": "code",
   "execution_count": 3,
   "id": "bccb366c",
   "metadata": {},
   "outputs": [],
   "source": [
    "#import pandas\n",
    "import pandas as pd"
   ]
  },
  {
   "cell_type": "markdown",
   "id": "8f6cd3f3",
   "metadata": {},
   "source": [
    "Importing and dropping the index column"
   ]
  },
  {
   "cell_type": "code",
   "execution_count": 152,
   "id": "8dd99b54",
   "metadata": {},
   "outputs": [
    {
     "data": {
      "text/html": [
       "<div>\n",
       "<style scoped>\n",
       "    .dataframe tbody tr th:only-of-type {\n",
       "        vertical-align: middle;\n",
       "    }\n",
       "\n",
       "    .dataframe tbody tr th {\n",
       "        vertical-align: top;\n",
       "    }\n",
       "\n",
       "    .dataframe thead th {\n",
       "        text-align: right;\n",
       "    }\n",
       "</style>\n",
       "<table border=\"1\" class=\"dataframe\">\n",
       "  <thead>\n",
       "    <tr style=\"text-align: right;\">\n",
       "      <th></th>\n",
       "      <th>song</th>\n",
       "      <th>performer</th>\n",
       "      <th>peak_position</th>\n",
       "      <th>worst_position</th>\n",
       "      <th>total_time</th>\n",
       "      <th>max_consecutive</th>\n",
       "      <th>debut</th>\n",
       "      <th>reentry</th>\n",
       "      <th>track_length</th>\n",
       "      <th>explicit</th>\n",
       "      <th>popularity</th>\n",
       "      <th>genre</th>\n",
       "    </tr>\n",
       "  </thead>\n",
       "  <tbody>\n",
       "    <tr>\n",
       "      <th>0</th>\n",
       "      <td>$ave Dat Money</td>\n",
       "      <td>Lil Dicky</td>\n",
       "      <td>71</td>\n",
       "      <td>100</td>\n",
       "      <td>19</td>\n",
       "      <td>13</td>\n",
       "      <td>71</td>\n",
       "      <td>3</td>\n",
       "      <td>290835</td>\n",
       "      <td>True</td>\n",
       "      <td>62</td>\n",
       "      <td>comedy rap</td>\n",
       "    </tr>\n",
       "    <tr>\n",
       "      <th>1</th>\n",
       "      <td>'Til You Can't</td>\n",
       "      <td>Cody Johnson</td>\n",
       "      <td>18</td>\n",
       "      <td>97</td>\n",
       "      <td>36</td>\n",
       "      <td>36</td>\n",
       "      <td>94</td>\n",
       "      <td>1</td>\n",
       "      <td>224213</td>\n",
       "      <td>False</td>\n",
       "      <td>74</td>\n",
       "      <td>contemporary country</td>\n",
       "    </tr>\n",
       "    <tr>\n",
       "      <th>2</th>\n",
       "      <td>'Tis The Damn Season</td>\n",
       "      <td>Taylor Swift</td>\n",
       "      <td>39</td>\n",
       "      <td>91</td>\n",
       "      <td>2</td>\n",
       "      <td>2</td>\n",
       "      <td>39</td>\n",
       "      <td>1</td>\n",
       "      <td>229840</td>\n",
       "      <td>False</td>\n",
       "      <td>66</td>\n",
       "      <td>pop</td>\n",
       "    </tr>\n",
       "    <tr>\n",
       "      <th>3</th>\n",
       "      <td>(There's No Place Like) Home For The Holidays</td>\n",
       "      <td>Perry Como</td>\n",
       "      <td>22</td>\n",
       "      <td>47</td>\n",
       "      <td>12</td>\n",
       "      <td>5</td>\n",
       "      <td>41</td>\n",
       "      <td>4</td>\n",
       "      <td>178293</td>\n",
       "      <td>False</td>\n",
       "      <td>68</td>\n",
       "      <td>adult standards</td>\n",
       "    </tr>\n",
       "    <tr>\n",
       "      <th>4</th>\n",
       "      <td>...Ready For It?</td>\n",
       "      <td>Taylor Swift</td>\n",
       "      <td>4</td>\n",
       "      <td>96</td>\n",
       "      <td>19</td>\n",
       "      <td>19</td>\n",
       "      <td>4</td>\n",
       "      <td>1</td>\n",
       "      <td>208186</td>\n",
       "      <td>False</td>\n",
       "      <td>75</td>\n",
       "      <td>pop</td>\n",
       "    </tr>\n",
       "  </tbody>\n",
       "</table>\n",
       "</div>"
      ],
      "text/plain": [
       "                                            song     performer  peak_position  \\\n",
       "0                                 $ave Dat Money     Lil Dicky             71   \n",
       "1                                 'Til You Can't  Cody Johnson             18   \n",
       "2                           'Tis The Damn Season  Taylor Swift             39   \n",
       "3  (There's No Place Like) Home For The Holidays    Perry Como             22   \n",
       "4                               ...Ready For It?  Taylor Swift              4   \n",
       "\n",
       "   worst_position  total_time  max_consecutive  debut  reentry  track_length  \\\n",
       "0             100          19               13     71        3        290835   \n",
       "1              97          36               36     94        1        224213   \n",
       "2              91           2                2     39        1        229840   \n",
       "3              47          12                5     41        4        178293   \n",
       "4              96          19               19      4        1        208186   \n",
       "\n",
       "   explicit  popularity                 genre  \n",
       "0      True          62            comedy rap  \n",
       "1     False          74  contemporary country  \n",
       "2     False          66                   pop  \n",
       "3     False          68       adult standards  \n",
       "4     False          75                   pop  "
      ]
     },
     "execution_count": 152,
     "metadata": {},
     "output_type": "execute_result"
    }
   ],
   "source": [
    "#read from csv then drop unnamed column\n",
    "mlapp = pd.read_csv('withadditions.csv')\n",
    "mlapp.drop(columns = ['Unnamed: 0'], inplace = True)\n",
    "mlapp.head()"
   ]
  },
  {
   "cell_type": "markdown",
   "id": "8a314332",
   "metadata": {},
   "source": [
    "Categorising the genre. If pop appears in pop punk for example, then this is altered to pop. Another example is extracting rap from comedy rap in the first entry"
   ]
  },
  {
   "cell_type": "code",
   "execution_count": 153,
   "id": "d6f58bfc",
   "metadata": {
    "scrolled": true
   },
   "outputs": [
    {
     "name": "stderr",
     "output_type": "stream",
     "text": [
      "C:\\Users\\JasmineAlbert\\AppData\\Local\\Temp\\ipykernel_22992\\513062471.py:7: SettingWithCopyWarning: \n",
      "A value is trying to be set on a copy of a slice from a DataFrame\n",
      "\n",
      "See the caveats in the documentation: https://pandas.pydata.org/pandas-docs/stable/user_guide/indexing.html#returning-a-view-versus-a-copy\n",
      "  mlapp['genre'][i] = 'rap'\n",
      "C:\\Users\\JasmineAlbert\\AppData\\Local\\Temp\\ipykernel_22992\\513062471.py:13: SettingWithCopyWarning: \n",
      "A value is trying to be set on a copy of a slice from a DataFrame\n",
      "\n",
      "See the caveats in the documentation: https://pandas.pydata.org/pandas-docs/stable/user_guide/indexing.html#returning-a-view-versus-a-copy\n",
      "  mlapp['genre'][i] = 'country'\n",
      "C:\\Users\\JasmineAlbert\\AppData\\Local\\Temp\\ipykernel_22992\\513062471.py:3: SettingWithCopyWarning: \n",
      "A value is trying to be set on a copy of a slice from a DataFrame\n",
      "\n",
      "See the caveats in the documentation: https://pandas.pydata.org/pandas-docs/stable/user_guide/indexing.html#returning-a-view-versus-a-copy\n",
      "  mlapp['genre'][i] = 'pop'\n",
      "C:\\Users\\JasmineAlbert\\AppData\\Local\\Temp\\ipykernel_22992\\513062471.py:5: SettingWithCopyWarning: \n",
      "A value is trying to be set on a copy of a slice from a DataFrame\n",
      "\n",
      "See the caveats in the documentation: https://pandas.pydata.org/pandas-docs/stable/user_guide/indexing.html#returning-a-view-versus-a-copy\n",
      "  mlapp['genre'][i] = 'hip hop'\n",
      "C:\\Users\\JasmineAlbert\\AppData\\Local\\Temp\\ipykernel_22992\\513062471.py:21: SettingWithCopyWarning: \n",
      "A value is trying to be set on a copy of a slice from a DataFrame\n",
      "\n",
      "See the caveats in the documentation: https://pandas.pydata.org/pandas-docs/stable/user_guide/indexing.html#returning-a-view-versus-a-copy\n",
      "  mlapp['genre'][i] = 'drill'\n",
      "C:\\Users\\JasmineAlbert\\AppData\\Local\\Temp\\ipykernel_22992\\513062471.py:19: SettingWithCopyWarning: \n",
      "A value is trying to be set on a copy of a slice from a DataFrame\n",
      "\n",
      "See the caveats in the documentation: https://pandas.pydata.org/pandas-docs/stable/user_guide/indexing.html#returning-a-view-versus-a-copy\n",
      "  mlapp['genre'][i] = 'r&b'\n",
      "C:\\Users\\JasmineAlbert\\AppData\\Local\\Temp\\ipykernel_22992\\513062471.py:11: SettingWithCopyWarning: \n",
      "A value is trying to be set on a copy of a slice from a DataFrame\n",
      "\n",
      "See the caveats in the documentation: https://pandas.pydata.org/pandas-docs/stable/user_guide/indexing.html#returning-a-view-versus-a-copy\n",
      "  mlapp['genre'][i] = 'rock'\n",
      "C:\\Users\\JasmineAlbert\\AppData\\Local\\Temp\\ipykernel_22992\\513062471.py:23: SettingWithCopyWarning: \n",
      "A value is trying to be set on a copy of a slice from a DataFrame\n",
      "\n",
      "See the caveats in the documentation: https://pandas.pydata.org/pandas-docs/stable/user_guide/indexing.html#returning-a-view-versus-a-copy\n",
      "  mlapp['genre'][i] = 'soul'\n",
      "C:\\Users\\JasmineAlbert\\AppData\\Local\\Temp\\ipykernel_22992\\513062471.py:25: SettingWithCopyWarning: \n",
      "A value is trying to be set on a copy of a slice from a DataFrame\n",
      "\n",
      "See the caveats in the documentation: https://pandas.pydata.org/pandas-docs/stable/user_guide/indexing.html#returning-a-view-versus-a-copy\n",
      "  mlapp['genre'][i] = 'dance'\n",
      "C:\\Users\\JasmineAlbert\\AppData\\Local\\Temp\\ipykernel_22992\\513062471.py:17: SettingWithCopyWarning: \n",
      "A value is trying to be set on a copy of a slice from a DataFrame\n",
      "\n",
      "See the caveats in the documentation: https://pandas.pydata.org/pandas-docs/stable/user_guide/indexing.html#returning-a-view-versus-a-copy\n",
      "  mlapp['genre'][i] = 'alt'\n",
      "C:\\Users\\JasmineAlbert\\AppData\\Local\\Temp\\ipykernel_22992\\513062471.py:9: SettingWithCopyWarning: \n",
      "A value is trying to be set on a copy of a slice from a DataFrame\n",
      "\n",
      "See the caveats in the documentation: https://pandas.pydata.org/pandas-docs/stable/user_guide/indexing.html#returning-a-view-versus-a-copy\n",
      "  mlapp['genre'][i] = 'indie'\n",
      "C:\\Users\\JasmineAlbert\\AppData\\Local\\Temp\\ipykernel_22992\\513062471.py:15: SettingWithCopyWarning: \n",
      "A value is trying to be set on a copy of a slice from a DataFrame\n",
      "\n",
      "See the caveats in the documentation: https://pandas.pydata.org/pandas-docs/stable/user_guide/indexing.html#returning-a-view-versus-a-copy\n",
      "  mlapp['genre'][i] = 'house'\n"
     ]
    }
   ],
   "source": [
    "# categorising the genre so pop punk become pop etc\n",
    "for i in range(len(mlapp['genre'])):\n",
    "    if 'pop' in mlapp['genre'][i]:\n",
    "        mlapp['genre'][i] = 'pop'\n",
    "    elif 'hip hop' in mlapp['genre'][i]:\n",
    "        mlapp['genre'][i] = 'hip hop'\n",
    "    elif 'rap' in mlapp['genre'][i]:\n",
    "        mlapp['genre'][i] = 'rap'\n",
    "    elif 'indie' in mlapp['genre'][i]:\n",
    "        mlapp['genre'][i] = 'indie'\n",
    "    elif 'rock' in mlapp['genre'][i]:\n",
    "        mlapp['genre'][i] = 'rock'\n",
    "    elif 'country' in mlapp['genre'][i]:\n",
    "        mlapp['genre'][i] = 'country'\n",
    "    elif 'house' in mlapp['genre'][i]:\n",
    "        mlapp['genre'][i] = 'house'\n",
    "    elif 'alt' in mlapp['genre'][i]:\n",
    "        mlapp['genre'][i] = 'alt'\n",
    "    elif 'r&b' in mlapp['genre'][i]:\n",
    "        mlapp['genre'][i] = 'r&b'\n",
    "    elif 'drill' in mlapp['genre'][i]:\n",
    "        mlapp['genre'][i] = 'drill'\n",
    "    elif 'soul' in mlapp['genre'][i]:\n",
    "        mlapp['genre'][i] = 'soul'\n",
    "    elif 'dance' in mlapp['genre'][i]:\n",
    "        mlapp['genre'][i] = 'dance'"
   ]
  },
  {
   "cell_type": "markdown",
   "id": "e7d25960",
   "metadata": {},
   "source": [
    "Checking the value counts to remove any that have below 10 entries"
   ]
  },
  {
   "cell_type": "code",
   "execution_count": 154,
   "id": "f8814738",
   "metadata": {},
   "outputs": [
    {
     "data": {
      "text/plain": [
       "hip hop            1134\n",
       "pop                1124\n",
       "rap                 722\n",
       "country             472\n",
       "drill                85\n",
       "r&b                  81\n",
       "reggaeton            75\n",
       "rock                 64\n",
       "alt                  41\n",
       "soul                 32\n",
       "black americana      29\n",
       "boy band             28\n",
       "Unknown              27\n",
       "adult standards      25\n",
       "brostep              15\n",
       "dance                12\n",
       "edm                  12\n",
       "hollywood            10\n",
       "indie                10\n",
       "afrofuturism          9\n",
       "Name: genre, dtype: int64"
      ]
     },
     "execution_count": 154,
     "metadata": {},
     "output_type": "execute_result"
    }
   ],
   "source": [
    "#count how many in each genre\n",
    "mlapp['genre'].value_counts()[0:20]"
   ]
  },
  {
   "cell_type": "markdown",
   "id": "e73750c3",
   "metadata": {},
   "source": [
    "Since there are many genres with less than 10 entries, those with 10+ are kept in the dataframe and the rest are dropped"
   ]
  },
  {
   "cell_type": "code",
   "execution_count": 155,
   "id": "42d141cc",
   "metadata": {},
   "outputs": [],
   "source": [
    "#list of those with more than 10\n",
    "top = ['hip hop', 'pop', 'rap', 'country', 'reggaeton', 'rock', 'alt', 'drill', 'r&b', 'soul', 'black americana', 'boy band', 'adult standards', 'brostep', 'dance', 'edm', 'hollywood', 'indie']"
   ]
  },
  {
   "cell_type": "code",
   "execution_count": 156,
   "id": "d6623408",
   "metadata": {},
   "outputs": [],
   "source": [
    "#filter so genre within that list\n",
    "mlapp = mlapp[mlapp['genre'].isin(top)]"
   ]
  },
  {
   "cell_type": "code",
   "execution_count": 157,
   "id": "7eb15014",
   "metadata": {},
   "outputs": [
    {
     "data": {
      "text/html": [
       "<div>\n",
       "<style scoped>\n",
       "    .dataframe tbody tr th:only-of-type {\n",
       "        vertical-align: middle;\n",
       "    }\n",
       "\n",
       "    .dataframe tbody tr th {\n",
       "        vertical-align: top;\n",
       "    }\n",
       "\n",
       "    .dataframe thead th {\n",
       "        text-align: right;\n",
       "    }\n",
       "</style>\n",
       "<table border=\"1\" class=\"dataframe\">\n",
       "  <thead>\n",
       "    <tr style=\"text-align: right;\">\n",
       "      <th></th>\n",
       "      <th>song</th>\n",
       "      <th>performer</th>\n",
       "      <th>peak_position</th>\n",
       "      <th>worst_position</th>\n",
       "      <th>total_time</th>\n",
       "      <th>max_consecutive</th>\n",
       "      <th>debut</th>\n",
       "      <th>reentry</th>\n",
       "      <th>track_length</th>\n",
       "      <th>explicit</th>\n",
       "      <th>popularity</th>\n",
       "      <th>genre</th>\n",
       "    </tr>\n",
       "  </thead>\n",
       "  <tbody>\n",
       "    <tr>\n",
       "      <th>0</th>\n",
       "      <td>$ave Dat Money</td>\n",
       "      <td>Lil Dicky</td>\n",
       "      <td>71</td>\n",
       "      <td>100</td>\n",
       "      <td>19</td>\n",
       "      <td>13</td>\n",
       "      <td>71</td>\n",
       "      <td>3</td>\n",
       "      <td>290835</td>\n",
       "      <td>True</td>\n",
       "      <td>62</td>\n",
       "      <td>rap</td>\n",
       "    </tr>\n",
       "    <tr>\n",
       "      <th>1</th>\n",
       "      <td>'Til You Can't</td>\n",
       "      <td>Cody Johnson</td>\n",
       "      <td>18</td>\n",
       "      <td>97</td>\n",
       "      <td>36</td>\n",
       "      <td>36</td>\n",
       "      <td>94</td>\n",
       "      <td>1</td>\n",
       "      <td>224213</td>\n",
       "      <td>False</td>\n",
       "      <td>74</td>\n",
       "      <td>country</td>\n",
       "    </tr>\n",
       "    <tr>\n",
       "      <th>2</th>\n",
       "      <td>'Tis The Damn Season</td>\n",
       "      <td>Taylor Swift</td>\n",
       "      <td>39</td>\n",
       "      <td>91</td>\n",
       "      <td>2</td>\n",
       "      <td>2</td>\n",
       "      <td>39</td>\n",
       "      <td>1</td>\n",
       "      <td>229840</td>\n",
       "      <td>False</td>\n",
       "      <td>66</td>\n",
       "      <td>pop</td>\n",
       "    </tr>\n",
       "    <tr>\n",
       "      <th>3</th>\n",
       "      <td>(There's No Place Like) Home For The Holidays</td>\n",
       "      <td>Perry Como</td>\n",
       "      <td>22</td>\n",
       "      <td>47</td>\n",
       "      <td>12</td>\n",
       "      <td>5</td>\n",
       "      <td>41</td>\n",
       "      <td>4</td>\n",
       "      <td>178293</td>\n",
       "      <td>False</td>\n",
       "      <td>68</td>\n",
       "      <td>adult standards</td>\n",
       "    </tr>\n",
       "    <tr>\n",
       "      <th>4</th>\n",
       "      <td>...Ready For It?</td>\n",
       "      <td>Taylor Swift</td>\n",
       "      <td>4</td>\n",
       "      <td>96</td>\n",
       "      <td>19</td>\n",
       "      <td>19</td>\n",
       "      <td>4</td>\n",
       "      <td>1</td>\n",
       "      <td>208186</td>\n",
       "      <td>False</td>\n",
       "      <td>75</td>\n",
       "      <td>pop</td>\n",
       "    </tr>\n",
       "  </tbody>\n",
       "</table>\n",
       "</div>"
      ],
      "text/plain": [
       "                                            song     performer  peak_position  \\\n",
       "0                                 $ave Dat Money     Lil Dicky             71   \n",
       "1                                 'Til You Can't  Cody Johnson             18   \n",
       "2                           'Tis The Damn Season  Taylor Swift             39   \n",
       "3  (There's No Place Like) Home For The Holidays    Perry Como             22   \n",
       "4                               ...Ready For It?  Taylor Swift              4   \n",
       "\n",
       "   worst_position  total_time  max_consecutive  debut  reentry  track_length  \\\n",
       "0             100          19               13     71        3        290835   \n",
       "1              97          36               36     94        1        224213   \n",
       "2              91           2                2     39        1        229840   \n",
       "3              47          12                5     41        4        178293   \n",
       "4              96          19               19      4        1        208186   \n",
       "\n",
       "   explicit  popularity            genre  \n",
       "0      True          62              rap  \n",
       "1     False          74          country  \n",
       "2     False          66              pop  \n",
       "3     False          68  adult standards  \n",
       "4     False          75              pop  "
      ]
     },
     "execution_count": 157,
     "metadata": {},
     "output_type": "execute_result"
    }
   ],
   "source": [
    "mlapp.head()"
   ]
  },
  {
   "cell_type": "code",
   "execution_count": null,
   "id": "a917bd9c",
   "metadata": {},
   "outputs": [],
   "source": [
    "#save to csv\n",
    "#mlapp.to_csv('appendgenre.csv')"
   ]
  },
  {
   "cell_type": "markdown",
   "id": "c82be949",
   "metadata": {},
   "source": [
    "To now get this ready for machine learning, the song column needs to be removed as this is unique for every entry and performer, genre and explicit need to be label encoded. This dataframe was also exported to csv to import again when opening the notebook. The debut column should also be removed as this is the same as the peak position in a number of entries."
   ]
  },
  {
   "cell_type": "code",
   "execution_count": 234,
   "id": "46fa56ae",
   "metadata": {},
   "outputs": [
    {
     "data": {
      "text/html": [
       "<div>\n",
       "<style scoped>\n",
       "    .dataframe tbody tr th:only-of-type {\n",
       "        vertical-align: middle;\n",
       "    }\n",
       "\n",
       "    .dataframe tbody tr th {\n",
       "        vertical-align: top;\n",
       "    }\n",
       "\n",
       "    .dataframe thead th {\n",
       "        text-align: right;\n",
       "    }\n",
       "</style>\n",
       "<table border=\"1\" class=\"dataframe\">\n",
       "  <thead>\n",
       "    <tr style=\"text-align: right;\">\n",
       "      <th></th>\n",
       "      <th>song</th>\n",
       "      <th>performer</th>\n",
       "      <th>peak_position</th>\n",
       "      <th>worst_position</th>\n",
       "      <th>total_time</th>\n",
       "      <th>max_consecutive</th>\n",
       "      <th>debut</th>\n",
       "      <th>reentry</th>\n",
       "      <th>track_length</th>\n",
       "      <th>explicit</th>\n",
       "      <th>popularity</th>\n",
       "      <th>genre</th>\n",
       "    </tr>\n",
       "  </thead>\n",
       "  <tbody>\n",
       "    <tr>\n",
       "      <th>0</th>\n",
       "      <td>$ave Dat Money</td>\n",
       "      <td>Lil Dicky</td>\n",
       "      <td>71</td>\n",
       "      <td>100</td>\n",
       "      <td>19</td>\n",
       "      <td>13</td>\n",
       "      <td>71</td>\n",
       "      <td>3</td>\n",
       "      <td>290835</td>\n",
       "      <td>True</td>\n",
       "      <td>62</td>\n",
       "      <td>rap</td>\n",
       "    </tr>\n",
       "    <tr>\n",
       "      <th>1</th>\n",
       "      <td>'Til You Can't</td>\n",
       "      <td>Cody Johnson</td>\n",
       "      <td>18</td>\n",
       "      <td>97</td>\n",
       "      <td>36</td>\n",
       "      <td>36</td>\n",
       "      <td>94</td>\n",
       "      <td>1</td>\n",
       "      <td>224213</td>\n",
       "      <td>False</td>\n",
       "      <td>74</td>\n",
       "      <td>country</td>\n",
       "    </tr>\n",
       "    <tr>\n",
       "      <th>2</th>\n",
       "      <td>'Tis The Damn Season</td>\n",
       "      <td>Taylor Swift</td>\n",
       "      <td>39</td>\n",
       "      <td>91</td>\n",
       "      <td>2</td>\n",
       "      <td>2</td>\n",
       "      <td>39</td>\n",
       "      <td>1</td>\n",
       "      <td>229840</td>\n",
       "      <td>False</td>\n",
       "      <td>66</td>\n",
       "      <td>pop</td>\n",
       "    </tr>\n",
       "    <tr>\n",
       "      <th>3</th>\n",
       "      <td>(There's No Place Like) Home For The Holidays</td>\n",
       "      <td>Perry Como</td>\n",
       "      <td>22</td>\n",
       "      <td>47</td>\n",
       "      <td>12</td>\n",
       "      <td>5</td>\n",
       "      <td>41</td>\n",
       "      <td>4</td>\n",
       "      <td>178293</td>\n",
       "      <td>False</td>\n",
       "      <td>68</td>\n",
       "      <td>adult standards</td>\n",
       "    </tr>\n",
       "    <tr>\n",
       "      <th>4</th>\n",
       "      <td>...Ready For It?</td>\n",
       "      <td>Taylor Swift</td>\n",
       "      <td>4</td>\n",
       "      <td>96</td>\n",
       "      <td>19</td>\n",
       "      <td>19</td>\n",
       "      <td>4</td>\n",
       "      <td>1</td>\n",
       "      <td>208186</td>\n",
       "      <td>False</td>\n",
       "      <td>75</td>\n",
       "      <td>pop</td>\n",
       "    </tr>\n",
       "  </tbody>\n",
       "</table>\n",
       "</div>"
      ],
      "text/plain": [
       "                                            song     performer  peak_position  \\\n",
       "0                                 $ave Dat Money     Lil Dicky             71   \n",
       "1                                 'Til You Can't  Cody Johnson             18   \n",
       "2                           'Tis The Damn Season  Taylor Swift             39   \n",
       "3  (There's No Place Like) Home For The Holidays    Perry Como             22   \n",
       "4                               ...Ready For It?  Taylor Swift              4   \n",
       "\n",
       "   worst_position  total_time  max_consecutive  debut  reentry  track_length  \\\n",
       "0             100          19               13     71        3        290835   \n",
       "1              97          36               36     94        1        224213   \n",
       "2              91           2                2     39        1        229840   \n",
       "3              47          12                5     41        4        178293   \n",
       "4              96          19               19      4        1        208186   \n",
       "\n",
       "   explicit  popularity            genre  \n",
       "0      True          62              rap  \n",
       "1     False          74          country  \n",
       "2     False          66              pop  \n",
       "3     False          68  adult standards  \n",
       "4     False          75              pop  "
      ]
     },
     "execution_count": 234,
     "metadata": {},
     "output_type": "execute_result"
    }
   ],
   "source": [
    "#import csv and drop index column\n",
    "mlapp = pd.read_csv('appendgenre.csv')\n",
    "mlapp.drop(columns =['Unnamed: 0'], inplace = True)\n",
    "mlapp.head()"
   ]
  },
  {
   "cell_type": "code",
   "execution_count": 235,
   "id": "e3cffe9a",
   "metadata": {
    "scrolled": true
   },
   "outputs": [
    {
     "data": {
      "text/plain": [
       "2293"
      ]
     },
     "execution_count": 235,
     "metadata": {},
     "output_type": "execute_result"
    }
   ],
   "source": [
    "#count how many songs had a debut equal to the peak position\n",
    "mlapp[mlapp['debut'] == mlapp['peak_position']]['performer'].count()"
   ]
  },
  {
   "cell_type": "markdown",
   "id": "803710f9",
   "metadata": {},
   "source": [
    "Lots of entries where debut and peak position are the same so having this in the data while performing machine learning could affect the results"
   ]
  },
  {
   "cell_type": "code",
   "execution_count": 236,
   "id": "9a9dd535",
   "metadata": {},
   "outputs": [],
   "source": [
    "#dropping these variables\n",
    "mlapp.drop(columns = ['song', 'debut'], inplace = True)"
   ]
  },
  {
   "cell_type": "markdown",
   "id": "e7920408",
   "metadata": {},
   "source": [
    "# Machine Learning\n",
    "## Imports"
   ]
  },
  {
   "cell_type": "code",
   "execution_count": 7,
   "id": "bca02f0c",
   "metadata": {},
   "outputs": [],
   "source": [
    "import numpy as np\n",
    "import matplotlib.pyplot as plt\n",
    "import seaborn as sns\n",
    "%matplotlib inline\n",
    "from sklearn.model_selection import train_test_split\n",
    "from sklearn import metrics\n",
    "from datetime import date, timedelta, datetime\n",
    "from sklearn.preprocessing import LabelEncoder\n",
    "from sklearn.metrics import confusion_matrix\n",
    "from sklearn.metrics import f1_score\n",
    "from sklearn.metrics import accuracy_score\n",
    "from sklearn.metrics import classification_report\n",
    "from sklearn.model_selection import cross_val_score, cross_validate, KFold\n",
    "from sklearn.model_selection import RepeatedKFold\n",
    "from sklearn.linear_model import Ridge\n",
    "from sklearn.metrics import r2_score\n",
    "from sklearn.model_selection import GridSearchCV\n",
    "from imblearn.under_sampling import RandomUnderSampler"
   ]
  },
  {
   "cell_type": "markdown",
   "id": "3f65f801",
   "metadata": {},
   "source": [
    "### Looking at distribution\n",
    "(Removing performer as there are multiple values for this column)\n",
    "\n",
    "We can see the data does not appear normal, specifically the 'worst', 'max_consecutive' and 'reentry' columns."
   ]
  },
  {
   "cell_type": "code",
   "execution_count": 171,
   "id": "9e78345d",
   "metadata": {},
   "outputs": [
    {
     "data": {
      "image/png": "[encoded data removed]",
      "text/plain": [
       "<Figure size 432x288 with 1 Axes>"
      ]
     },
     "metadata": {
      "needs_background": "light"
     },
     "output_type": "display_data"
    },
    {
     "data": {
      "image/png": "[encoded data removed]",
      "text/plain": [
       "<Figure size 432x288 with 1 Axes>"
      ]
     },
     "metadata": {
      "needs_background": "light"
     },
     "output_type": "display_data"
    },
    {
     "data": {
      "image/png": "[encoded data removed]",
      "text/plain": [
       "<Figure size 432x288 with 1 Axes>"
      ]
     },
     "metadata": {
      "needs_background": "light"
     },
     "output_type": "display_data"
    },
    {
     "data": {
      "image/png": "[encoded data removed]",
      "text/plain": [
       "<Figure size 432x288 with 1 Axes>"
      ]
     },
     "metadata": {
      "needs_background": "light"
     },
     "output_type": "display_data"
    },
    {
     "data": {
      "image/png": "[encoded data removed]",
      "text/plain": [
       "<Figure size 432x288 with 1 Axes>"
      ]
     },
     "metadata": {
      "needs_background": "light"
     },
     "output_type": "display_data"
    },
    {
     "data": {
      "image/png": "[encoded data removed]",
      "text/plain": [
       "<Figure size 432x288 with 1 Axes>"
      ]
     },
     "metadata": {
      "needs_background": "light"
     },
     "output_type": "display_data"
    },
    {
     "name": "stderr",
     "output_type": "stream",
     "text": [
      "C:\\ProgramData\\Anaconda3\\lib\\site-packages\\seaborn\\_decorators.py:36: FutureWarning: Pass the following variable as a keyword arg: x. From version 0.12, the only valid positional argument will be `data`, and passing other arguments without an explicit keyword will result in an error or misinterpretation.\n",
      "  warnings.warn(\n"
     ]
    },
    {
     "data": {
      "image/png": "[encoded data removed]",
      "text/plain": [
       "<Figure size 432x288 with 1 Axes>"
      ]
     },
     "metadata": {
      "needs_background": "light"
     },
     "output_type": "display_data"
    },
    {
     "data": {
      "image/png": "[encoded data removed]",
      "text/plain": [
       "<Figure size 432x288 with 1 Axes>"
      ]
     },
     "metadata": {
      "needs_background": "light"
     },
     "output_type": "display_data"
    },
    {
     "name": "stderr",
     "output_type": "stream",
     "text": [
      "C:\\ProgramData\\Anaconda3\\lib\\site-packages\\seaborn\\_decorators.py:36: FutureWarning: Pass the following variable as a keyword arg: x. From version 0.12, the only valid positional argument will be `data`, and passing other arguments without an explicit keyword will result in an error or misinterpretation.\n",
      "  warnings.warn(\n"
     ]
    },
    {
     "data": {
      "image/png": "[encoded data removed]",
      "text/plain": [
       "<Figure size 432x288 with 1 Axes>"
      ]
     },
     "metadata": {
      "needs_background": "light"
     },
     "output_type": "display_data"
    }
   ],
   "source": [
    "cat = ['explicit', 'genre']\n",
    "#plotting count plots for all variables except explicit and genre to show distribution\n",
    "for i in mlapp.columns:\n",
    "    if i =='performer':\n",
    "        pass\n",
    "    elif i in cat:\n",
    "        sns.countplot(mlapp[i])\n",
    "        plt.title(i)\n",
    "        plt.xticks(rotation = 90)\n",
    "        plt.show()\n",
    "    else:\n",
    "        plt.hist(mlapp[i])\n",
    "        plt.title(i)\n",
    "        plt.show()"
   ]
  },
  {
   "cell_type": "markdown",
   "id": "a8b75cd2",
   "metadata": {},
   "source": [
    "### Encoding the categorical variables\n",
    "And plotting histograms once encoded to see the distribution of performer"
   ]
  },
  {
   "cell_type": "code",
   "execution_count": 172,
   "id": "fe9fff62",
   "metadata": {},
   "outputs": [],
   "source": [
    "#creating label encoder\n",
    "le = LabelEncoder()\n",
    "#encoding genre, performer and explicit\n",
    "mlapp['genre'] = le.fit_transform(mlapp['genre'])\n",
    "mlapp['performer'] = le.fit_transform(mlapp['performer'])\n",
    "mlapp['explicit'] = le.fit_transform(mlapp['explicit'])"
   ]
  },
  {
   "cell_type": "code",
   "execution_count": 173,
   "id": "8caed270",
   "metadata": {},
   "outputs": [
    {
     "data": {
      "text/html": [
       "<div>\n",
       "<style scoped>\n",
       "    .dataframe tbody tr th:only-of-type {\n",
       "        vertical-align: middle;\n",
       "    }\n",
       "\n",
       "    .dataframe tbody tr th {\n",
       "        vertical-align: top;\n",
       "    }\n",
       "\n",
       "    .dataframe thead th {\n",
       "        text-align: right;\n",
       "    }\n",
       "</style>\n",
       "<table border=\"1\" class=\"dataframe\">\n",
       "  <thead>\n",
       "    <tr style=\"text-align: right;\">\n",
       "      <th></th>\n",
       "      <th>performer</th>\n",
       "      <th>peak_position</th>\n",
       "      <th>worst_position</th>\n",
       "      <th>total_time</th>\n",
       "      <th>max_consecutive</th>\n",
       "      <th>reentry</th>\n",
       "      <th>track_length</th>\n",
       "      <th>explicit</th>\n",
       "      <th>popularity</th>\n",
       "      <th>genre</th>\n",
       "    </tr>\n",
       "  </thead>\n",
       "  <tbody>\n",
       "    <tr>\n",
       "      <th>0</th>\n",
       "      <td>595</td>\n",
       "      <td>71</td>\n",
       "      <td>100</td>\n",
       "      <td>19</td>\n",
       "      <td>13</td>\n",
       "      <td>3</td>\n",
       "      <td>290835</td>\n",
       "      <td>1</td>\n",
       "      <td>62</td>\n",
       "      <td>14</td>\n",
       "    </tr>\n",
       "    <tr>\n",
       "      <th>1</th>\n",
       "      <td>207</td>\n",
       "      <td>18</td>\n",
       "      <td>97</td>\n",
       "      <td>36</td>\n",
       "      <td>36</td>\n",
       "      <td>1</td>\n",
       "      <td>224213</td>\n",
       "      <td>0</td>\n",
       "      <td>74</td>\n",
       "      <td>5</td>\n",
       "    </tr>\n",
       "    <tr>\n",
       "      <th>2</th>\n",
       "      <td>969</td>\n",
       "      <td>39</td>\n",
       "      <td>91</td>\n",
       "      <td>2</td>\n",
       "      <td>2</td>\n",
       "      <td>1</td>\n",
       "      <td>229840</td>\n",
       "      <td>0</td>\n",
       "      <td>66</td>\n",
       "      <td>12</td>\n",
       "    </tr>\n",
       "    <tr>\n",
       "      <th>3</th>\n",
       "      <td>808</td>\n",
       "      <td>22</td>\n",
       "      <td>47</td>\n",
       "      <td>12</td>\n",
       "      <td>5</td>\n",
       "      <td>4</td>\n",
       "      <td>178293</td>\n",
       "      <td>0</td>\n",
       "      <td>68</td>\n",
       "      <td>0</td>\n",
       "    </tr>\n",
       "    <tr>\n",
       "      <th>4</th>\n",
       "      <td>969</td>\n",
       "      <td>4</td>\n",
       "      <td>96</td>\n",
       "      <td>19</td>\n",
       "      <td>19</td>\n",
       "      <td>1</td>\n",
       "      <td>208186</td>\n",
       "      <td>0</td>\n",
       "      <td>75</td>\n",
       "      <td>12</td>\n",
       "    </tr>\n",
       "  </tbody>\n",
       "</table>\n",
       "</div>"
      ],
      "text/plain": [
       "   performer  peak_position  worst_position  total_time  max_consecutive  \\\n",
       "0        595             71             100          19               13   \n",
       "1        207             18              97          36               36   \n",
       "2        969             39              91           2                2   \n",
       "3        808             22              47          12                5   \n",
       "4        969              4              96          19               19   \n",
       "\n",
       "   reentry  track_length  explicit  popularity  genre  \n",
       "0        3        290835         1          62     14  \n",
       "1        1        224213         0          74      5  \n",
       "2        1        229840         0          66     12  \n",
       "3        4        178293         0          68      0  \n",
       "4        1        208186         0          75     12  "
      ]
     },
     "execution_count": 173,
     "metadata": {},
     "output_type": "execute_result"
    }
   ],
   "source": [
    "#looking at the data\n",
    "mlapp.head()"
   ]
  },
  {
   "cell_type": "code",
   "execution_count": 66,
   "id": "8ee92f51",
   "metadata": {},
   "outputs": [
    {
     "data": {
      "image/png": "[encoded data removed]",
      "text/plain": [
       "<Figure size 360x360 with 1 Axes>"
      ]
     },
     "metadata": {
      "needs_background": "light"
     },
     "output_type": "display_data"
    },
    {
     "data": {
      "image/png": "[encoded data removed]",
      "text/plain": [
       "<Figure size 360x360 with 1 Axes>"
      ]
     },
     "metadata": {
      "needs_background": "light"
     },
     "output_type": "display_data"
    },
    {
     "data": {
      "image/png": "[encoded data removed]",
      "text/plain": [
       "<Figure size 360x360 with 1 Axes>"
      ]
     },
     "metadata": {
      "needs_background": "light"
     },
     "output_type": "display_data"
    },
    {
     "data": {
      "image/png": "[encoded data removed]",
      "text/plain": [
       "<Figure size 360x360 with 1 Axes>"
      ]
     },
     "metadata": {
      "needs_background": "light"
     },
     "output_type": "display_data"
    },
    {
     "data": {
      "image/png": "[encoded data removed]",
      "text/plain": [
       "<Figure size 360x360 with 1 Axes>"
      ]
     },
     "metadata": {
      "needs_background": "light"
     },
     "output_type": "display_data"
    },
    {
     "data": {
      "image/png": "[encoded data removed]",
      "text/plain": [
       "<Figure size 360x360 with 1 Axes>"
      ]
     },
     "metadata": {
      "needs_background": "light"
     },
     "output_type": "display_data"
    },
    {
     "data": {
      "image/png": "[encoded data removed]",
      "text/plain": [
       "<Figure size 360x360 with 1 Axes>"
      ]
     },
     "metadata": {
      "needs_background": "light"
     },
     "output_type": "display_data"
    },
    {
     "data": {
      "image/png": "[encoded data removed]",
      "text/plain": [
       "<Figure size 360x360 with 1 Axes>"
      ]
     },
     "metadata": {
      "needs_background": "light"
     },
     "output_type": "display_data"
    },
    {
     "data": {
      "image/png": "[encoded data removed]",
      "text/plain": [
       "<Figure size 360x360 with 1 Axes>"
      ]
     },
     "metadata": {
      "needs_background": "light"
     },
     "output_type": "display_data"
    },
    {
     "data": {
      "image/png": "[encoded data removed]",
      "text/plain": [
       "<Figure size 360x360 with 1 Axes>"
      ]
     },
     "metadata": {
      "needs_background": "light"
     },
     "output_type": "display_data"
    }
   ],
   "source": [
    "#displots of these new variables\n",
    "for i in mlapp.columns:\n",
    "    sns.displot(mlapp[i], kde= True)\n",
    "    plt.title(i)\n",
    "    plt.show()"
   ]
  },
  {
   "cell_type": "markdown",
   "id": "ea53e64b",
   "metadata": {},
   "source": [
    "### Scaling\n",
    "Since this data does not appear normal, it should be scaled using normalisation (MinMaxScaler). Before this, we separate to X and y where y is the variable we want to predict first, peak position and X is all other columns. We then split to train and testing data using train_test_split."
   ]
  },
  {
   "cell_type": "code",
   "execution_count": 67,
   "id": "00d5ce01",
   "metadata": {},
   "outputs": [],
   "source": [
    "#setting X and y\n",
    "X = mlapp.drop(columns = 'peak_position')\n",
    "y = mlapp['peak_position'].values.reshape(-1,1)\n",
    "#splitting to train and test\n",
    "X_train, X_test, y_train, y_test = train_test_split(X,y, test_size = 0.3, random_state = 42)"
   ]
  },
  {
   "cell_type": "code",
   "execution_count": 68,
   "id": "80e9ebde",
   "metadata": {},
   "outputs": [],
   "source": [
    "from sklearn.preprocessing import MinMaxScaler\n",
    "#set scaler\n",
    "scaler = MinMaxScaler()\n",
    "#scale data\n",
    "X_train_scaled = scaler.fit_transform(X_train)\n",
    "X_test_scaled = scaler.transform(X_test)\n",
    "y_train_scaled = scaler.fit_transform(y_train)\n",
    "y_test_scaled = scaler.transform(y_test)"
   ]
  },
  {
   "cell_type": "markdown",
   "id": "b9454bce",
   "metadata": {},
   "source": [
    "## Linear regression\n",
    "After checking the heatmap, we can see total time and peak position are highly negatively correlated so this will be used in linear regression"
   ]
  },
  {
   "cell_type": "code",
   "execution_count": 69,
   "id": "94977349",
   "metadata": {},
   "outputs": [
    {
     "data": {
      "text/plain": [
       "<AxesSubplot:>"
      ]
     },
     "execution_count": 69,
     "metadata": {},
     "output_type": "execute_result"
    },
    {
     "data": {
      "image/png": "[encoded data removed]",
      "text/plain": [
       "<Figure size 432x288 with 2 Axes>"
      ]
     },
     "metadata": {
      "needs_background": "light"
     },
     "output_type": "display_data"
    }
   ],
   "source": [
    "#look at correlation\n",
    "sns.heatmap(mlapp.corr())"
   ]
  },
  {
   "cell_type": "markdown",
   "id": "593fdc99",
   "metadata": {},
   "source": [
    "Creating, splitting and scaling X and y for linear regression"
   ]
  },
  {
   "cell_type": "code",
   "execution_count": 70,
   "id": "36f26022",
   "metadata": {},
   "outputs": [],
   "source": [
    "#creating X and y for linear\n",
    "X_lin = mlapp['total_time'].to_numpy().reshape(-1,1)\n",
    "y_lin = mlapp['peak_position'].to_numpy().reshape(-1,1)\n",
    "#splitting to train and test\n",
    "X_lt = X_train['total_time'].to_numpy().reshape(-1,1)\n",
    "y_lt = y_train\n",
    "X_ltest = X_test['total_time'].to_numpy().reshape(-1,1)\n",
    "y_ltest = y_test"
   ]
  },
  {
   "cell_type": "code",
   "execution_count": 71,
   "id": "0e3fcfd5",
   "metadata": {},
   "outputs": [],
   "source": [
    "#scaling each of these\n",
    "scaler = MinMaxScaler()\n",
    "X_lt = scaler.fit_transform(X_lt)\n",
    "X_ltest = scaler.transform(X_ltest)\n",
    "y_lt = scaler.fit_transform(y_lt)\n",
    "y_ltest = scaler.transform(y_ltest)\n",
    "X_lin_scaled = scaler.fit_transform(X_lin)\n",
    "y_lin_scaled = scaler.transform(y_lin)"
   ]
  },
  {
   "cell_type": "markdown",
   "id": "86dc731c",
   "metadata": {},
   "source": [
    "Define and apply the linear regression model"
   ]
  },
  {
   "cell_type": "code",
   "execution_count": 72,
   "id": "8cdd899d",
   "metadata": {},
   "outputs": [],
   "source": [
    "from sklearn.linear_model import LinearRegression\n",
    "#define regressor and train model\n",
    "regressor = LinearRegression()\n",
    "#fitting\n",
    "regressor.fit(X_lt, y_lt)\n",
    "#predicting\n",
    "y_lin_pred = regressor.predict(X_ltest)"
   ]
  },
  {
   "cell_type": "markdown",
   "id": "6f656263",
   "metadata": {},
   "source": [
    "Plotting the training X and y against the predicted y"
   ]
  },
  {
   "cell_type": "code",
   "execution_count": 73,
   "id": "66de5970",
   "metadata": {},
   "outputs": [
    {
     "data": {
      "text/plain": [
       "[<matplotlib.lines.Line2D at 0x1b74b65eee0>]"
      ]
     },
     "execution_count": 73,
     "metadata": {},
     "output_type": "execute_result"
    },
    {
     "data": {
      "image/png": "[encoded data removed]",
      "text/plain": [
       "<Figure size 432x288 with 1 Axes>"
      ]
     },
     "metadata": {
      "needs_background": "light"
     },
     "output_type": "display_data"
    }
   ],
   "source": [
    "#plot training and prediction\n",
    "plt.scatter(X_lt, y_lt, color = 'r')\n",
    "plt.plot(X_lt, regressor.predict(X_lt), color = 'b')"
   ]
  },
  {
   "cell_type": "markdown",
   "id": "553472f8",
   "metadata": {},
   "source": [
    "Plotting test values and that predicted using training"
   ]
  },
  {
   "cell_type": "code",
   "execution_count": 74,
   "id": "9fc5ce6d",
   "metadata": {},
   "outputs": [
    {
     "data": {
      "text/plain": [
       "Text(0, 0.5, 'Peak position')"
      ]
     },
     "execution_count": 74,
     "metadata": {},
     "output_type": "execute_result"
    },
    {
     "data": {
      "image/png": "[encoded data removed]",
      "text/plain": [
       "<Figure size 432x288 with 1 Axes>"
      ]
     },
     "metadata": {
      "needs_background": "light"
     },
     "output_type": "display_data"
    }
   ],
   "source": [
    "#plot test and prediction\n",
    "plt.scatter(X_ltest, y_ltest, color = 'r')\n",
    "plt.plot(X_lt, regressor.predict(X_lt), color = 'b')\n",
    "plt.title('Actual vs Predicted peak position by debut')\n",
    "plt.xlabel('Debut')\n",
    "plt.ylabel('Peak position')"
   ]
  },
  {
   "cell_type": "markdown",
   "id": "dda63e7c",
   "metadata": {},
   "source": [
    "Metrics: R^2, MAE, MSE, RMSE"
   ]
  },
  {
   "cell_type": "code",
   "execution_count": 75,
   "id": "ae9b99cb",
   "metadata": {},
   "outputs": [
    {
     "data": {
      "text/plain": [
       "0.4142704849353158"
      ]
     },
     "execution_count": 75,
     "metadata": {},
     "output_type": "execute_result"
    }
   ],
   "source": [
    "#r2 score\n",
    "regressor.score(X_ltest, y_ltest)"
   ]
  },
  {
   "cell_type": "code",
   "execution_count": 76,
   "id": "e5f7b5f3",
   "metadata": {},
   "outputs": [
    {
     "name": "stdout",
     "output_type": "stream",
     "text": [
      "MAE: 0.18600587947209007\n",
      "MSE: 0.05026116137271718\n",
      "RMSE:  0.22419001175948314\n"
     ]
    }
   ],
   "source": [
    "#other metrics\n",
    "print(f'MAE: {metrics.mean_absolute_error(y_test_scaled, y_lin_pred)}')\n",
    "print('MSE:', metrics.mean_squared_error(y_test_scaled, y_lin_pred))\n",
    "print('RMSE: ', np.sqrt(metrics.mean_squared_error(y_test_scaled, y_lin_pred)))"
   ]
  },
  {
   "cell_type": "markdown",
   "id": "ece39749",
   "metadata": {},
   "source": [
    "Coefficients for the equation"
   ]
  },
  {
   "cell_type": "code",
   "execution_count": 77,
   "id": "56dc3cef",
   "metadata": {},
   "outputs": [
    {
     "data": {
      "text/plain": [
       "(array([[-1.39477971]]), array([0.63436401]))"
      ]
     },
     "execution_count": 77,
     "metadata": {},
     "output_type": "execute_result"
    }
   ],
   "source": [
    "#coef and intercepts for equation\n",
    "regressor.coef_, regressor.intercept_"
   ]
  },
  {
   "cell_type": "markdown",
   "id": "01e183b2",
   "metadata": {},
   "source": [
    "Actual VS predicted values"
   ]
  },
  {
   "cell_type": "code",
   "execution_count": 78,
   "id": "624cd1c5",
   "metadata": {},
   "outputs": [
    {
     "data": {
      "image/png": "[encoded data removed]",
      "text/plain": [
       "<Figure size 432x288 with 1 Axes>"
      ]
     },
     "metadata": {
      "needs_background": "light"
     },
     "output_type": "display_data"
    }
   ],
   "source": [
    "#actual vs predicted peak position\n",
    "plt.scatter(y_test_scaled, y_lin_pred)\n",
    "plt.xlabel('Actual')\n",
    "plt.ylabel('Predicted')\n",
    "plt.title('Actual vs Predicted Peak Position')\n",
    "plt.show()"
   ]
  },
  {
   "cell_type": "markdown",
   "id": "972bfa27",
   "metadata": {},
   "source": [
    "Using cross validation to find the average R^2, MAE, MSE, RMSE"
   ]
  },
  {
   "cell_type": "code",
   "execution_count": 122,
   "id": "c2328a80",
   "metadata": {},
   "outputs": [],
   "source": [
    "#cross validation train and test split\n",
    "cv = KFold(n_splits = 10, shuffle = True, random_state = 42)\n",
    "#metrics included in the cross val\n",
    "score_metrics = ['r2','neg_mean_absolute_error', 'neg_mean_squared_error','neg_root_mean_squared_error']\n",
    "#creating the values\n",
    "score_lin_all = cross_validate(regressor, X_lin_scaled, y_lin_scaled, cv = cv, scoring = score_metrics )"
   ]
  },
  {
   "cell_type": "markdown",
   "id": "6c17fb10",
   "metadata": {},
   "source": [
    "## Multiple linear"
   ]
  },
  {
   "cell_type": "markdown",
   "id": "6c88deea",
   "metadata": {},
   "source": [
    "Creating and training the multiple linear model"
   ]
  },
  {
   "cell_type": "code",
   "execution_count": 80,
   "id": "afacaa67",
   "metadata": {},
   "outputs": [],
   "source": [
    "#define and train model\n",
    "mreg  =LinearRegression()\n",
    "#fitting\n",
    "mreg.fit(X_train_scaled, y_train_scaled)\n",
    "#predicting\n",
    "y_mlpred = mreg.predict(X_test_scaled)"
   ]
  },
  {
   "cell_type": "markdown",
   "id": "4227c10b",
   "metadata": {},
   "source": [
    "Plotting actual and predicted values"
   ]
  },
  {
   "cell_type": "code",
   "execution_count": 81,
   "id": "2107b0ad",
   "metadata": {},
   "outputs": [
    {
     "data": {
      "image/png": "[encoded data removed]",
      "text/plain": [
       "<Figure size 432x288 with 1 Axes>"
      ]
     },
     "metadata": {
      "needs_background": "light"
     },
     "output_type": "display_data"
    }
   ],
   "source": [
    "#plot actual and predicted peak position\n",
    "plt.scatter(y_test_scaled, y_mlpred)\n",
    "plt.xlabel('Actual')\n",
    "plt.ylabel('Predicted')\n",
    "plt.title('Actual vs Predicted Peak Position')\n",
    "plt.show()"
   ]
  },
  {
   "cell_type": "markdown",
   "id": "5d5ff4c5",
   "metadata": {},
   "source": [
    "Metrics: R^2, MAE, MSE, RMSE"
   ]
  },
  {
   "cell_type": "code",
   "execution_count": 82,
   "id": "6cf79125",
   "metadata": {},
   "outputs": [
    {
     "data": {
      "text/plain": [
       "0.49754054169162965"
      ]
     },
     "execution_count": 82,
     "metadata": {},
     "output_type": "execute_result"
    }
   ],
   "source": [
    "#r2 score\n",
    "mreg.score(X_test_scaled, y_test_scaled)"
   ]
  },
  {
   "cell_type": "code",
   "execution_count": 83,
   "id": "0686f9d7",
   "metadata": {},
   "outputs": [
    {
     "name": "stdout",
     "output_type": "stream",
     "text": [
      "MAE: 0.17023745642329866\n",
      "MSE: 0.04311579879066903\n",
      "RMSE:  0.20764344148243408\n"
     ]
    }
   ],
   "source": [
    "#other metrics\n",
    "print(f'MAE: {metrics.mean_absolute_error(y_test_scaled, y_mlpred)}')\n",
    "print('MSE:', metrics.mean_squared_error(y_test_scaled, y_mlpred))\n",
    "print('RMSE: ', np.sqrt(metrics.mean_squared_error(y_test_scaled, y_mlpred)))"
   ]
  },
  {
   "cell_type": "markdown",
   "id": "e80f461a",
   "metadata": {},
   "source": [
    "Values for equation"
   ]
  },
  {
   "cell_type": "code",
   "execution_count": 84,
   "id": "29d4f203",
   "metadata": {},
   "outputs": [
    {
     "data": {
      "text/plain": [
       "(array([[ 0.04324761,  0.39988735, -0.36807915, -1.05417293, -0.25842133,\n",
       "         -0.07148628, -0.01823514, -0.10186662, -0.06305162]]),\n",
       " array([0.41741562]))"
      ]
     },
     "execution_count": 84,
     "metadata": {},
     "output_type": "execute_result"
    }
   ],
   "source": [
    "#coefficients and intercept\n",
    "mreg.coef_, mreg.intercept_"
   ]
  },
  {
   "cell_type": "markdown",
   "id": "823ec502",
   "metadata": {},
   "source": [
    "Cross validation - scaling X and y first"
   ]
  },
  {
   "cell_type": "code",
   "execution_count": 85,
   "id": "f3d7a3dc",
   "metadata": {},
   "outputs": [],
   "source": [
    "#scale for cross val score\n",
    "#set X and y\n",
    "X = mlapp.drop(columns = 'peak_position')\n",
    "y = mlapp['peak_position'].values.reshape(-1,1)\n",
    "#scale these\n",
    "scaler = MinMaxScaler()\n",
    "X_scaled = scaler.fit_transform(X)\n",
    "y_scaled = scaler.fit_transform(y)"
   ]
  },
  {
   "cell_type": "code",
   "execution_count": 121,
   "id": "9255f8ed",
   "metadata": {},
   "outputs": [],
   "source": [
    "#perform cross val\n",
    "score_ml = cross_val_score(mreg, X_scaled, y_scaled, cv=10, scoring = 'r2')\n",
    "score_ml_all = cross_validate(mreg, X_scaled, y_scaled, cv = cv, scoring = score_metrics )"
   ]
  },
  {
   "cell_type": "markdown",
   "id": "7110f7af",
   "metadata": {},
   "source": [
    "## Ridge regression\n",
    "This does not require the scaled X and y so X_train, X_test, y_train, y_test will be used\n",
    "\n",
    "Creating and finding the optimal alpha for the model"
   ]
  },
  {
   "cell_type": "code",
   "execution_count": 87,
   "id": "8c3f1ecf",
   "metadata": {},
   "outputs": [],
   "source": [
    "#create method\n",
    "ridge = Ridge()\n",
    "#use to find optimal alpha\n",
    "cv = RepeatedKFold(n_splits=10, n_repeats=3, random_state=42)\n",
    "grid = dict()\n",
    "#alpha is 0 to 1\n",
    "grid['alpha'] = np.arange(0, 1, 0.01)\n",
    "search = GridSearchCV(ridge, grid, scoring='neg_mean_absolute_error', cv=cv, n_jobs=-1)\n",
    "results = search.fit(X_train, y_train)"
   ]
  },
  {
   "cell_type": "code",
   "execution_count": 88,
   "id": "573b9976",
   "metadata": {},
   "outputs": [
    {
     "name": "stdout",
     "output_type": "stream",
     "text": [
      "MAE: -16.603\n",
      "Config: {'alpha': 0.0}\n"
     ]
    }
   ],
   "source": [
    "#print best alpha\n",
    "print('MAE: %.3f' % results.best_score_)\n",
    "print('Config: %s' % results.best_params_)"
   ]
  },
  {
   "cell_type": "markdown",
   "id": "0c6a46af",
   "metadata": {},
   "source": [
    "Best alpha is 0\n",
    "Creating and training where alpha = 0"
   ]
  },
  {
   "cell_type": "code",
   "execution_count": 90,
   "id": "b55a3ce0",
   "metadata": {},
   "outputs": [],
   "source": [
    "#create with this alpha\n",
    "ridge_opt = Ridge(alpha=0) # alpha corresponds to the penalty - closer to 1 is a bigger penalty\n",
    "#fit\n",
    "ridge_opt.fit(X_train, y_train)\n",
    "#predict\n",
    "y_ridgeopt_pred = ridge_opt.predict(X_test)\n",
    "\n"
   ]
  },
  {
   "cell_type": "markdown",
   "id": "67f377a4",
   "metadata": {},
   "source": [
    "Plotting actual and predicted values"
   ]
  },
  {
   "cell_type": "code",
   "execution_count": 91,
   "id": "3afa4c8d",
   "metadata": {},
   "outputs": [
    {
     "data": {
      "image/png": "[encoded data removed]",
      "text/plain": [
       "<Figure size 432x288 with 1 Axes>"
      ]
     },
     "metadata": {
      "needs_background": "light"
     },
     "output_type": "display_data"
    }
   ],
   "source": [
    "#plot actual and predicted peak position\n",
    "plt.scatter(y_test,y_ridgeopt_pred)\n",
    "plt.xlabel('Actual')\n",
    "plt.ylabel('Predicted')\n",
    "plt.title('Actual vs Predicted Peak Position')\n",
    "plt.show()"
   ]
  },
  {
   "cell_type": "markdown",
   "id": "ab70ba52",
   "metadata": {},
   "source": [
    "Metrics: R^2, MAE, MSE, RMSE"
   ]
  },
  {
   "cell_type": "code",
   "execution_count": 92,
   "id": "74c318e2",
   "metadata": {},
   "outputs": [
    {
     "data": {
      "text/plain": [
       "0.4975405416916294"
      ]
     },
     "execution_count": 92,
     "metadata": {},
     "output_type": "execute_result"
    }
   ],
   "source": [
    "#r2 score\n",
    "ridge_opt.score(X_test, y_test)"
   ]
  },
  {
   "cell_type": "code",
   "execution_count": 93,
   "id": "73df6a60",
   "metadata": {},
   "outputs": [
    {
     "name": "stdout",
     "output_type": "stream",
     "text": [
      "MAE: 16.85350818590657\n",
      "MSE: 422.57794394734725\n",
      "RMSE:  20.556700706760978\n"
     ]
    }
   ],
   "source": [
    "#other metrics\n",
    "print(f'MAE: {metrics.mean_absolute_error(y_test, y_ridgeopt_pred)}')\n",
    "print('MSE:', metrics.mean_squared_error(y_test, y_ridgeopt_pred))\n",
    "print('RMSE: ', np.sqrt(metrics.mean_squared_error(y_test, y_ridgeopt_pred)))"
   ]
  },
  {
   "cell_type": "markdown",
   "id": "dc2a9bd0",
   "metadata": {},
   "source": [
    "Values for equation"
   ]
  },
  {
   "cell_type": "code",
   "execution_count": 94,
   "id": "e341b5ae",
   "metadata": {},
   "outputs": [
    {
     "data": {
      "text/plain": [
       "(array([[ 3.92439379e-03,  4.08132447e-01, -4.04887060e-01,\n",
       "         -1.17261932e+00, -2.55837119e+00, -1.21373469e-05,\n",
       "         -1.80527841e+00, -1.03966964e-01, -3.67182973e-01]]),\n",
       " array([45.68486578]))"
      ]
     },
     "execution_count": 94,
     "metadata": {},
     "output_type": "execute_result"
    }
   ],
   "source": [
    "#coef and intercept for equation\n",
    "ridge_opt.coef_, ridge_opt.intercept_"
   ]
  },
  {
   "cell_type": "markdown",
   "id": "0a04a900",
   "metadata": {},
   "source": [
    "Cross validation"
   ]
  },
  {
   "cell_type": "code",
   "execution_count": 119,
   "id": "4e51853a",
   "metadata": {},
   "outputs": [],
   "source": [
    "#give cross val\n",
    "score = cross_val_score(ridge, X, y, cv=10, scoring = 'r2')\n",
    "score_ridge_all = cross_validate(ridge, X, y, cv = cv, scoring = score_metrics )\n"
   ]
  },
  {
   "cell_type": "markdown",
   "id": "3107e8ef",
   "metadata": {},
   "source": [
    "## Lasso"
   ]
  },
  {
   "cell_type": "markdown",
   "id": "c3429ff7",
   "metadata": {},
   "source": [
    "This does not use the scaled data either\n",
    "Creating and training the model"
   ]
  },
  {
   "cell_type": "code",
   "execution_count": 97,
   "id": "16f8018d",
   "metadata": {},
   "outputs": [],
   "source": [
    "from sklearn.linear_model import Lasso\n",
    "#define and train model\n",
    "lasso = Lasso()\n",
    "#fit model\n",
    "lasso.fit(X_train, y_train)\n",
    "#predict\n",
    "lasso_pred = lasso.predict(X_test)"
   ]
  },
  {
   "cell_type": "markdown",
   "id": "ca6c1f4a",
   "metadata": {},
   "source": [
    "Plotting actual and predicted values"
   ]
  },
  {
   "cell_type": "code",
   "execution_count": 98,
   "id": "e5936250",
   "metadata": {},
   "outputs": [
    {
     "data": {
      "image/png": "[encoded data removed]",
      "text/plain": [
       "<Figure size 432x288 with 1 Axes>"
      ]
     },
     "metadata": {
      "needs_background": "light"
     },
     "output_type": "display_data"
    }
   ],
   "source": [
    "#plot actual and predicted \n",
    "plt.scatter(y_test, lasso_pred)\n",
    "plt.title('Actual vs Predicted Peak Position')\n",
    "plt.xlabel('Actual')\n",
    "plt.ylabel('Predicted')\n",
    "plt.show()"
   ]
  },
  {
   "cell_type": "markdown",
   "id": "79f22686",
   "metadata": {},
   "source": [
    "Metrics: R^2, MAE, MSE, RMSE"
   ]
  },
  {
   "cell_type": "code",
   "execution_count": 99,
   "id": "623ae272",
   "metadata": {},
   "outputs": [
    {
     "data": {
      "text/plain": [
       "0.49496136876468677"
      ]
     },
     "execution_count": 99,
     "metadata": {},
     "output_type": "execute_result"
    }
   ],
   "source": [
    "#r2 score\n",
    "lasso.score(X_test, y_test)"
   ]
  },
  {
   "cell_type": "code",
   "execution_count": 100,
   "id": "8f7f5ff5",
   "metadata": {},
   "outputs": [
    {
     "name": "stdout",
     "output_type": "stream",
     "text": [
      "MAE: 16.88486573787883\n",
      "MSE: 424.7470773461322\n",
      "RMSE:  20.609392939777052\n"
     ]
    }
   ],
   "source": [
    "#other metrics\n",
    "print(f'MAE: {metrics.mean_absolute_error(y_test, lasso_pred)}')\n",
    "print('MSE:', metrics.mean_squared_error(y_test, lasso_pred))\n",
    "print('RMSE: ', np.sqrt(metrics.mean_squared_error(y_test, lasso_pred)))"
   ]
  },
  {
   "cell_type": "markdown",
   "id": "87f5cb9a",
   "metadata": {},
   "source": [
    "Values for equation"
   ]
  },
  {
   "cell_type": "code",
   "execution_count": 101,
   "id": "3a32f11e",
   "metadata": {},
   "outputs": [
    {
     "data": {
      "text/plain": [
       "(array([ 3.60332797e-03,  3.91194691e-01, -7.71016379e-01, -7.88988832e-01,\n",
       "        -0.00000000e+00, -1.04333203e-05, -0.00000000e+00, -1.09790925e-01,\n",
       "        -3.00009156e-01]),\n",
       " array([42.39463003]))"
      ]
     },
     "execution_count": 101,
     "metadata": {},
     "output_type": "execute_result"
    }
   ],
   "source": [
    "#coef for equation\n",
    "lasso.coef_, lasso.intercept_"
   ]
  },
  {
   "cell_type": "markdown",
   "id": "cbd75fe1",
   "metadata": {},
   "source": [
    "Cross validation"
   ]
  },
  {
   "cell_type": "code",
   "execution_count": 120,
   "id": "14022f60",
   "metadata": {},
   "outputs": [],
   "source": [
    "#give cross validation\n",
    "score_las = cross_val_score(lasso, X, y, cv=10, scoring = 'r2')\n",
    "score_las_all = cross_validate(lasso, X, y, cv = cv, scoring = score_metrics )"
   ]
  },
  {
   "cell_type": "markdown",
   "id": "7b949bc6",
   "metadata": {},
   "source": [
    "Multiple linear and Ridge regression performed the best out of the three\n",
    "\n",
    "Creating a table containing all metrics"
   ]
  },
  {
   "cell_type": "code",
   "execution_count": 104,
   "id": "d078f16b",
   "metadata": {},
   "outputs": [],
   "source": [
    "#separating to R^2, MAE, MSE, RMSE and methods to give as table\n",
    "rscores = [np.mean(score_lin_all['test_r2']), np.mean(score_ml_all['test_r2']), np.mean(score_ridge_all['test_r2']), np.mean(score_las_all['test_r2'])]\n",
    "methods = ['Linear', 'Multiple Linear', 'Ridge', 'Lasso']\n",
    "maes = [abs(np.mean(score_lin_all['test_neg_mean_absolute_error'])), abs(np.mean(score_ml_all['test_neg_mean_absolute_error'])), abs(np.mean(score_ridge_all['test_neg_mean_absolute_error'])), abs(np.mean(score_las_all['test_neg_mean_absolute_error']))]\n",
    "mses = [abs(np.mean(score_lin_all['test_neg_mean_squared_error'])), abs(np.mean(score_ml_all['test_neg_mean_squared_error'])), abs(np.mean(score_ridge_all['test_neg_mean_squared_error'])), abs(np.mean(score_las_all['test_neg_mean_squared_error']))]\n",
    "rmses = [abs(np.mean(score_lin_all['test_neg_root_mean_squared_error'])), abs(np.mean(score_ml_all['test_neg_root_mean_squared_error'])), abs(np.mean(score_ridge_all['test_neg_root_mean_squared_error'])), abs(np.mean(score_las_all['test_neg_root_mean_squared_error']))]\n",
    "\n",
    "evalu = pd.DataFrame(data = {\n",
    "    'Type of regression': methods,\n",
    "    'Mean of cross val R^2 score': rscores,\n",
    "    'Mean of Mean absolute errors': maes,\n",
    "    'Mean of Mean squared errors': mses,\n",
    "    'Mean of Root mean squared errors': rmses\n",
    "})"
   ]
  },
  {
   "cell_type": "code",
   "execution_count": 221,
   "id": "e05e4df5",
   "metadata": {},
   "outputs": [
    {
     "data": {
      "text/html": [
       "<div>\n",
       "<style scoped>\n",
       "    .dataframe tbody tr th:only-of-type {\n",
       "        vertical-align: middle;\n",
       "    }\n",
       "\n",
       "    .dataframe tbody tr th {\n",
       "        vertical-align: top;\n",
       "    }\n",
       "\n",
       "    .dataframe thead th {\n",
       "        text-align: right;\n",
       "    }\n",
       "</style>\n",
       "<table border=\"1\" class=\"dataframe\">\n",
       "  <thead>\n",
       "    <tr style=\"text-align: right;\">\n",
       "      <th></th>\n",
       "      <th>Type of regression</th>\n",
       "      <th>Mean of cross val R^2 score</th>\n",
       "      <th>Mean of Mean absolute errors</th>\n",
       "      <th>Mean of Mean squared errors</th>\n",
       "      <th>Mean of Root mean squared errors</th>\n",
       "    </tr>\n",
       "  </thead>\n",
       "  <tbody>\n",
       "    <tr>\n",
       "      <th>0</th>\n",
       "      <td>Linear</td>\n",
       "      <td>0.401381</td>\n",
       "      <td>0.203842</td>\n",
       "      <td>0.060754</td>\n",
       "      <td>0.246319</td>\n",
       "    </tr>\n",
       "    <tr>\n",
       "      <th>1</th>\n",
       "      <td>Multiple Linear</td>\n",
       "      <td>0.485405</td>\n",
       "      <td>0.168404</td>\n",
       "      <td>0.043152</td>\n",
       "      <td>0.207505</td>\n",
       "    </tr>\n",
       "    <tr>\n",
       "      <th>2</th>\n",
       "      <td>Ridge</td>\n",
       "      <td>0.485371</td>\n",
       "      <td>16.674605</td>\n",
       "      <td>422.859787</td>\n",
       "      <td>20.550977</td>\n",
       "    </tr>\n",
       "    <tr>\n",
       "      <th>3</th>\n",
       "      <td>Lasso</td>\n",
       "      <td>0.482522</td>\n",
       "      <td>16.752684</td>\n",
       "      <td>425.216095</td>\n",
       "      <td>20.608387</td>\n",
       "    </tr>\n",
       "  </tbody>\n",
       "</table>\n",
       "</div>"
      ],
      "text/plain": [
       "  Type of regression  Mean of cross val R^2 score  \\\n",
       "0             Linear                     0.401381   \n",
       "1    Multiple Linear                     0.485405   \n",
       "2              Ridge                     0.485371   \n",
       "3              Lasso                     0.482522   \n",
       "\n",
       "   Mean of Mean absolute errors  Mean of Mean squared errors  \\\n",
       "0                      0.203842                     0.060754   \n",
       "1                      0.168404                     0.043152   \n",
       "2                     16.674605                   422.859787   \n",
       "3                     16.752684                   425.216095   \n",
       "\n",
       "   Mean of Root mean squared errors  \n",
       "0                          0.246319  \n",
       "1                          0.207505  \n",
       "2                         20.550977  \n",
       "3                         20.608387  "
      ]
     },
     "execution_count": 221,
     "metadata": {},
     "output_type": "execute_result"
    }
   ],
   "source": [
    "#show table\n",
    "evalu"
   ]
  },
  {
   "cell_type": "markdown",
   "id": "de26ce37",
   "metadata": {},
   "source": [
    "Since these are not very high scores, we can use classification instead to see in which category the peak position will be in."
   ]
  },
  {
   "cell_type": "markdown",
   "id": "0a1646c4",
   "metadata": {},
   "source": [
    "## Classification\n",
    "### Importing data"
   ]
  },
  {
   "cell_type": "code",
   "execution_count": 4,
   "id": "fb328884",
   "metadata": {},
   "outputs": [],
   "source": [
    "#import csv and drop index column\n",
    "mlapp = pd.read_csv('appendgenre.csv')\n",
    "mlapp.drop(columns =['Unnamed: 0'], inplace = True)"
   ]
  },
  {
   "cell_type": "code",
   "execution_count": 5,
   "id": "9dfa566a",
   "metadata": {},
   "outputs": [],
   "source": [
    "#dropping song and debut\n",
    "mlapp.drop(columns = ['song', 'debut'], inplace = True)"
   ]
  },
  {
   "cell_type": "code",
   "execution_count": 8,
   "id": "c76a5f04",
   "metadata": {},
   "outputs": [],
   "source": [
    "#create label encoder\n",
    "le = LabelEncoder()\n",
    "#label encode same as above\n",
    "mlapp['genre'] = le.fit_transform(mlapp['genre'])\n",
    "mlapp['performer'] = le.fit_transform(mlapp['performer'])\n",
    "mlapp['explicit'] = le.fit_transform(mlapp['explicit'])"
   ]
  },
  {
   "cell_type": "markdown",
   "id": "f9fdc0ad",
   "metadata": {},
   "source": [
    "### Creating categories\n",
    "\n",
    "Song in top 25 or bottom 75"
   ]
  },
  {
   "cell_type": "code",
   "execution_count": 9,
   "id": "6e86097b",
   "metadata": {},
   "outputs": [],
   "source": [
    "top25 = range(1,26)\n",
    "to100 = range(26,101)\n",
    "#empty list\n",
    "peak_range = []\n",
    "#if peak in top 25 0, else 1\n",
    "for i in range(len(mlapp['peak_position'])):\n",
    "    if mlapp['peak_position'][i] in top25:\n",
    "        peak_range.append(0)\n",
    "    elif mlapp['peak_position'][i] in to100:\n",
    "        peak_range.append(1)"
   ]
  },
  {
   "cell_type": "markdown",
   "id": "b23ce14c",
   "metadata": {},
   "source": [
    "Adding peak range and removing peak position column"
   ]
  },
  {
   "cell_type": "code",
   "execution_count": 10,
   "id": "a7344054",
   "metadata": {},
   "outputs": [
    {
     "data": {
      "text/html": [
       "<div>\n",
       "<style scoped>\n",
       "    .dataframe tbody tr th:only-of-type {\n",
       "        vertical-align: middle;\n",
       "    }\n",
       "\n",
       "    .dataframe tbody tr th {\n",
       "        vertical-align: top;\n",
       "    }\n",
       "\n",
       "    .dataframe thead th {\n",
       "        text-align: right;\n",
       "    }\n",
       "</style>\n",
       "<table border=\"1\" class=\"dataframe\">\n",
       "  <thead>\n",
       "    <tr style=\"text-align: right;\">\n",
       "      <th></th>\n",
       "      <th>performer</th>\n",
       "      <th>worst_position</th>\n",
       "      <th>total_time</th>\n",
       "      <th>max_consecutive</th>\n",
       "      <th>reentry</th>\n",
       "      <th>track_length</th>\n",
       "      <th>explicit</th>\n",
       "      <th>popularity</th>\n",
       "      <th>genre</th>\n",
       "      <th>peak_range</th>\n",
       "    </tr>\n",
       "  </thead>\n",
       "  <tbody>\n",
       "    <tr>\n",
       "      <th>0</th>\n",
       "      <td>595</td>\n",
       "      <td>100</td>\n",
       "      <td>19</td>\n",
       "      <td>13</td>\n",
       "      <td>3</td>\n",
       "      <td>290835</td>\n",
       "      <td>1</td>\n",
       "      <td>62</td>\n",
       "      <td>14</td>\n",
       "      <td>1</td>\n",
       "    </tr>\n",
       "    <tr>\n",
       "      <th>1</th>\n",
       "      <td>207</td>\n",
       "      <td>97</td>\n",
       "      <td>36</td>\n",
       "      <td>36</td>\n",
       "      <td>1</td>\n",
       "      <td>224213</td>\n",
       "      <td>0</td>\n",
       "      <td>74</td>\n",
       "      <td>5</td>\n",
       "      <td>0</td>\n",
       "    </tr>\n",
       "    <tr>\n",
       "      <th>2</th>\n",
       "      <td>969</td>\n",
       "      <td>91</td>\n",
       "      <td>2</td>\n",
       "      <td>2</td>\n",
       "      <td>1</td>\n",
       "      <td>229840</td>\n",
       "      <td>0</td>\n",
       "      <td>66</td>\n",
       "      <td>12</td>\n",
       "      <td>1</td>\n",
       "    </tr>\n",
       "    <tr>\n",
       "      <th>3</th>\n",
       "      <td>808</td>\n",
       "      <td>47</td>\n",
       "      <td>12</td>\n",
       "      <td>5</td>\n",
       "      <td>4</td>\n",
       "      <td>178293</td>\n",
       "      <td>0</td>\n",
       "      <td>68</td>\n",
       "      <td>0</td>\n",
       "      <td>0</td>\n",
       "    </tr>\n",
       "    <tr>\n",
       "      <th>4</th>\n",
       "      <td>969</td>\n",
       "      <td>96</td>\n",
       "      <td>19</td>\n",
       "      <td>19</td>\n",
       "      <td>1</td>\n",
       "      <td>208186</td>\n",
       "      <td>0</td>\n",
       "      <td>75</td>\n",
       "      <td>12</td>\n",
       "      <td>0</td>\n",
       "    </tr>\n",
       "  </tbody>\n",
       "</table>\n",
       "</div>"
      ],
      "text/plain": [
       "   performer  worst_position  total_time  max_consecutive  reentry  \\\n",
       "0        595             100          19               13        3   \n",
       "1        207              97          36               36        1   \n",
       "2        969              91           2                2        1   \n",
       "3        808              47          12                5        4   \n",
       "4        969              96          19               19        1   \n",
       "\n",
       "   track_length  explicit  popularity  genre  peak_range  \n",
       "0        290835         1          62     14           1  \n",
       "1        224213         0          74      5           0  \n",
       "2        229840         0          66     12           1  \n",
       "3        178293         0          68      0           0  \n",
       "4        208186         0          75     12           0  "
      ]
     },
     "execution_count": 10,
     "metadata": {},
     "output_type": "execute_result"
    }
   ],
   "source": [
    "#add to data and remove old\n",
    "mlapp['peak_range'] = peak_range\n",
    "mlapp.drop(columns = 'peak_position', inplace = True)\n",
    "mlapp.head()"
   ]
  },
  {
   "cell_type": "markdown",
   "id": "4abe864b",
   "metadata": {},
   "source": [
    "Showing histogram of peak range to see why balancing is needed"
   ]
  },
  {
   "cell_type": "code",
   "execution_count": 11,
   "id": "a88f1837",
   "metadata": {},
   "outputs": [
    {
     "data": {
      "image/png": "[encoded data removed]",
      "text/plain": [
       "<Figure size 360x360 with 1 Axes>"
      ]
     },
     "metadata": {
      "needs_background": "light"
     },
     "output_type": "display_data"
    }
   ],
   "source": [
    "#distribution of peak range\n",
    "sns.displot(mlapp['peak_range'])\n",
    "plt.title('peak range')\n",
    "plt.show()"
   ]
  },
  {
   "cell_type": "markdown",
   "id": "ea75b6e1",
   "metadata": {},
   "source": [
    "With the histograms from above we can see the data is not normal so the MinMaxScaler will be used again. This histogram shows the data needs to be balanced as there are more in the range of 50-100 than 1-10.\n",
    "\n",
    "Defining variables, undersampling and splitting to train and test"
   ]
  },
  {
   "cell_type": "code",
   "execution_count": 12,
   "id": "39f31741",
   "metadata": {},
   "outputs": [
    {
     "data": {
      "image/png": "[encoded data removed]",
      "text/plain": [
       "<Figure size 432x288 with 1 Axes>"
      ]
     },
     "metadata": {
      "needs_background": "light"
     },
     "output_type": "display_data"
    }
   ],
   "source": [
    "#set X and y\n",
    "X = mlapp.drop(columns = 'peak_range')\n",
    "y = mlapp['peak_range'].values.reshape(-1,1)\n",
    "#create undersampled X and y\n",
    "undersample = RandomUnderSampler(sampling_strategy = 'majority')\n",
    "X_under, y_under = undersample.fit_resample(X,y)\n",
    "plt.hist(y_under)\n",
    "y_under = y_under.reshape(-1,1)\n",
    "#split to train and test from undersampled X and y\n",
    "X_train, X_test, y_train, y_test = train_test_split(X_under,y_under, test_size = 0.3, random_state = 42)"
   ]
  },
  {
   "cell_type": "markdown",
   "id": "a9e237c0",
   "metadata": {},
   "source": [
    "Scaling the data"
   ]
  },
  {
   "cell_type": "code",
   "execution_count": 13,
   "id": "f318baaa",
   "metadata": {},
   "outputs": [],
   "source": [
    "from sklearn.preprocessing import MinMaxScaler\n",
    "#set scaler\n",
    "scaler = MinMaxScaler()\n",
    "#scale data\n",
    "X_train_scaled = scaler.fit_transform(X_train)\n",
    "X_test_scaled = scaler.transform(X_test)\n",
    "y_train_scaled = scaler.fit_transform(y_train)\n",
    "y_test_scaled = scaler.transform(y_test)"
   ]
  },
  {
   "cell_type": "markdown",
   "id": "3caa6925",
   "metadata": {},
   "source": [
    "## KNN"
   ]
  },
  {
   "cell_type": "markdown",
   "id": "d0c32499",
   "metadata": {},
   "source": [
    "Finding initial K as the square root of the number of entries"
   ]
  },
  {
   "cell_type": "code",
   "execution_count": 14,
   "id": "6377896f",
   "metadata": {},
   "outputs": [
    {
     "data": {
      "text/plain": [
       "24.71841418861655"
      ]
     },
     "execution_count": 14,
     "metadata": {},
     "output_type": "execute_result"
    }
   ],
   "source": [
    "# to find k to use\n",
    "import math\n",
    "math.sqrt(len(y_test_scaled))\n",
    "#use k=23"
   ]
  },
  {
   "cell_type": "markdown",
   "id": "28faca2d",
   "metadata": {},
   "source": [
    "Creating and training model"
   ]
  },
  {
   "cell_type": "code",
   "execution_count": 15,
   "id": "fd8b7cd0",
   "metadata": {},
   "outputs": [
    {
     "name": "stderr",
     "output_type": "stream",
     "text": [
      "C:\\Users\\JasmineAlbert\\AppData\\Roaming\\Python\\Python39\\site-packages\\sklearn\\neighbors\\_classification.py:207: DataConversionWarning: A column-vector y was passed when a 1d array was expected. Please change the shape of y to (n_samples,), for example using ravel().\n",
      "  return self._fit(X, y)\n"
     ]
    },
    {
     "data": {
      "text/html": [
       "<style>#sk-container-id-1 {color: black;background-color: white;}#sk-container-id-1 pre{padding: 0;}#sk-container-id-1 div.sk-toggleable {background-color: white;}#sk-container-id-1 label.sk-toggleable__label {cursor: pointer;display: block;width: 100%;margin-bottom: 0;padding: 0.3em;box-sizing: border-box;text-align: center;}#sk-container-id-1 label.sk-toggleable__label-arrow:before {content: \"▸\";float: left;margin-right: 0.25em;color: #696969;}#sk-container-id-1 label.sk-toggleable__label-arrow:hover:before {color: black;}#sk-container-id-1 div.sk-estimator:hover label.sk-toggleable__label-arrow:before {color: black;}#sk-container-id-1 div.sk-toggleable__content {max-height: 0;max-width: 0;overflow: hidden;text-align: left;background-color: #f0f8ff;}#sk-container-id-1 div.sk-toggleable__content pre {margin: 0.2em;color: black;border-radius: 0.25em;background-color: #f0f8ff;}#sk-container-id-1 input.sk-toggleable__control:checked~div.sk-toggleable__content {max-height: 200px;max-width: 100%;overflow: auto;}#sk-container-id-1 input.sk-toggleable__control:checked~label.sk-toggleable__label-arrow:before {content: \"▾\";}#sk-container-id-1 div.sk-estimator input.sk-toggleable__control:checked~label.sk-toggleable__label {background-color: #d4ebff;}#sk-container-id-1 div.sk-label input.sk-toggleable__control:checked~label.sk-toggleable__label {background-color: #d4ebff;}#sk-container-id-1 input.sk-hidden--visually {border: 0;clip: rect(1px 1px 1px 1px);clip: rect(1px, 1px, 1px, 1px);height: 1px;margin: -1px;overflow: hidden;padding: 0;position: absolute;width: 1px;}#sk-container-id-1 div.sk-estimator {font-family: monospace;background-color: #f0f8ff;border: 1px dotted black;border-radius: 0.25em;box-sizing: border-box;margin-bottom: 0.5em;}#sk-container-id-1 div.sk-estimator:hover {background-color: #d4ebff;}#sk-container-id-1 div.sk-parallel-item::after {content: \"\";width: 100%;border-bottom: 1px solid gray;flex-grow: 1;}#sk-container-id-1 div.sk-label:hover label.sk-toggleable__label {background-color: #d4ebff;}#sk-container-id-1 div.sk-serial::before {content: \"\";position: absolute;border-left: 1px solid gray;box-sizing: border-box;top: 0;bottom: 0;left: 50%;z-index: 0;}#sk-container-id-1 div.sk-serial {display: flex;flex-direction: column;align-items: center;background-color: white;padding-right: 0.2em;padding-left: 0.2em;position: relative;}#sk-container-id-1 div.sk-item {position: relative;z-index: 1;}#sk-container-id-1 div.sk-parallel {display: flex;align-items: stretch;justify-content: center;background-color: white;position: relative;}#sk-container-id-1 div.sk-item::before, #sk-container-id-1 div.sk-parallel-item::before {content: \"\";position: absolute;border-left: 1px solid gray;box-sizing: border-box;top: 0;bottom: 0;left: 50%;z-index: -1;}#sk-container-id-1 div.sk-parallel-item {display: flex;flex-direction: column;z-index: 1;position: relative;background-color: white;}#sk-container-id-1 div.sk-parallel-item:first-child::after {align-self: flex-end;width: 50%;}#sk-container-id-1 div.sk-parallel-item:last-child::after {align-self: flex-start;width: 50%;}#sk-container-id-1 div.sk-parallel-item:only-child::after {width: 0;}#sk-container-id-1 div.sk-dashed-wrapped {border: 1px dashed gray;margin: 0 0.4em 0.5em 0.4em;box-sizing: border-box;padding-bottom: 0.4em;background-color: white;}#sk-container-id-1 div.sk-label label {font-family: monospace;font-weight: bold;display: inline-block;line-height: 1.2em;}#sk-container-id-1 div.sk-label-container {text-align: center;}#sk-container-id-1 div.sk-container {/* jupyter's `normalize.less` sets `[hidden] { display: none; }` but bootstrap.min.css set `[hidden] { display: none !important; }` so we also need the `!important` here to be able to override the default hidden behavior on the sphinx rendered scikit-learn.org. See: https://github.com/scikit-learn/scikit-learn/issues/21755 */display: inline-block !important;position: relative;}#sk-container-id-1 div.sk-text-repr-fallback {display: none;}</style><div id=\"sk-container-id-1\" class=\"sk-top-container\"><div class=\"sk-text-repr-fallback\"><pre>KNeighborsClassifier(metric=&#x27;euclidean&#x27;, n_neighbors=23)</pre><b>In a Jupyter environment, please rerun this cell to show the HTML representation or trust the notebook. <br />On GitHub, the HTML representation is unable to render, please try loading this page with nbviewer.org.</b></div><div class=\"sk-container\" hidden><div class=\"sk-item\"><div class=\"sk-estimator sk-toggleable\"><input class=\"sk-toggleable__control sk-hidden--visually\" id=\"sk-estimator-id-1\" type=\"checkbox\" checked><label for=\"sk-estimator-id-1\" class=\"sk-toggleable__label sk-toggleable__label-arrow\">KNeighborsClassifier</label><div class=\"sk-toggleable__content\"><pre>KNeighborsClassifier(metric=&#x27;euclidean&#x27;, n_neighbors=23)</pre></div></div></div></div></div>"
      ],
      "text/plain": [
       "KNeighborsClassifier(metric='euclidean', n_neighbors=23)"
      ]
     },
     "execution_count": 15,
     "metadata": {},
     "output_type": "execute_result"
    }
   ],
   "source": [
    "from sklearn.neighbors import KNeighborsClassifier\n",
    "# creating and training knn model\n",
    "classifier = KNeighborsClassifier(n_neighbors =23, metric = 'euclidean')\n",
    "#fit\n",
    "classifier.fit(X_train_scaled, y_train)\n",
    "classifier"
   ]
  },
  {
   "cell_type": "markdown",
   "id": "d50f2c1f",
   "metadata": {},
   "source": [
    "Predicting with the model"
   ]
  },
  {
   "cell_type": "code",
   "execution_count": 14,
   "id": "6d5d96b3",
   "metadata": {},
   "outputs": [],
   "source": [
    "#predict\n",
    "y_kpred = classifier.predict(X_test_scaled)"
   ]
  },
  {
   "cell_type": "markdown",
   "id": "b7e0e683",
   "metadata": {},
   "source": [
    "Metrics: confusion matrix, F1 score, classification report"
   ]
  },
  {
   "cell_type": "code",
   "execution_count": 15,
   "id": "a858aaba",
   "metadata": {},
   "outputs": [
    {
     "data": {
      "text/plain": [
       "array([[226,  84],\n",
       "       [ 52, 249]], dtype=int64)"
      ]
     },
     "execution_count": 15,
     "metadata": {},
     "output_type": "execute_result"
    }
   ],
   "source": [
    "confusion_matrix(y_test, y_kpred)"
   ]
  },
  {
   "cell_type": "code",
   "execution_count": 16,
   "id": "e7f40a17",
   "metadata": {},
   "outputs": [
    {
     "name": "stdout",
     "output_type": "stream",
     "text": [
      "0.7854889589905362\n"
     ]
    }
   ],
   "source": [
    "print(f1_score(y_test, y_kpred))"
   ]
  },
  {
   "cell_type": "code",
   "execution_count": 17,
   "id": "843aabda",
   "metadata": {},
   "outputs": [
    {
     "name": "stdout",
     "output_type": "stream",
     "text": [
      "              precision    recall  f1-score   support\n",
      "\n",
      "         0.0       0.81      0.73      0.77       310\n",
      "         1.0       0.75      0.83      0.79       301\n",
      "\n",
      "    accuracy                           0.78       611\n",
      "   macro avg       0.78      0.78      0.78       611\n",
      "weighted avg       0.78      0.78      0.78       611\n",
      "\n"
     ]
    }
   ],
   "source": [
    "#print classification report for k=23\n",
    "print(classification_report(y_test_scaled, y_kpred))"
   ]
  },
  {
   "cell_type": "markdown",
   "id": "1fd069c7",
   "metadata": {},
   "source": [
    "### Finding and using optimal K\n",
    "\n",
    "Testing multiple K values to find that with the lowest error rate"
   ]
  },
  {
   "cell_type": "code",
   "execution_count": 18,
   "id": "f9f371e7",
   "metadata": {
    "scrolled": true
   },
   "outputs": [
    {
     "name": "stderr",
     "output_type": "stream",
     "text": [
      "C:\\Users\\JasmineAlbert\\AppData\\Roaming\\Python\\Python39\\site-packages\\sklearn\\neighbors\\_classification.py:207: DataConversionWarning: A column-vector y was passed when a 1d array was expected. Please change the shape of y to (n_samples,), for example using ravel().\n",
      "  return self._fit(X, y)\n",
      "C:\\Users\\JasmineAlbert\\AppData\\Roaming\\Python\\Python39\\site-packages\\sklearn\\neighbors\\_classification.py:207: DataConversionWarning: A column-vector y was passed when a 1d array was expected. Please change the shape of y to (n_samples,), for example using ravel().\n",
      "  return self._fit(X, y)\n",
      "C:\\Users\\JasmineAlbert\\AppData\\Roaming\\Python\\Python39\\site-packages\\sklearn\\neighbors\\_classification.py:207: DataConversionWarning: A column-vector y was passed when a 1d array was expected. Please change the shape of y to (n_samples,), for example using ravel().\n",
      "  return self._fit(X, y)\n",
      "C:\\Users\\JasmineAlbert\\AppData\\Roaming\\Python\\Python39\\site-packages\\sklearn\\neighbors\\_classification.py:207: DataConversionWarning: A column-vector y was passed when a 1d array was expected. Please change the shape of y to (n_samples,), for example using ravel().\n",
      "  return self._fit(X, y)\n",
      "C:\\Users\\JasmineAlbert\\AppData\\Roaming\\Python\\Python39\\site-packages\\sklearn\\neighbors\\_classification.py:207: DataConversionWarning: A column-vector y was passed when a 1d array was expected. Please change the shape of y to (n_samples,), for example using ravel().\n",
      "  return self._fit(X, y)\n",
      "C:\\Users\\JasmineAlbert\\AppData\\Roaming\\Python\\Python39\\site-packages\\sklearn\\neighbors\\_classification.py:207: DataConversionWarning: A column-vector y was passed when a 1d array was expected. Please change the shape of y to (n_samples,), for example using ravel().\n",
      "  return self._fit(X, y)\n",
      "C:\\Users\\JasmineAlbert\\AppData\\Roaming\\Python\\Python39\\site-packages\\sklearn\\neighbors\\_classification.py:207: DataConversionWarning: A column-vector y was passed when a 1d array was expected. Please change the shape of y to (n_samples,), for example using ravel().\n",
      "  return self._fit(X, y)\n",
      "C:\\Users\\JasmineAlbert\\AppData\\Roaming\\Python\\Python39\\site-packages\\sklearn\\neighbors\\_classification.py:207: DataConversionWarning: A column-vector y was passed when a 1d array was expected. Please change the shape of y to (n_samples,), for example using ravel().\n",
      "  return self._fit(X, y)\n",
      "C:\\Users\\JasmineAlbert\\AppData\\Roaming\\Python\\Python39\\site-packages\\sklearn\\neighbors\\_classification.py:207: DataConversionWarning: A column-vector y was passed when a 1d array was expected. Please change the shape of y to (n_samples,), for example using ravel().\n",
      "  return self._fit(X, y)\n",
      "C:\\Users\\JasmineAlbert\\AppData\\Roaming\\Python\\Python39\\site-packages\\sklearn\\neighbors\\_classification.py:207: DataConversionWarning: A column-vector y was passed when a 1d array was expected. Please change the shape of y to (n_samples,), for example using ravel().\n",
      "  return self._fit(X, y)\n",
      "C:\\Users\\JasmineAlbert\\AppData\\Roaming\\Python\\Python39\\site-packages\\sklearn\\neighbors\\_classification.py:207: DataConversionWarning: A column-vector y was passed when a 1d array was expected. Please change the shape of y to (n_samples,), for example using ravel().\n",
      "  return self._fit(X, y)\n",
      "C:\\Users\\JasmineAlbert\\AppData\\Roaming\\Python\\Python39\\site-packages\\sklearn\\neighbors\\_classification.py:207: DataConversionWarning: A column-vector y was passed when a 1d array was expected. Please change the shape of y to (n_samples,), for example using ravel().\n",
      "  return self._fit(X, y)\n",
      "C:\\Users\\JasmineAlbert\\AppData\\Roaming\\Python\\Python39\\site-packages\\sklearn\\neighbors\\_classification.py:207: DataConversionWarning: A column-vector y was passed when a 1d array was expected. Please change the shape of y to (n_samples,), for example using ravel().\n",
      "  return self._fit(X, y)\n",
      "C:\\Users\\JasmineAlbert\\AppData\\Roaming\\Python\\Python39\\site-packages\\sklearn\\neighbors\\_classification.py:207: DataConversionWarning: A column-vector y was passed when a 1d array was expected. Please change the shape of y to (n_samples,), for example using ravel().\n",
      "  return self._fit(X, y)\n",
      "C:\\Users\\JasmineAlbert\\AppData\\Roaming\\Python\\Python39\\site-packages\\sklearn\\neighbors\\_classification.py:207: DataConversionWarning: A column-vector y was passed when a 1d array was expected. Please change the shape of y to (n_samples,), for example using ravel().\n",
      "  return self._fit(X, y)\n",
      "C:\\Users\\JasmineAlbert\\AppData\\Roaming\\Python\\Python39\\site-packages\\sklearn\\neighbors\\_classification.py:207: DataConversionWarning: A column-vector y was passed when a 1d array was expected. Please change the shape of y to (n_samples,), for example using ravel().\n",
      "  return self._fit(X, y)\n",
      "C:\\Users\\JasmineAlbert\\AppData\\Roaming\\Python\\Python39\\site-packages\\sklearn\\neighbors\\_classification.py:207: DataConversionWarning: A column-vector y was passed when a 1d array was expected. Please change the shape of y to (n_samples,), for example using ravel().\n",
      "  return self._fit(X, y)\n",
      "C:\\Users\\JasmineAlbert\\AppData\\Roaming\\Python\\Python39\\site-packages\\sklearn\\neighbors\\_classification.py:207: DataConversionWarning: A column-vector y was passed when a 1d array was expected. Please change the shape of y to (n_samples,), for example using ravel().\n",
      "  return self._fit(X, y)\n",
      "C:\\Users\\JasmineAlbert\\AppData\\Roaming\\Python\\Python39\\site-packages\\sklearn\\neighbors\\_classification.py:207: DataConversionWarning: A column-vector y was passed when a 1d array was expected. Please change the shape of y to (n_samples,), for example using ravel().\n",
      "  return self._fit(X, y)\n",
      "C:\\Users\\JasmineAlbert\\AppData\\Roaming\\Python\\Python39\\site-packages\\sklearn\\neighbors\\_classification.py:207: DataConversionWarning: A column-vector y was passed when a 1d array was expected. Please change the shape of y to (n_samples,), for example using ravel().\n",
      "  return self._fit(X, y)\n"
     ]
    }
   ],
   "source": [
    "# best k\n",
    "#empty list\n",
    "error_rate =[]\n",
    "\n",
    "for i in range(1,40,2):\n",
    "    knn = KNeighborsClassifier(n_neighbors =i) #new classifier for each i\n",
    "    knn.fit(X_train_scaled, y_train_scaled)\n",
    "    pred_i = knn.predict(X_test_scaled)\n",
    "    error_rate.append(np.mean(pred_i!=y_test_scaled)) #find the error rate and append\n",
    "\n"
   ]
  },
  {
   "cell_type": "markdown",
   "id": "e705b791",
   "metadata": {},
   "source": [
    "Plotting this data"
   ]
  },
  {
   "cell_type": "code",
   "execution_count": 19,
   "id": "e575bd5b",
   "metadata": {},
   "outputs": [
    {
     "data": {
      "text/plain": [
       "Text(0, 0.5, 'Error Rate')"
      ]
     },
     "execution_count": 19,
     "metadata": {},
     "output_type": "execute_result"
    },
    {
     "data": {
      "image/png": "[encoded data removed]",
      "text/plain": [
       "<Figure size 720x432 with 1 Axes>"
      ]
     },
     "metadata": {
      "needs_background": "light"
     },
     "output_type": "display_data"
    }
   ],
   "source": [
    "#plot the error rate for each K \n",
    "plt.figure(figsize = (10,6))\n",
    "plt.plot(range(1,40,2), error_rate, color = 'b', linestyle = 'dashed', marker = 'o', markerfacecolor = 'r', markersize = 10)\n",
    "plt.title('Error Rate vs. K Value')\n",
    "plt.xlabel('K')\n",
    "plt.ylabel('Error Rate')"
   ]
  },
  {
   "cell_type": "markdown",
   "id": "c7613f92",
   "metadata": {},
   "source": [
    "Using K=9 as this is the lowest error rate"
   ]
  },
  {
   "cell_type": "code",
   "execution_count": 97,
   "id": "724191a3",
   "metadata": {},
   "outputs": [
    {
     "name": "stderr",
     "output_type": "stream",
     "text": [
      "C:\\Users\\JasmineAlbert\\AppData\\Roaming\\Python\\Python39\\site-packages\\sklearn\\neighbors\\_classification.py:207: DataConversionWarning: A column-vector y was passed when a 1d array was expected. Please change the shape of y to (n_samples,), for example using ravel().\n",
      "  return self._fit(X, y)\n"
     ]
    },
    {
     "data": {
      "text/html": [
       "<style>#sk-container-id-6 {color: black;background-color: white;}#sk-container-id-6 pre{padding: 0;}#sk-container-id-6 div.sk-toggleable {background-color: white;}#sk-container-id-6 label.sk-toggleable__label {cursor: pointer;display: block;width: 100%;margin-bottom: 0;padding: 0.3em;box-sizing: border-box;text-align: center;}#sk-container-id-6 label.sk-toggleable__label-arrow:before {content: \"▸\";float: left;margin-right: 0.25em;color: #696969;}#sk-container-id-6 label.sk-toggleable__label-arrow:hover:before {color: black;}#sk-container-id-6 div.sk-estimator:hover label.sk-toggleable__label-arrow:before {color: black;}#sk-container-id-6 div.sk-toggleable__content {max-height: 0;max-width: 0;overflow: hidden;text-align: left;background-color: #f0f8ff;}#sk-container-id-6 div.sk-toggleable__content pre {margin: 0.2em;color: black;border-radius: 0.25em;background-color: #f0f8ff;}#sk-container-id-6 input.sk-toggleable__control:checked~div.sk-toggleable__content {max-height: 200px;max-width: 100%;overflow: auto;}#sk-container-id-6 input.sk-toggleable__control:checked~label.sk-toggleable__label-arrow:before {content: \"▾\";}#sk-container-id-6 div.sk-estimator input.sk-toggleable__control:checked~label.sk-toggleable__label {background-color: #d4ebff;}#sk-container-id-6 div.sk-label input.sk-toggleable__control:checked~label.sk-toggleable__label {background-color: #d4ebff;}#sk-container-id-6 input.sk-hidden--visually {border: 0;clip: rect(1px 1px 1px 1px);clip: rect(1px, 1px, 1px, 1px);height: 1px;margin: -1px;overflow: hidden;padding: 0;position: absolute;width: 1px;}#sk-container-id-6 div.sk-estimator {font-family: monospace;background-color: #f0f8ff;border: 1px dotted black;border-radius: 0.25em;box-sizing: border-box;margin-bottom: 0.5em;}#sk-container-id-6 div.sk-estimator:hover {background-color: #d4ebff;}#sk-container-id-6 div.sk-parallel-item::after {content: \"\";width: 100%;border-bottom: 1px solid gray;flex-grow: 1;}#sk-container-id-6 div.sk-label:hover label.sk-toggleable__label {background-color: #d4ebff;}#sk-container-id-6 div.sk-serial::before {content: \"\";position: absolute;border-left: 1px solid gray;box-sizing: border-box;top: 0;bottom: 0;left: 50%;z-index: 0;}#sk-container-id-6 div.sk-serial {display: flex;flex-direction: column;align-items: center;background-color: white;padding-right: 0.2em;padding-left: 0.2em;position: relative;}#sk-container-id-6 div.sk-item {position: relative;z-index: 1;}#sk-container-id-6 div.sk-parallel {display: flex;align-items: stretch;justify-content: center;background-color: white;position: relative;}#sk-container-id-6 div.sk-item::before, #sk-container-id-6 div.sk-parallel-item::before {content: \"\";position: absolute;border-left: 1px solid gray;box-sizing: border-box;top: 0;bottom: 0;left: 50%;z-index: -1;}#sk-container-id-6 div.sk-parallel-item {display: flex;flex-direction: column;z-index: 1;position: relative;background-color: white;}#sk-container-id-6 div.sk-parallel-item:first-child::after {align-self: flex-end;width: 50%;}#sk-container-id-6 div.sk-parallel-item:last-child::after {align-self: flex-start;width: 50%;}#sk-container-id-6 div.sk-parallel-item:only-child::after {width: 0;}#sk-container-id-6 div.sk-dashed-wrapped {border: 1px dashed gray;margin: 0 0.4em 0.5em 0.4em;box-sizing: border-box;padding-bottom: 0.4em;background-color: white;}#sk-container-id-6 div.sk-label label {font-family: monospace;font-weight: bold;display: inline-block;line-height: 1.2em;}#sk-container-id-6 div.sk-label-container {text-align: center;}#sk-container-id-6 div.sk-container {/* jupyter's `normalize.less` sets `[hidden] { display: none; }` but bootstrap.min.css set `[hidden] { display: none !important; }` so we also need the `!important` here to be able to override the default hidden behavior on the sphinx rendered scikit-learn.org. See: https://github.com/scikit-learn/scikit-learn/issues/21755 */display: inline-block !important;position: relative;}#sk-container-id-6 div.sk-text-repr-fallback {display: none;}</style><div id=\"sk-container-id-6\" class=\"sk-top-container\"><div class=\"sk-text-repr-fallback\"><pre>KNeighborsClassifier(metric=&#x27;euclidean&#x27;, n_neighbors=9)</pre><b>In a Jupyter environment, please rerun this cell to show the HTML representation or trust the notebook. <br />On GitHub, the HTML representation is unable to render, please try loading this page with nbviewer.org.</b></div><div class=\"sk-container\" hidden><div class=\"sk-item\"><div class=\"sk-estimator sk-toggleable\"><input class=\"sk-toggleable__control sk-hidden--visually\" id=\"sk-estimator-id-6\" type=\"checkbox\" checked><label for=\"sk-estimator-id-6\" class=\"sk-toggleable__label sk-toggleable__label-arrow\">KNeighborsClassifier</label><div class=\"sk-toggleable__content\"><pre>KNeighborsClassifier(metric=&#x27;euclidean&#x27;, n_neighbors=9)</pre></div></div></div></div></div>"
      ],
      "text/plain": [
       "KNeighborsClassifier(metric='euclidean', n_neighbors=9)"
      ]
     },
     "execution_count": 97,
     "metadata": {},
     "output_type": "execute_result"
    }
   ],
   "source": [
    "# try with k=9\n",
    "#define the classifier\n",
    "classifieropt = KNeighborsClassifier(n_neighbors =9, metric = 'euclidean')\n",
    "\n",
    "# Train classifier\n",
    "classifieropt.fit(X_train_scaled, y_train_scaled)\n",
    "classifieropt"
   ]
  },
  {
   "cell_type": "markdown",
   "id": "d86f5de0",
   "metadata": {},
   "source": [
    "Predicting with this model"
   ]
  },
  {
   "cell_type": "code",
   "execution_count": 98,
   "id": "871be5e4",
   "metadata": {},
   "outputs": [],
   "source": [
    "#set the predictions\n",
    "y_kopt_pred = classifieropt.predict(X_test_scaled)"
   ]
  },
  {
   "cell_type": "markdown",
   "id": "ab98cb2a",
   "metadata": {},
   "source": [
    "Metrics: confusion matrix, F1 score"
   ]
  },
  {
   "cell_type": "code",
   "execution_count": 99,
   "id": "42f1bc47",
   "metadata": {},
   "outputs": [
    {
     "data": {
      "text/plain": [
       "(array([[226,  84],\n",
       "        [ 52, 249]], dtype=int64),\n",
       " array([[208, 102],\n",
       "        [101, 200]], dtype=int64))"
      ]
     },
     "execution_count": 99,
     "metadata": {},
     "output_type": "execute_result"
    }
   ],
   "source": [
    "#print confusion matrix\n",
    "confusion_matrix(y_test_scaled, y_kpred), confusion_matrix(y_test_scaled, y_kopt_pred)"
   ]
  },
  {
   "cell_type": "code",
   "execution_count": 100,
   "id": "966b4518",
   "metadata": {},
   "outputs": [
    {
     "name": "stdout",
     "output_type": "stream",
     "text": [
      "0.7854889589905362 0.6633499170812603\n"
     ]
    }
   ],
   "source": [
    "#print f1 score\n",
    "print(f1_score(y_test_scaled, y_kpred), f1_score(y_test_scaled, y_kopt_pred))"
   ]
  },
  {
   "cell_type": "markdown",
   "id": "85d58f84",
   "metadata": {},
   "source": [
    "Use K=23 for cross validation as better than K=9"
   ]
  },
  {
   "cell_type": "code",
   "execution_count": 24,
   "id": "f252fc28",
   "metadata": {},
   "outputs": [],
   "source": [
    "#find X and y scaled undersampled\n",
    "X_under_scaled = scaler.fit_transform(X_under)\n",
    "y_under_scaled = scaler.fit_transform(y_under).ravel()"
   ]
  },
  {
   "cell_type": "code",
   "execution_count": 25,
   "id": "19d49fa8",
   "metadata": {},
   "outputs": [],
   "source": [
    "#cross validation as above with F1 score and accuracy\n",
    "cv = RepeatedKFold(n_splits=10, n_repeats=3, random_state=42)\n",
    "score_mc = ['f1', 'accuracy']\n",
    "score_knn = cross_validate(classifier, X_under_scaled, y_under_scaled, cv = cv, scoring = score_mc )"
   ]
  },
  {
   "cell_type": "markdown",
   "id": "3a5b48df",
   "metadata": {},
   "source": [
    "## Random Forest"
   ]
  },
  {
   "cell_type": "code",
   "execution_count": 26,
   "id": "ac0cc863",
   "metadata": {},
   "outputs": [
    {
     "name": "stderr",
     "output_type": "stream",
     "text": [
      "C:\\Users\\JasmineAlbert\\AppData\\Local\\Temp\\ipykernel_548\\3240788254.py:5: DataConversionWarning: A column-vector y was passed when a 1d array was expected. Please change the shape of y to (n_samples,), for example using ravel().\n",
      "  rf.fit(X_train_scaled, y_train_scaled)\n"
     ]
    }
   ],
   "source": [
    "from sklearn.ensemble import RandomForestClassifier\n",
    "# making classifier object\n",
    "rf = RandomForestClassifier(n_jobs = 1, random_state = 42)\n",
    "# training classifier\n",
    "rf.fit(X_train_scaled, y_train_scaled)\n",
    "#predict\n",
    "pred_rf = rf.predict(X_test_scaled)"
   ]
  },
  {
   "cell_type": "code",
   "execution_count": 27,
   "id": "71c58922",
   "metadata": {},
   "outputs": [
    {
     "name": "stdout",
     "output_type": "stream",
     "text": [
      "              precision    recall  f1-score   support\n",
      "\n",
      "           0       0.80      0.85      0.82       310\n",
      "           1       0.84      0.77      0.80       301\n",
      "\n",
      "    accuracy                           0.82       611\n",
      "   macro avg       0.82      0.81      0.81       611\n",
      "weighted avg       0.82      0.82      0.81       611\n",
      "\n"
     ]
    }
   ],
   "source": [
    "#print classification report\n",
    "print(classification_report(y_test, pred_rf))"
   ]
  },
  {
   "cell_type": "code",
   "execution_count": 28,
   "id": "dc89f3dd",
   "metadata": {},
   "outputs": [
    {
     "data": {
      "text/plain": [
       "array([[265,  45],\n",
       "       [ 68, 233]], dtype=int64)"
      ]
     },
     "execution_count": 28,
     "metadata": {},
     "output_type": "execute_result"
    }
   ],
   "source": [
    "#print confusion matrix\n",
    "confusion_matrix(y_test_scaled, pred_rf)"
   ]
  },
  {
   "cell_type": "code",
   "execution_count": 29,
   "id": "57c127ba",
   "metadata": {},
   "outputs": [
    {
     "name": "stdout",
     "output_type": "stream",
     "text": [
      "0.8048359240069085\n"
     ]
    }
   ],
   "source": [
    "#print f1 score\n",
    "print(f1_score(y_test_scaled, pred_rf))"
   ]
  },
  {
   "cell_type": "markdown",
   "id": "546fe6be",
   "metadata": {},
   "source": [
    "Cross validation"
   ]
  },
  {
   "cell_type": "code",
   "execution_count": 30,
   "id": "81494102",
   "metadata": {
    "scrolled": true
   },
   "outputs": [],
   "source": [
    "#find cross validation scores\n",
    "score_rf = cross_validate(rf, X_under_scaled, y_under_scaled, cv = cv, scoring = score_mc )"
   ]
  },
  {
   "cell_type": "markdown",
   "id": "44849c0f",
   "metadata": {},
   "source": [
    "## Decision trees"
   ]
  },
  {
   "cell_type": "code",
   "execution_count": 31,
   "id": "a18a0ff7",
   "metadata": {},
   "outputs": [],
   "source": [
    "from sklearn.tree import DecisionTreeClassifier\n",
    "#define classifier\n",
    "dtree = DecisionTreeClassifier()\n",
    "#train classifier\n",
    "dtree.fit(X_train_scaled, y_train_scaled)\n",
    "#predict\n",
    "pred_dt = dtree.predict(X_test_scaled)"
   ]
  },
  {
   "cell_type": "code",
   "execution_count": 32,
   "id": "dfdb8738",
   "metadata": {},
   "outputs": [
    {
     "name": "stdout",
     "output_type": "stream",
     "text": [
      "              precision    recall  f1-score   support\n",
      "\n",
      "         0.0       0.80      0.81      0.80       310\n",
      "         1.0       0.80      0.79      0.79       301\n",
      "\n",
      "    accuracy                           0.80       611\n",
      "   macro avg       0.80      0.80      0.80       611\n",
      "weighted avg       0.80      0.80      0.80       611\n",
      "\n"
     ]
    }
   ],
   "source": [
    "#print classification report\n",
    "print(classification_report(y_test_scaled, pred_dt))"
   ]
  },
  {
   "cell_type": "code",
   "execution_count": 33,
   "id": "734cf2a4",
   "metadata": {},
   "outputs": [
    {
     "data": {
      "text/plain": [
       "array([[250,  60],\n",
       "       [ 64, 237]], dtype=int64)"
      ]
     },
     "execution_count": 33,
     "metadata": {},
     "output_type": "execute_result"
    }
   ],
   "source": [
    "#print confusion matrix\n",
    "confusion_matrix(y_test_scaled, pred_dt)"
   ]
  },
  {
   "cell_type": "code",
   "execution_count": 34,
   "id": "13c7f08c",
   "metadata": {},
   "outputs": [
    {
     "name": "stdout",
     "output_type": "stream",
     "text": [
      "0.7926421404682276\n"
     ]
    }
   ],
   "source": [
    "#print f1 score\n",
    "print(f1_score(y_test_scaled, pred_dt))"
   ]
  },
  {
   "cell_type": "code",
   "execution_count": 35,
   "id": "9b9eea0e",
   "metadata": {},
   "outputs": [
    {
     "data": {
      "text/plain": [
       "<function matplotlib.pyplot.show(close=None, block=None)>"
      ]
     },
     "execution_count": 35,
     "metadata": {},
     "output_type": "execute_result"
    },
    {
     "data": {
      "image/png": "[encoded data removed]",
      "text/plain": [
       "<Figure size 720x432 with 1 Axes>"
      ]
     },
     "metadata": {
      "needs_background": "light"
     },
     "output_type": "display_data"
    }
   ],
   "source": [
    "#create graph showing importance of each column\n",
    "importances = dtree.feature_importances_\n",
    "indices = np.argsort(importances)\n",
    "fig, axes = plt.subplots(figsize = (10,6))\n",
    "plt.title('Feature importances')\n",
    "plt.barh(range(len(indices)),importances[indices],color='#ff7babff')\n",
    "plt.yticks(range(len(indices)),[mlapp.columns[:-1][i] for i in indices])\n",
    "plt.xlabel('Relative importance')\n",
    "plt.show"
   ]
  },
  {
   "cell_type": "code",
   "execution_count": 36,
   "id": "c2a4eb53",
   "metadata": {},
   "outputs": [],
   "source": [
    "#give cross validation scores\n",
    "score_dt = cross_validate(dtree, X_under_scaled, y_under_scaled, cv = cv, scoring = score_mc )"
   ]
  },
  {
   "cell_type": "markdown",
   "id": "9755c55c",
   "metadata": {},
   "source": [
    "### Create a dataframe with these scores"
   ]
  },
  {
   "cell_type": "code",
   "execution_count": 37,
   "id": "ef63a6c5",
   "metadata": {},
   "outputs": [],
   "source": [
    "#assign values to list\n",
    "f1_scores = [np.mean(score_knn['test_f1']), np.mean(score_rf['test_f1']), np.mean(score_dt['test_f1'])]\n",
    "methods_class = ['KNN', 'Random Forest', 'Decision tree']\n",
    "accur = [np.mean(score_knn['test_accuracy']), np.mean(score_rf['test_accuracy']), np.mean(score_dt['test_accuracy'])]"
   ]
  },
  {
   "cell_type": "code",
   "execution_count": 38,
   "id": "69231000",
   "metadata": {},
   "outputs": [],
   "source": [
    "#create dataframe\n",
    "class_eval = pd.DataFrame({\n",
    "    'Classification Method': methods_class,\n",
    "    'F1 Score': f1_scores,\n",
    "    'Accuracy': accur\n",
    "})"
   ]
  },
  {
   "cell_type": "code",
   "execution_count": 39,
   "id": "03e9d3c6",
   "metadata": {},
   "outputs": [
    {
     "data": {
      "text/html": [
       "<div>\n",
       "<style scoped>\n",
       "    .dataframe tbody tr th:only-of-type {\n",
       "        vertical-align: middle;\n",
       "    }\n",
       "\n",
       "    .dataframe tbody tr th {\n",
       "        vertical-align: top;\n",
       "    }\n",
       "\n",
       "    .dataframe thead th {\n",
       "        text-align: right;\n",
       "    }\n",
       "</style>\n",
       "<table border=\"1\" class=\"dataframe\">\n",
       "  <thead>\n",
       "    <tr style=\"text-align: right;\">\n",
       "      <th></th>\n",
       "      <th>Classification Method</th>\n",
       "      <th>F1 Score</th>\n",
       "      <th>Accuracy</th>\n",
       "    </tr>\n",
       "  </thead>\n",
       "  <tbody>\n",
       "    <tr>\n",
       "      <th>0</th>\n",
       "      <td>KNN</td>\n",
       "      <td>0.779402</td>\n",
       "      <td>0.765376</td>\n",
       "    </tr>\n",
       "    <tr>\n",
       "      <th>1</th>\n",
       "      <td>Random Forest</td>\n",
       "      <td>0.825455</td>\n",
       "      <td>0.831208</td>\n",
       "    </tr>\n",
       "    <tr>\n",
       "      <th>2</th>\n",
       "      <td>Decision tree</td>\n",
       "      <td>0.780813</td>\n",
       "      <td>0.783235</td>\n",
       "    </tr>\n",
       "  </tbody>\n",
       "</table>\n",
       "</div>"
      ],
      "text/plain": [
       "  Classification Method  F1 Score  Accuracy\n",
       "0                   KNN  0.779402  0.765376\n",
       "1         Random Forest  0.825455  0.831208\n",
       "2         Decision tree  0.780813  0.783235"
      ]
     },
     "execution_count": 39,
     "metadata": {},
     "output_type": "execute_result"
    }
   ],
   "source": [
    "#show table\n",
    "class_eval"
   ]
  },
  {
   "cell_type": "markdown",
   "id": "db3819c7",
   "metadata": {},
   "source": [
    "## Manually testing with new data"
   ]
  },
  {
   "cell_type": "code",
   "execution_count": 16,
   "id": "6fc8394b",
   "metadata": {},
   "outputs": [],
   "source": [
    "#import billboard api\n",
    "import billboard\n",
    "from billboard import ChartData"
   ]
  },
  {
   "cell_type": "code",
   "execution_count": 19,
   "id": "cf343d1d",
   "metadata": {},
   "outputs": [],
   "source": [
    "#create current chart\n",
    "chart = billboard.ChartData('hot-100')"
   ]
  },
  {
   "cell_type": "code",
   "execution_count": 42,
   "id": "0e4213d8",
   "metadata": {},
   "outputs": [
    {
     "data": {
      "text/plain": [
       "('Taylor Swift', 48, 5)"
      ]
     },
     "execution_count": 42,
     "metadata": {},
     "output_type": "execute_result"
    }
   ],
   "source": [
    "#find at position 66\n",
    "chart[66].artist, chart[66].lastPos, chart[66].weeks"
   ]
  },
  {
   "cell_type": "code",
   "execution_count": 17,
   "id": "a75c97e4",
   "metadata": {},
   "outputs": [],
   "source": [
    "#importing spotify api\n",
    "import spotipy\n",
    "import string\n",
    "import math\n",
    "import os"
   ]
  },
  {
   "cell_type": "code",
   "execution_count": 26,
   "id": "095b5b1d",
   "metadata": {},
   "outputs": [],
   "source": [
    "#inputting username, client ID and client secret from spotify for developers\n",
    "Username ='jasminealbert99'\n",
    "Client_id ='6d87bd69d4f542f8a6ebe6b2d8bcaa9e'\n",
    "Client_secret ='78f36215e5b044d4af724714c3885331'\n",
    "scope = 'playlist-modify-public'\n",
    "token =spotipy.SpotifyOAuth(client_id = Client_id, client_secret = Client_secret, redirect_uri ='http://localhost:3005/', scope = scope, username = Username)"
   ]
  },
  {
   "cell_type": "code",
   "execution_count": 27,
   "id": "de4bb030",
   "metadata": {},
   "outputs": [],
   "source": [
    "#create spotify object\n",
    "spotifyObject= spotipy.Spotify(auth_manager=token)"
   ]
  },
  {
   "cell_type": "code",
   "execution_count": 28,
   "id": "a1444cd5",
   "metadata": {},
   "outputs": [],
   "source": [
    "#result for song in hot 100\n",
    "result = spotifyObject.search(q=\"you're on your own, kid taylor swift\", offset=0, limit=1, type='track')"
   ]
  },
  {
   "cell_type": "code",
   "execution_count": 47,
   "id": "6c12ba80",
   "metadata": {},
   "outputs": [],
   "source": [
    "#creating test X and y, worst position assumed as current, genre and artist encoding found from above, weeks in chart as max\n",
    "test_X = [969, 67,chart[88].weeks, chart[88].weeks,8, result['tracks']['items'][0]['duration_ms'], result['tracks']['items'][0]['explicit'], result['tracks']['items'][0]['popularity'], 12]\n",
    "test_y = 0\n",
    "test_X = np.reshape(test_X, (-1,1))"
   ]
  },
  {
   "cell_type": "code",
   "execution_count": 48,
   "id": "dd3d9f42",
   "metadata": {},
   "outputs": [],
   "source": [
    "#scaling this data\n",
    "test_X_scaled = scaler.fit_transform(test_X)\n",
    "test_X_scaled = test_X_scaled.reshape(1,-1)\n",
    "#predicting for each model\n",
    "knn_new_pred = classifier.predict(test_X_scaled)\n",
    "rf_new_pred = rf.predict(test_X_scaled)\n",
    "dt_new_pred = dtree.predict(test_X_scaled)"
   ]
  },
  {
   "cell_type": "code",
   "execution_count": 49,
   "id": "5c39252c",
   "metadata": {},
   "outputs": [
    {
     "name": "stdout",
     "output_type": "stream",
     "text": [
      "[0] [0.] [0.]\n"
     ]
    }
   ],
   "source": [
    "#print predictions, all predicted correctly\n",
    "print(knn_new_pred, rf_new_pred, dt_new_pred)"
   ]
  },
  {
   "cell_type": "markdown",
   "id": "df2c4dac",
   "metadata": {},
   "source": [
    "# Performing ML with no worst, total, max consecutive, and reentry"
   ]
  },
  {
   "cell_type": "code",
   "execution_count": 20,
   "id": "ea4a3d3b",
   "metadata": {},
   "outputs": [],
   "source": [
    "#removing data from billboard as this may not make sense to have in - many assumptions in above example\n",
    "#creating X and y train and test new\n",
    "X_train_new = X_train.drop(columns = ['worst_position', 'total_time', 'max_consecutive', 'reentry'])\n",
    "y_train_new = y_train\n",
    "X_test_new = X_test.drop(columns = ['worst_position', 'total_time', 'max_consecutive', 'reentry'])\n",
    "y_test_new = y_test"
   ]
  },
  {
   "cell_type": "code",
   "execution_count": 21,
   "id": "1fc15f10",
   "metadata": {},
   "outputs": [],
   "source": [
    "from sklearn.preprocessing import MinMaxScaler\n",
    "#set scaler\n",
    "scaler = MinMaxScaler()\n",
    "#scale data\n",
    "X_train_scaled = scaler.fit_transform(X_train_new)\n",
    "X_test_scaled = scaler.transform(X_test_new)\n",
    "y_train_scaled = scaler.fit_transform(y_train_new)\n",
    "y_test_scaled = scaler.transform(y_test_new)"
   ]
  },
  {
   "cell_type": "markdown",
   "id": "9b990c59",
   "metadata": {},
   "source": [
    "## KNN"
   ]
  },
  {
   "cell_type": "code",
   "execution_count": 22,
   "id": "ecf016c4",
   "metadata": {},
   "outputs": [
    {
     "name": "stderr",
     "output_type": "stream",
     "text": [
      "C:\\Users\\JasmineAlbert\\AppData\\Roaming\\Python\\Python39\\site-packages\\sklearn\\neighbors\\_classification.py:207: DataConversionWarning: A column-vector y was passed when a 1d array was expected. Please change the shape of y to (n_samples,), for example using ravel().\n",
      "  return self._fit(X, y)\n"
     ]
    },
    {
     "data": {
      "text/html": [
       "<style>#sk-container-id-2 {color: black;background-color: white;}#sk-container-id-2 pre{padding: 0;}#sk-container-id-2 div.sk-toggleable {background-color: white;}#sk-container-id-2 label.sk-toggleable__label {cursor: pointer;display: block;width: 100%;margin-bottom: 0;padding: 0.3em;box-sizing: border-box;text-align: center;}#sk-container-id-2 label.sk-toggleable__label-arrow:before {content: \"▸\";float: left;margin-right: 0.25em;color: #696969;}#sk-container-id-2 label.sk-toggleable__label-arrow:hover:before {color: black;}#sk-container-id-2 div.sk-estimator:hover label.sk-toggleable__label-arrow:before {color: black;}#sk-container-id-2 div.sk-toggleable__content {max-height: 0;max-width: 0;overflow: hidden;text-align: left;background-color: #f0f8ff;}#sk-container-id-2 div.sk-toggleable__content pre {margin: 0.2em;color: black;border-radius: 0.25em;background-color: #f0f8ff;}#sk-container-id-2 input.sk-toggleable__control:checked~div.sk-toggleable__content {max-height: 200px;max-width: 100%;overflow: auto;}#sk-container-id-2 input.sk-toggleable__control:checked~label.sk-toggleable__label-arrow:before {content: \"▾\";}#sk-container-id-2 div.sk-estimator input.sk-toggleable__control:checked~label.sk-toggleable__label {background-color: #d4ebff;}#sk-container-id-2 div.sk-label input.sk-toggleable__control:checked~label.sk-toggleable__label {background-color: #d4ebff;}#sk-container-id-2 input.sk-hidden--visually {border: 0;clip: rect(1px 1px 1px 1px);clip: rect(1px, 1px, 1px, 1px);height: 1px;margin: -1px;overflow: hidden;padding: 0;position: absolute;width: 1px;}#sk-container-id-2 div.sk-estimator {font-family: monospace;background-color: #f0f8ff;border: 1px dotted black;border-radius: 0.25em;box-sizing: border-box;margin-bottom: 0.5em;}#sk-container-id-2 div.sk-estimator:hover {background-color: #d4ebff;}#sk-container-id-2 div.sk-parallel-item::after {content: \"\";width: 100%;border-bottom: 1px solid gray;flex-grow: 1;}#sk-container-id-2 div.sk-label:hover label.sk-toggleable__label {background-color: #d4ebff;}#sk-container-id-2 div.sk-serial::before {content: \"\";position: absolute;border-left: 1px solid gray;box-sizing: border-box;top: 0;bottom: 0;left: 50%;z-index: 0;}#sk-container-id-2 div.sk-serial {display: flex;flex-direction: column;align-items: center;background-color: white;padding-right: 0.2em;padding-left: 0.2em;position: relative;}#sk-container-id-2 div.sk-item {position: relative;z-index: 1;}#sk-container-id-2 div.sk-parallel {display: flex;align-items: stretch;justify-content: center;background-color: white;position: relative;}#sk-container-id-2 div.sk-item::before, #sk-container-id-2 div.sk-parallel-item::before {content: \"\";position: absolute;border-left: 1px solid gray;box-sizing: border-box;top: 0;bottom: 0;left: 50%;z-index: -1;}#sk-container-id-2 div.sk-parallel-item {display: flex;flex-direction: column;z-index: 1;position: relative;background-color: white;}#sk-container-id-2 div.sk-parallel-item:first-child::after {align-self: flex-end;width: 50%;}#sk-container-id-2 div.sk-parallel-item:last-child::after {align-self: flex-start;width: 50%;}#sk-container-id-2 div.sk-parallel-item:only-child::after {width: 0;}#sk-container-id-2 div.sk-dashed-wrapped {border: 1px dashed gray;margin: 0 0.4em 0.5em 0.4em;box-sizing: border-box;padding-bottom: 0.4em;background-color: white;}#sk-container-id-2 div.sk-label label {font-family: monospace;font-weight: bold;display: inline-block;line-height: 1.2em;}#sk-container-id-2 div.sk-label-container {text-align: center;}#sk-container-id-2 div.sk-container {/* jupyter's `normalize.less` sets `[hidden] { display: none; }` but bootstrap.min.css set `[hidden] { display: none !important; }` so we also need the `!important` here to be able to override the default hidden behavior on the sphinx rendered scikit-learn.org. See: https://github.com/scikit-learn/scikit-learn/issues/21755 */display: inline-block !important;position: relative;}#sk-container-id-2 div.sk-text-repr-fallback {display: none;}</style><div id=\"sk-container-id-2\" class=\"sk-top-container\"><div class=\"sk-text-repr-fallback\"><pre>KNeighborsClassifier(metric=&#x27;euclidean&#x27;, n_neighbors=23)</pre><b>In a Jupyter environment, please rerun this cell to show the HTML representation or trust the notebook. <br />On GitHub, the HTML representation is unable to render, please try loading this page with nbviewer.org.</b></div><div class=\"sk-container\" hidden><div class=\"sk-item\"><div class=\"sk-estimator sk-toggleable\"><input class=\"sk-toggleable__control sk-hidden--visually\" id=\"sk-estimator-id-2\" type=\"checkbox\" checked><label for=\"sk-estimator-id-2\" class=\"sk-toggleable__label sk-toggleable__label-arrow\">KNeighborsClassifier</label><div class=\"sk-toggleable__content\"><pre>KNeighborsClassifier(metric=&#x27;euclidean&#x27;, n_neighbors=23)</pre></div></div></div></div></div>"
      ],
      "text/plain": [
       "KNeighborsClassifier(metric='euclidean', n_neighbors=23)"
      ]
     },
     "execution_count": 22,
     "metadata": {},
     "output_type": "execute_result"
    }
   ],
   "source": [
    "from sklearn.neighbors import KNeighborsClassifier\n",
    "# creating and training knn model\n",
    "classifier_new = KNeighborsClassifier(n_neighbors =23, metric = 'euclidean')\n",
    "#fit model\n",
    "classifier_new.fit(X_train_scaled, y_train_scaled)\n",
    "classifier_new"
   ]
  },
  {
   "cell_type": "code",
   "execution_count": 23,
   "id": "e0904ea0",
   "metadata": {},
   "outputs": [],
   "source": [
    "#prediction\n",
    "y_kpred_new = classifier_new.predict(X_test_scaled)"
   ]
  },
  {
   "cell_type": "markdown",
   "id": "595225dd",
   "metadata": {},
   "source": [
    "Metrics are confusion matrix, f1 score, accuracy and classification report"
   ]
  },
  {
   "cell_type": "code",
   "execution_count": 79,
   "id": "58b7d5d2",
   "metadata": {},
   "outputs": [
    {
     "data": {
      "text/plain": [
       "array([[216,  94],\n",
       "       [109, 192]], dtype=int64)"
      ]
     },
     "execution_count": 79,
     "metadata": {},
     "output_type": "execute_result"
    }
   ],
   "source": [
    "#confusion matrix\n",
    "confusion_matrix(y_test, y_kpred_new)"
   ]
  },
  {
   "cell_type": "code",
   "execution_count": 54,
   "id": "f8671215",
   "metadata": {},
   "outputs": [
    {
     "name": "stdout",
     "output_type": "stream",
     "text": [
      "0.6541737649063032 0.6677577741407529               precision    recall  f1-score   support\n",
      "\n",
      "           0       0.66      0.70      0.68       310\n",
      "           1       0.67      0.64      0.65       301\n",
      "\n",
      "    accuracy                           0.67       611\n",
      "   macro avg       0.67      0.67      0.67       611\n",
      "weighted avg       0.67      0.67      0.67       611\n",
      "\n"
     ]
    }
   ],
   "source": [
    "#F1 score, accuracy and classification report\n",
    "print(f1_score(y_test, y_kpred_new), accuracy_score(y_test, y_kpred_new), classification_report(y_test, y_kpred_new))"
   ]
  },
  {
   "cell_type": "code",
   "execution_count": 55,
   "id": "3d892ff4",
   "metadata": {
    "scrolled": true
   },
   "outputs": [
    {
     "name": "stderr",
     "output_type": "stream",
     "text": [
      "C:\\Users\\JasmineAlbert\\AppData\\Roaming\\Python\\Python39\\site-packages\\sklearn\\neighbors\\_classification.py:207: DataConversionWarning: A column-vector y was passed when a 1d array was expected. Please change the shape of y to (n_samples,), for example using ravel().\n",
      "  return self._fit(X, y)\n",
      "C:\\Users\\JasmineAlbert\\AppData\\Roaming\\Python\\Python39\\site-packages\\sklearn\\neighbors\\_classification.py:207: DataConversionWarning: A column-vector y was passed when a 1d array was expected. Please change the shape of y to (n_samples,), for example using ravel().\n",
      "  return self._fit(X, y)\n",
      "C:\\Users\\JasmineAlbert\\AppData\\Roaming\\Python\\Python39\\site-packages\\sklearn\\neighbors\\_classification.py:207: DataConversionWarning: A column-vector y was passed when a 1d array was expected. Please change the shape of y to (n_samples,), for example using ravel().\n",
      "  return self._fit(X, y)\n",
      "C:\\Users\\JasmineAlbert\\AppData\\Roaming\\Python\\Python39\\site-packages\\sklearn\\neighbors\\_classification.py:207: DataConversionWarning: A column-vector y was passed when a 1d array was expected. Please change the shape of y to (n_samples,), for example using ravel().\n",
      "  return self._fit(X, y)\n",
      "C:\\Users\\JasmineAlbert\\AppData\\Roaming\\Python\\Python39\\site-packages\\sklearn\\neighbors\\_classification.py:207: DataConversionWarning: A column-vector y was passed when a 1d array was expected. Please change the shape of y to (n_samples,), for example using ravel().\n",
      "  return self._fit(X, y)\n",
      "C:\\Users\\JasmineAlbert\\AppData\\Roaming\\Python\\Python39\\site-packages\\sklearn\\neighbors\\_classification.py:207: DataConversionWarning: A column-vector y was passed when a 1d array was expected. Please change the shape of y to (n_samples,), for example using ravel().\n",
      "  return self._fit(X, y)\n",
      "C:\\Users\\JasmineAlbert\\AppData\\Roaming\\Python\\Python39\\site-packages\\sklearn\\neighbors\\_classification.py:207: DataConversionWarning: A column-vector y was passed when a 1d array was expected. Please change the shape of y to (n_samples,), for example using ravel().\n",
      "  return self._fit(X, y)\n",
      "C:\\Users\\JasmineAlbert\\AppData\\Roaming\\Python\\Python39\\site-packages\\sklearn\\neighbors\\_classification.py:207: DataConversionWarning: A column-vector y was passed when a 1d array was expected. Please change the shape of y to (n_samples,), for example using ravel().\n",
      "  return self._fit(X, y)\n",
      "C:\\Users\\JasmineAlbert\\AppData\\Roaming\\Python\\Python39\\site-packages\\sklearn\\neighbors\\_classification.py:207: DataConversionWarning: A column-vector y was passed when a 1d array was expected. Please change the shape of y to (n_samples,), for example using ravel().\n",
      "  return self._fit(X, y)\n",
      "C:\\Users\\JasmineAlbert\\AppData\\Roaming\\Python\\Python39\\site-packages\\sklearn\\neighbors\\_classification.py:207: DataConversionWarning: A column-vector y was passed when a 1d array was expected. Please change the shape of y to (n_samples,), for example using ravel().\n",
      "  return self._fit(X, y)\n",
      "C:\\Users\\JasmineAlbert\\AppData\\Roaming\\Python\\Python39\\site-packages\\sklearn\\neighbors\\_classification.py:207: DataConversionWarning: A column-vector y was passed when a 1d array was expected. Please change the shape of y to (n_samples,), for example using ravel().\n",
      "  return self._fit(X, y)\n",
      "C:\\Users\\JasmineAlbert\\AppData\\Roaming\\Python\\Python39\\site-packages\\sklearn\\neighbors\\_classification.py:207: DataConversionWarning: A column-vector y was passed when a 1d array was expected. Please change the shape of y to (n_samples,), for example using ravel().\n",
      "  return self._fit(X, y)\n",
      "C:\\Users\\JasmineAlbert\\AppData\\Roaming\\Python\\Python39\\site-packages\\sklearn\\neighbors\\_classification.py:207: DataConversionWarning: A column-vector y was passed when a 1d array was expected. Please change the shape of y to (n_samples,), for example using ravel().\n",
      "  return self._fit(X, y)\n",
      "C:\\Users\\JasmineAlbert\\AppData\\Roaming\\Python\\Python39\\site-packages\\sklearn\\neighbors\\_classification.py:207: DataConversionWarning: A column-vector y was passed when a 1d array was expected. Please change the shape of y to (n_samples,), for example using ravel().\n",
      "  return self._fit(X, y)\n",
      "C:\\Users\\JasmineAlbert\\AppData\\Roaming\\Python\\Python39\\site-packages\\sklearn\\neighbors\\_classification.py:207: DataConversionWarning: A column-vector y was passed when a 1d array was expected. Please change the shape of y to (n_samples,), for example using ravel().\n",
      "  return self._fit(X, y)\n",
      "C:\\Users\\JasmineAlbert\\AppData\\Roaming\\Python\\Python39\\site-packages\\sklearn\\neighbors\\_classification.py:207: DataConversionWarning: A column-vector y was passed when a 1d array was expected. Please change the shape of y to (n_samples,), for example using ravel().\n",
      "  return self._fit(X, y)\n",
      "C:\\Users\\JasmineAlbert\\AppData\\Roaming\\Python\\Python39\\site-packages\\sklearn\\neighbors\\_classification.py:207: DataConversionWarning: A column-vector y was passed when a 1d array was expected. Please change the shape of y to (n_samples,), for example using ravel().\n",
      "  return self._fit(X, y)\n",
      "C:\\Users\\JasmineAlbert\\AppData\\Roaming\\Python\\Python39\\site-packages\\sklearn\\neighbors\\_classification.py:207: DataConversionWarning: A column-vector y was passed when a 1d array was expected. Please change the shape of y to (n_samples,), for example using ravel().\n",
      "  return self._fit(X, y)\n",
      "C:\\Users\\JasmineAlbert\\AppData\\Roaming\\Python\\Python39\\site-packages\\sklearn\\neighbors\\_classification.py:207: DataConversionWarning: A column-vector y was passed when a 1d array was expected. Please change the shape of y to (n_samples,), for example using ravel().\n",
      "  return self._fit(X, y)\n",
      "C:\\Users\\JasmineAlbert\\AppData\\Roaming\\Python\\Python39\\site-packages\\sklearn\\neighbors\\_classification.py:207: DataConversionWarning: A column-vector y was passed when a 1d array was expected. Please change the shape of y to (n_samples,), for example using ravel().\n",
      "  return self._fit(X, y)\n"
     ]
    }
   ],
   "source": [
    "# best k\n",
    "#empty list\n",
    "error_rate =[]\n",
    "\n",
    "for i in range(1,40,2):\n",
    "    knn = KNeighborsClassifier(n_neighbors =i) #new classifier for each i\n",
    "    knn.fit(X_train_scaled, y_train_scaled)\n",
    "    pred_i = knn.predict(X_test_scaled)\n",
    "    error_rate.append(np.mean(pred_i!=y_test_scaled)) #error rate with each classifier appended\n",
    "\n"
   ]
  },
  {
   "cell_type": "code",
   "execution_count": 56,
   "id": "a68575ff",
   "metadata": {},
   "outputs": [
    {
     "data": {
      "text/plain": [
       "Text(0, 0.5, 'Error Rate')"
      ]
     },
     "execution_count": 56,
     "metadata": {},
     "output_type": "execute_result"
    },
    {
     "data": {
      "image/png": "[encoded data removed]",
      "text/plain": [
       "<Figure size 720x432 with 1 Axes>"
      ]
     },
     "metadata": {
      "needs_background": "light"
     },
     "output_type": "display_data"
    }
   ],
   "source": [
    "#plotting this data\n",
    "plt.figure(figsize = (10,6))\n",
    "plt.plot(range(1,40,2), error_rate, color = 'b', linestyle = 'dashed', marker = 'o', markerfacecolor = 'r', markersize = 10)\n",
    "plt.title('Error Rate vs. K Value')\n",
    "plt.xlabel('K')\n",
    "plt.ylabel('Error Rate')"
   ]
  },
  {
   "cell_type": "markdown",
   "id": "646ac713",
   "metadata": {},
   "source": [
    "Lowest at K=33"
   ]
  },
  {
   "cell_type": "code",
   "execution_count": 80,
   "id": "113cee5c",
   "metadata": {},
   "outputs": [
    {
     "name": "stderr",
     "output_type": "stream",
     "text": [
      "C:\\Users\\JasmineAlbert\\AppData\\Roaming\\Python\\Python39\\site-packages\\sklearn\\neighbors\\_classification.py:207: DataConversionWarning: A column-vector y was passed when a 1d array was expected. Please change the shape of y to (n_samples,), for example using ravel().\n",
      "  return self._fit(X, y)\n"
     ]
    },
    {
     "data": {
      "text/html": [
       "<style>#sk-container-id-5 {color: black;background-color: white;}#sk-container-id-5 pre{padding: 0;}#sk-container-id-5 div.sk-toggleable {background-color: white;}#sk-container-id-5 label.sk-toggleable__label {cursor: pointer;display: block;width: 100%;margin-bottom: 0;padding: 0.3em;box-sizing: border-box;text-align: center;}#sk-container-id-5 label.sk-toggleable__label-arrow:before {content: \"▸\";float: left;margin-right: 0.25em;color: #696969;}#sk-container-id-5 label.sk-toggleable__label-arrow:hover:before {color: black;}#sk-container-id-5 div.sk-estimator:hover label.sk-toggleable__label-arrow:before {color: black;}#sk-container-id-5 div.sk-toggleable__content {max-height: 0;max-width: 0;overflow: hidden;text-align: left;background-color: #f0f8ff;}#sk-container-id-5 div.sk-toggleable__content pre {margin: 0.2em;color: black;border-radius: 0.25em;background-color: #f0f8ff;}#sk-container-id-5 input.sk-toggleable__control:checked~div.sk-toggleable__content {max-height: 200px;max-width: 100%;overflow: auto;}#sk-container-id-5 input.sk-toggleable__control:checked~label.sk-toggleable__label-arrow:before {content: \"▾\";}#sk-container-id-5 div.sk-estimator input.sk-toggleable__control:checked~label.sk-toggleable__label {background-color: #d4ebff;}#sk-container-id-5 div.sk-label input.sk-toggleable__control:checked~label.sk-toggleable__label {background-color: #d4ebff;}#sk-container-id-5 input.sk-hidden--visually {border: 0;clip: rect(1px 1px 1px 1px);clip: rect(1px, 1px, 1px, 1px);height: 1px;margin: -1px;overflow: hidden;padding: 0;position: absolute;width: 1px;}#sk-container-id-5 div.sk-estimator {font-family: monospace;background-color: #f0f8ff;border: 1px dotted black;border-radius: 0.25em;box-sizing: border-box;margin-bottom: 0.5em;}#sk-container-id-5 div.sk-estimator:hover {background-color: #d4ebff;}#sk-container-id-5 div.sk-parallel-item::after {content: \"\";width: 100%;border-bottom: 1px solid gray;flex-grow: 1;}#sk-container-id-5 div.sk-label:hover label.sk-toggleable__label {background-color: #d4ebff;}#sk-container-id-5 div.sk-serial::before {content: \"\";position: absolute;border-left: 1px solid gray;box-sizing: border-box;top: 0;bottom: 0;left: 50%;z-index: 0;}#sk-container-id-5 div.sk-serial {display: flex;flex-direction: column;align-items: center;background-color: white;padding-right: 0.2em;padding-left: 0.2em;position: relative;}#sk-container-id-5 div.sk-item {position: relative;z-index: 1;}#sk-container-id-5 div.sk-parallel {display: flex;align-items: stretch;justify-content: center;background-color: white;position: relative;}#sk-container-id-5 div.sk-item::before, #sk-container-id-5 div.sk-parallel-item::before {content: \"\";position: absolute;border-left: 1px solid gray;box-sizing: border-box;top: 0;bottom: 0;left: 50%;z-index: -1;}#sk-container-id-5 div.sk-parallel-item {display: flex;flex-direction: column;z-index: 1;position: relative;background-color: white;}#sk-container-id-5 div.sk-parallel-item:first-child::after {align-self: flex-end;width: 50%;}#sk-container-id-5 div.sk-parallel-item:last-child::after {align-self: flex-start;width: 50%;}#sk-container-id-5 div.sk-parallel-item:only-child::after {width: 0;}#sk-container-id-5 div.sk-dashed-wrapped {border: 1px dashed gray;margin: 0 0.4em 0.5em 0.4em;box-sizing: border-box;padding-bottom: 0.4em;background-color: white;}#sk-container-id-5 div.sk-label label {font-family: monospace;font-weight: bold;display: inline-block;line-height: 1.2em;}#sk-container-id-5 div.sk-label-container {text-align: center;}#sk-container-id-5 div.sk-container {/* jupyter's `normalize.less` sets `[hidden] { display: none; }` but bootstrap.min.css set `[hidden] { display: none !important; }` so we also need the `!important` here to be able to override the default hidden behavior on the sphinx rendered scikit-learn.org. See: https://github.com/scikit-learn/scikit-learn/issues/21755 */display: inline-block !important;position: relative;}#sk-container-id-5 div.sk-text-repr-fallback {display: none;}</style><div id=\"sk-container-id-5\" class=\"sk-top-container\"><div class=\"sk-text-repr-fallback\"><pre>KNeighborsClassifier(metric=&#x27;euclidean&#x27;, n_neighbors=33)</pre><b>In a Jupyter environment, please rerun this cell to show the HTML representation or trust the notebook. <br />On GitHub, the HTML representation is unable to render, please try loading this page with nbviewer.org.</b></div><div class=\"sk-container\" hidden><div class=\"sk-item\"><div class=\"sk-estimator sk-toggleable\"><input class=\"sk-toggleable__control sk-hidden--visually\" id=\"sk-estimator-id-5\" type=\"checkbox\" checked><label for=\"sk-estimator-id-5\" class=\"sk-toggleable__label sk-toggleable__label-arrow\">KNeighborsClassifier</label><div class=\"sk-toggleable__content\"><pre>KNeighborsClassifier(metric=&#x27;euclidean&#x27;, n_neighbors=33)</pre></div></div></div></div></div>"
      ],
      "text/plain": [
       "KNeighborsClassifier(metric='euclidean', n_neighbors=33)"
      ]
     },
     "execution_count": 80,
     "metadata": {},
     "output_type": "execute_result"
    }
   ],
   "source": [
    "# try with k=33\n",
    "#define the classifier\n",
    "classifieropt_new = KNeighborsClassifier(n_neighbors =33, metric = 'euclidean')\n",
    "\n",
    "# Train classifier\n",
    "classifieropt_new.fit(X_train_scaled, y_train_scaled)\n",
    "classifieropt_new"
   ]
  },
  {
   "cell_type": "code",
   "execution_count": 81,
   "id": "829f2b3f",
   "metadata": {},
   "outputs": [],
   "source": [
    "#set the predictions\n",
    "y_kopt_pred_new = classifieropt_new.predict(X_test_scaled)"
   ]
  },
  {
   "cell_type": "markdown",
   "id": "6c57f420",
   "metadata": {},
   "source": [
    "Metrics: F1 score, accuracy, confusion matrix"
   ]
  },
  {
   "cell_type": "code",
   "execution_count": 82,
   "id": "c8ee166d",
   "metadata": {},
   "outputs": [
    {
     "name": "stdout",
     "output_type": "stream",
     "text": [
      "0.6574394463667821 0.6541737649063032\n"
     ]
    }
   ],
   "source": [
    "print(f1_score(y_test, y_kopt_pred_new), f1_score(y_test, y_kpred_new))"
   ]
  },
  {
   "cell_type": "code",
   "execution_count": 83,
   "id": "334fac1e",
   "metadata": {},
   "outputs": [
    {
     "name": "stdout",
     "output_type": "stream",
     "text": [
      "0.6759410801963993 0.6677577741407529\n"
     ]
    }
   ],
   "source": [
    "print(accuracy_score(y_test, y_kopt_pred_new), accuracy_score(y_test, y_kpred_new))"
   ]
  },
  {
   "cell_type": "code",
   "execution_count": 87,
   "id": "0c99a287",
   "metadata": {},
   "outputs": [
    {
     "name": "stdout",
     "output_type": "stream",
     "text": [
      "[[223  87]\n",
      " [111 190]] \n",
      " [[216  94]\n",
      " [109 192]]\n"
     ]
    }
   ],
   "source": [
    "print(confusion_matrix(y_test, y_kopt_pred_new),'\\n', confusion_matrix(y_test, y_kpred_new))"
   ]
  },
  {
   "cell_type": "markdown",
   "id": "d16a48d4",
   "metadata": {},
   "source": [
    "New is better"
   ]
  },
  {
   "cell_type": "code",
   "execution_count": 89,
   "id": "710bc54f",
   "metadata": {},
   "outputs": [],
   "source": [
    "#new undersampled scaled data\n",
    "X_under_scaled_new = scaler.fit_transform(X_under.drop(columns = ['worst_position', 'total_time', 'max_consecutive', 'reentry']))\n",
    "y_under_scaled_new = scaler.fit_transform(y_under).ravel()"
   ]
  },
  {
   "cell_type": "code",
   "execution_count": 91,
   "id": "a7143dda",
   "metadata": {},
   "outputs": [],
   "source": [
    "#cross validation as above\n",
    "cv = RepeatedKFold(n_splits=10, n_repeats=3, random_state=42)\n",
    "score_mc = ['f1', 'accuracy']\n",
    "score_knn_new = cross_validate(classifieropt_new, X_under_scaled_new, y_under_scaled_new, cv = cv, scoring = score_mc )"
   ]
  },
  {
   "cell_type": "markdown",
   "id": "99385179",
   "metadata": {},
   "source": [
    "## Random forest"
   ]
  },
  {
   "cell_type": "code",
   "execution_count": 37,
   "id": "ae6e802a",
   "metadata": {},
   "outputs": [
    {
     "name": "stderr",
     "output_type": "stream",
     "text": [
      "C:\\Users\\JasmineAlbert\\AppData\\Local\\Temp\\ipykernel_7720\\2630015733.py:5: DataConversionWarning: A column-vector y was passed when a 1d array was expected. Please change the shape of y to (n_samples,), for example using ravel().\n",
      "  rf_new.fit(X_train_scaled, y_train_scaled)\n"
     ]
    }
   ],
   "source": [
    "from sklearn.ensemble import RandomForestClassifier\n",
    "# making classifier object\n",
    "rf_new = RandomForestClassifier(n_jobs = 1, random_state = 42)\n",
    "# training classifier\n",
    "rf_new.fit(X_train_scaled, y_train_scaled)\n",
    "#predict\n",
    "pred_rf_new = rf_new.predict(X_test_scaled)"
   ]
  },
  {
   "cell_type": "markdown",
   "id": "42e63cad",
   "metadata": {},
   "source": [
    "Metrics: F1 score, accuracy, confusion matrix"
   ]
  },
  {
   "cell_type": "code",
   "execution_count": 65,
   "id": "dc4283bf",
   "metadata": {},
   "outputs": [
    {
     "data": {
      "text/plain": [
       "array([[220,  90],\n",
       "       [105, 196]], dtype=int64)"
      ]
     },
     "execution_count": 65,
     "metadata": {},
     "output_type": "execute_result"
    }
   ],
   "source": [
    "confusion_matrix(y_test, pred_rf_new)"
   ]
  },
  {
   "cell_type": "code",
   "execution_count": 66,
   "id": "c694615c",
   "metadata": {},
   "outputs": [
    {
     "name": "stdout",
     "output_type": "stream",
     "text": [
      "0.667802385008518 0.6808510638297872\n"
     ]
    }
   ],
   "source": [
    "print(f1_score(y_test, pred_rf_new), accuracy_score(y_test, pred_rf_new))"
   ]
  },
  {
   "cell_type": "code",
   "execution_count": 67,
   "id": "0c8c5064",
   "metadata": {},
   "outputs": [],
   "source": [
    "#finding the cross val scores\n",
    "score_rf_new = cross_validate(rf_new, X_under_scaled_new, y_under_scaled_new, cv = cv, scoring = score_mc )"
   ]
  },
  {
   "cell_type": "markdown",
   "id": "6668cbe8",
   "metadata": {},
   "source": [
    "## Decision tree"
   ]
  },
  {
   "cell_type": "code",
   "execution_count": 38,
   "id": "4eeda779",
   "metadata": {},
   "outputs": [],
   "source": [
    "from sklearn.tree import DecisionTreeClassifier\n",
    "#define classifier\n",
    "dtree_new = DecisionTreeClassifier()\n",
    "#train classifier\n",
    "dtree_new.fit(X_train_scaled, y_train_scaled)\n",
    "#predict\n",
    "pred_dt_new = dtree_new.predict(X_test_scaled)"
   ]
  },
  {
   "cell_type": "code",
   "execution_count": 69,
   "id": "3324a620",
   "metadata": {},
   "outputs": [
    {
     "data": {
      "text/plain": [
       "<function matplotlib.pyplot.show(close=None, block=None)>"
      ]
     },
     "execution_count": 69,
     "metadata": {},
     "output_type": "execute_result"
    },
    {
     "data": {
      "image/png": "[encoded data removed]",
      "text/plain": [
       "<Figure size 720x432 with 1 Axes>"
      ]
     },
     "metadata": {
      "needs_background": "light"
     },
     "output_type": "display_data"
    }
   ],
   "source": [
    "#create graph showing importance of each column\n",
    "importances = dtree_new.feature_importances_\n",
    "indices = np.argsort(importances)\n",
    "fig, axes = plt.subplots(figsize = (10,6))\n",
    "plt.title('Feature importances')\n",
    "plt.barh(range(len(indices)),importances[indices],color='#ff7babff')\n",
    "plt.yticks(range(len(indices)),[X_train_new.columns[:][i] for i in indices])\n",
    "plt.xlabel('Relative importance')\n",
    "plt.show"
   ]
  },
  {
   "cell_type": "markdown",
   "id": "e3a32f08",
   "metadata": {},
   "source": [
    "Metrics: F1 score, accuracy, confusion matrix"
   ]
  },
  {
   "cell_type": "code",
   "execution_count": 70,
   "id": "4cd19ba0",
   "metadata": {},
   "outputs": [
    {
     "name": "stdout",
     "output_type": "stream",
     "text": [
      "0.6019417475728156 0.5973813420621932\n"
     ]
    }
   ],
   "source": [
    "print(f1_score(y_test, pred_dt_new), accuracy_score(y_test, pred_dt_new))"
   ]
  },
  {
   "cell_type": "code",
   "execution_count": 92,
   "id": "2b08ba98",
   "metadata": {},
   "outputs": [
    {
     "data": {
      "text/plain": [
       "array([[179, 131],\n",
       "       [115, 186]], dtype=int64)"
      ]
     },
     "execution_count": 92,
     "metadata": {},
     "output_type": "execute_result"
    }
   ],
   "source": [
    "confusion_matrix(y_test, pred_dt_new)"
   ]
  },
  {
   "cell_type": "code",
   "execution_count": 71,
   "id": "6ee88ae0",
   "metadata": {},
   "outputs": [],
   "source": [
    "#cross val score\n",
    "score_dt_new = cross_validate(dtree_new, X_under_scaled_new, y_under_scaled_new, cv = cv, scoring = score_mc )"
   ]
  },
  {
   "cell_type": "markdown",
   "id": "eb746102",
   "metadata": {},
   "source": [
    "### Create table from these cross validation scores"
   ]
  },
  {
   "cell_type": "code",
   "execution_count": 93,
   "id": "b74fd359",
   "metadata": {},
   "outputs": [],
   "source": [
    "#separate to lists\n",
    "f1_scores_new = [np.mean(score_knn_new['test_f1']), np.mean(score_rf_new['test_f1']), np.mean(score_dt_new['test_f1'])]\n",
    "methods_class_new = ['KNN', 'Random Forest', 'Decision tree']\n",
    "accur_new = [np.mean(score_knn_new['test_accuracy']), np.mean(score_rf_new['test_accuracy']), np.mean(score_dt_new['test_accuracy'])]"
   ]
  },
  {
   "cell_type": "code",
   "execution_count": 94,
   "id": "25390901",
   "metadata": {},
   "outputs": [],
   "source": [
    "#create dataframe\n",
    "class_eval_new = pd.DataFrame({\n",
    "    'Classification Method': methods_class_new,\n",
    "    'F1 Score': f1_scores_new,\n",
    "    'Accuracy': accur_new\n",
    "})"
   ]
  },
  {
   "cell_type": "code",
   "execution_count": 95,
   "id": "074f9f6a",
   "metadata": {},
   "outputs": [
    {
     "data": {
      "text/html": [
       "<div>\n",
       "<style scoped>\n",
       "    .dataframe tbody tr th:only-of-type {\n",
       "        vertical-align: middle;\n",
       "    }\n",
       "\n",
       "    .dataframe tbody tr th {\n",
       "        vertical-align: top;\n",
       "    }\n",
       "\n",
       "    .dataframe thead th {\n",
       "        text-align: right;\n",
       "    }\n",
       "</style>\n",
       "<table border=\"1\" class=\"dataframe\">\n",
       "  <thead>\n",
       "    <tr style=\"text-align: right;\">\n",
       "      <th></th>\n",
       "      <th>Classification Method</th>\n",
       "      <th>F1 Score</th>\n",
       "      <th>Accuracy</th>\n",
       "    </tr>\n",
       "  </thead>\n",
       "  <tbody>\n",
       "    <tr>\n",
       "      <th>0</th>\n",
       "      <td>KNN</td>\n",
       "      <td>0.665540</td>\n",
       "      <td>0.670738</td>\n",
       "    </tr>\n",
       "    <tr>\n",
       "      <th>1</th>\n",
       "      <td>Random Forest</td>\n",
       "      <td>0.664547</td>\n",
       "      <td>0.671413</td>\n",
       "    </tr>\n",
       "    <tr>\n",
       "      <th>2</th>\n",
       "      <td>Decision tree</td>\n",
       "      <td>0.605443</td>\n",
       "      <td>0.601843</td>\n",
       "    </tr>\n",
       "  </tbody>\n",
       "</table>\n",
       "</div>"
      ],
      "text/plain": [
       "  Classification Method  F1 Score  Accuracy\n",
       "0                   KNN  0.665540  0.670738\n",
       "1         Random Forest  0.664547  0.671413\n",
       "2         Decision tree  0.605443  0.601843"
      ]
     },
     "execution_count": 95,
     "metadata": {},
     "output_type": "execute_result"
    }
   ],
   "source": [
    "#show dataframe\n",
    "class_eval_new"
   ]
  },
  {
   "cell_type": "code",
   "execution_count": 29,
   "id": "970a0e56",
   "metadata": {},
   "outputs": [],
   "source": [
    "#testing with the same manually inputted data\n",
    "test_X_new = [969, result['tracks']['items'][0]['duration_ms'], result['tracks']['items'][0]['explicit'], result['tracks']['items'][0]['popularity'], 12]\n",
    "test_y_new = 0\n",
    "test_X_new = np.reshape(test_X_new, (-1,1))"
   ]
  },
  {
   "cell_type": "code",
   "execution_count": 39,
   "id": "1abb961a",
   "metadata": {},
   "outputs": [],
   "source": [
    "#scaling the new data\n",
    "scaler = MinMaxScaler()\n",
    "test_X_scaled = scaler.fit_transform(test_X_new)\n",
    "test_X_scaled = test_X_scaled.reshape(1,-1)\n",
    "#predicting with this inputted data\n",
    "knn_new_pred = classifier_new.predict(test_X_scaled)\n",
    "rf_new_pred = rf_new.predict(test_X_scaled)\n",
    "dt_new_pred = dtree_new.predict(test_X_scaled)"
   ]
  },
  {
   "cell_type": "code",
   "execution_count": 41,
   "id": "7c54b3ad",
   "metadata": {},
   "outputs": [
    {
     "name": "stdout",
     "output_type": "stream",
     "text": [
      "[1.] [0.] [1.]\n"
     ]
    }
   ],
   "source": [
    "#print the predictions\n",
    "print(knn_new_pred, rf_new_pred, dt_new_pred)"
   ]
  },
  {
   "cell_type": "markdown",
   "id": "ac0f86b9",
   "metadata": {},
   "source": [
    "Only one got this correct: random forest"
   ]
  },
  {
   "cell_type": "markdown",
   "id": "f9681fff",
   "metadata": {},
   "source": [
    "## End of code"
   ]
  }
 ],
 "metadata": {
  "kernelspec": {
   "display_name": "Python 3 (ipykernel)",
   "language": "python",
   "name": "python3"
  },
  "language_info": {
   "codemirror_mode": {
    "name": "ipython",
    "version": 3
   },
   "file_extension": ".py",
   "mimetype": "text/x-python",
   "name": "python",
   "nbconvert_exporter": "python",
   "pygments_lexer": "ipython3",
   "version": "3.9.12"
  }
 },
 "nbformat": 4,
 "nbformat_minor": 5
}
